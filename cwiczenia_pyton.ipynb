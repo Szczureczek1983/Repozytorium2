{
  "nbformat": 4,
  "nbformat_minor": 0,
  "metadata": {
    "colab": {
      "name": "Untitled5.ipynb",
      "provenance": [],
      "authorship_tag": "ABX9TyOJRgERS3mbbGcV6Qd9voSW",
      "include_colab_link": true
    },
    "kernelspec": {
      "name": "python3",
      "display_name": "Python 3"
    },
    "language_info": {
      "name": "python"
    }
  },
  "cells": [
    {
      "cell_type": "markdown",
      "metadata": {
        "id": "view-in-github",
        "colab_type": "text"
      },
      "source": [
        "<a href=\"https://colab.research.google.com/github/Szczureczek1983/Repozytorium2/blob/main/cwiczenia_pyton.ipynb\" target=\"_parent\"><img src=\"https://colab.research.google.com/assets/colab-badge.svg\" alt=\"Open In Colab\"/></a>"
      ]
    },
    {
      "cell_type": "markdown",
      "source": [
        "1. Drukuje napis o określonym formacie wcięć"
      ],
      "metadata": {
        "id": "E8VZ9d60TR4p"
      }
    },
    {
      "cell_type": "code",
      "execution_count": null,
      "metadata": {
        "colab": {
          "base_uri": "https://localhost:8080/"
        },
        "id": "kSjcUCEEMwPO",
        "outputId": "9ca90589-1496-4635-fdca-241c533cdef6"
      },
      "outputs": [
        {
          "output_type": "stream",
          "name": "stdout",
          "text": [
            "Twinkle, twinkle, litle star, \n",
            "\tHow I wonder what you are\n",
            "\t\tup above the world so high\n",
            "\t\tlike a diamond in the sky.\n",
            "Twinkle, Twinkle, little star\n",
            "\tHow I wonder what you are!\n"
          ]
        }
      ],
      "source": [
        "print(\"Twinkle, twinkle, litle star, \\n\\tHow I wonder what you are\\n\\t\\tup above the world so high\\n\\t\\tlike a diamond in the sky.\\nTwinkle, Twinkle, little star\\n\\tHow I wonder what you are!\")"
      ]
    },
    {
      "cell_type": "markdown",
      "source": [
        "2. Drukuje aktualną wersję Pythona"
      ],
      "metadata": {
        "id": "6KtnvsDhVFMK"
      }
    },
    {
      "cell_type": "code",
      "source": [
        "import sys\n",
        "print(\"Python version\")\n",
        "print(sys.version)\n",
        "print(sys.version_info)"
      ],
      "metadata": {
        "colab": {
          "base_uri": "https://localhost:8080/"
        },
        "id": "leJLGBtNTKq-",
        "outputId": "8a7dfe4b-684e-4e50-bf6a-9f32d6ff1a67"
      },
      "execution_count": null,
      "outputs": [
        {
          "output_type": "stream",
          "name": "stdout",
          "text": [
            "Python version\n",
            "3.7.13 (default, Mar 16 2022, 17:37:17) \n",
            "[GCC 7.5.0]\n",
            "sys.version_info(major=3, minor=7, micro=13, releaselevel='final', serial=0)\n"
          ]
        }
      ]
    },
    {
      "cell_type": "code",
      "source": [
        "import platform\n",
        "print(platform.python_version)"
      ],
      "metadata": {
        "colab": {
          "base_uri": "https://localhost:8080/"
        },
        "id": "AAKoxTXMUb38",
        "outputId": "2716bc2b-aed1-4c96-814d-ef967f27e73d"
      },
      "execution_count": null,
      "outputs": [
        {
          "output_type": "stream",
          "name": "stdout",
          "text": [
            "<function python_version at 0x7f6ae2f39b00>\n"
          ]
        }
      ]
    },
    {
      "cell_type": "code",
      "source": [
        ""
      ],
      "metadata": {
        "id": "1Ms1QKHzV6x8"
      },
      "execution_count": null,
      "outputs": []
    },
    {
      "cell_type": "markdown",
      "source": [
        "3. Drukowanie daty i godziny"
      ],
      "metadata": {
        "id": "kjWMJCViV_TK"
      }
    },
    {
      "cell_type": "code",
      "source": [
        "import datetime"
      ],
      "metadata": {
        "id": "iby_R5zFWCFk"
      },
      "execution_count": null,
      "outputs": []
    },
    {
      "cell_type": "code",
      "source": [
        "now = datetime.datetime.now()"
      ],
      "metadata": {
        "id": "vzFxNa7hWE4J"
      },
      "execution_count": null,
      "outputs": []
    },
    {
      "cell_type": "code",
      "source": [
        "print(\"Current date and time: \")\n",
        "print(now.strftime(\"%Y-%m-%d %H:%M:%S\"))"
      ],
      "metadata": {
        "colab": {
          "base_uri": "https://localhost:8080/"
        },
        "id": "14MRCJG4WMsu",
        "outputId": "34353c29-4b4b-41ba-b0dc-476d3d769ec6"
      },
      "execution_count": null,
      "outputs": [
        {
          "output_type": "stream",
          "name": "stdout",
          "text": [
            "Current date and time: \n",
            "2022-04-14 12:12:29\n"
          ]
        }
      ]
    },
    {
      "cell_type": "code",
      "source": [
        "import time\n",
        "lt = time.localtime()\n",
        "d = lt.tm_mday\n",
        "Y = lt.tm_year\n",
        "m = lt.tm_mon\n",
        "H = lt.tm_hour\n",
        "M = lt.tm_min\n",
        "S = lt.tm_sec\n",
        "print(\"Current date and time: \")\n",
        "print(d,m,Y, sep=(\"/\"))\n",
        "print(H,M,S, sep =(\":\"))"
      ],
      "metadata": {
        "colab": {
          "base_uri": "https://localhost:8080/"
        },
        "id": "deHhhJOcW3gC",
        "outputId": "8b3be349-3c2a-45c9-d5f2-c74abe6a5013"
      },
      "execution_count": null,
      "outputs": [
        {
          "output_type": "stream",
          "name": "stdout",
          "text": [
            "Current date and time: \n",
            "14/4/2022\n",
            "12:12:29\n"
          ]
        }
      ]
    },
    {
      "cell_type": "markdown",
      "source": [
        "4. Wyliczanie pola powierzchni koła z podanego przez urzytkownika promienia"
      ],
      "metadata": {
        "id": "c3Jh804gZ3zq"
      }
    },
    {
      "cell_type": "code",
      "source": [
        "import math\n",
        "from math import *\n",
        "r = float(input(\"Podaj promień: \"))\n",
        "print(f\"Dla podanego promienia {r} pole powierzchni koła wynosi {pi*r**2}\")\n",
        "print(f\"Dla podanego promienia {r} obwód koła wynosi {2*pi*r}\")"
      ],
      "metadata": {
        "colab": {
          "base_uri": "https://localhost:8080/"
        },
        "id": "ES0jLTjtYphB",
        "outputId": "249e82ee-8b5e-4cf7-d37c-08af32f25911"
      },
      "execution_count": null,
      "outputs": [
        {
          "output_type": "stream",
          "name": "stdout",
          "text": [
            "Podaj promień: 2\n",
            "Dla podanego promienia 2.0 pole powierzchni koła wynosi 12.566370614359172\n",
            "Dla podanego promienia 2.0 obwód koła wynosi 12.566370614359172\n"
          ]
        }
      ]
    },
    {
      "cell_type": "markdown",
      "source": [
        "Drukowanie imienia i nazwiska wpisywanego z klawiatury w odwróconej kolejności"
      ],
      "metadata": {
        "id": "jTyYYticcT94"
      }
    },
    {
      "cell_type": "code",
      "source": [
        "fname = str(input(\"Podaj swoje imię: \"))\n",
        "lname = str(input(\"Podaj swoje nazwisko: \"))\n",
        "print(f\"Witaj {lname} {fname}\")"
      ],
      "metadata": {
        "colab": {
          "base_uri": "https://localhost:8080/"
        },
        "id": "bqQK7Z2Mac8D",
        "outputId": "fd2ab496-7884-46ff-bbfc-f93ffad62552"
      },
      "execution_count": null,
      "outputs": [
        {
          "output_type": "stream",
          "name": "stdout",
          "text": [
            "Podaj swoje imię: Andrzej\n",
            "Podaj swoje nazwisko: szczirek\n",
            "Witaj szczirek Andrzej\n"
          ]
        }
      ]
    },
    {
      "cell_type": "markdown",
      "source": [
        "5. Tworzenie listy i tupli"
      ],
      "metadata": {
        "id": "YzT24MxZ3bfv"
      }
    },
    {
      "cell_type": "code",
      "source": [
        "value = input(\"Input some comma seprated numbers : \").split(\",\")\n",
        "lst_list = list(value)\n",
        "Tpl_tuple = tuple(value)\n",
        "print('Lista : ',lst_list)\n",
        "# print('Tuple : ',Tpl_tuple)"
      ],
      "metadata": {
        "id": "PF-1pEjlAcSm",
        "colab": {
          "base_uri": "https://localhost:8080/"
        },
        "outputId": "b57f9afb-8d26-4731-9eb3-7f6052aecdcd"
      },
      "execution_count": null,
      "outputs": [
        {
          "output_type": "stream",
          "name": "stdout",
          "text": [
            "Input some comma seprated numbers : 1,3,4,5\n",
            "Lista :  ['1', '3', '4', '5']\n"
          ]
        }
      ]
    },
    {
      "cell_type": "markdown",
      "source": [
        "6. Wybieramy pierwszy i ostatni kolor z listy"
      ],
      "metadata": {
        "id": "cYsn0_Z3Eq3I"
      }
    },
    {
      "cell_type": "code",
      "source": [
        "col_list = ['Red','Green','Blue','Yellow','Black','Margenta']\n",
        "print(f\"{col_list[0]}, {col_list[-2]}\")"
      ],
      "metadata": {
        "colab": {
          "base_uri": "https://localhost:8080/"
        },
        "id": "l48Jd7H3AcUE",
        "outputId": "048cfaf8-76c9-4183-d21d-6ce52a392e17"
      },
      "execution_count": null,
      "outputs": [
        {
          "output_type": "stream",
          "name": "stdout",
          "text": [
            "Red, Black\n"
          ]
        }
      ]
    },
    {
      "cell_type": "code",
      "source": [
        "exam_st_date= (12,6,2003)\n",
        "print(f\"Egzamin zaplanowany jest na {exam_st_date[0]}/{exam_st_date[1]}/{exam_st_date[2]} roku\")"
      ],
      "metadata": {
        "colab": {
          "base_uri": "https://localhost:8080/"
        },
        "id": "dGaRtOwnAcXp",
        "outputId": "d83a4837-f81c-4265-b4eb-3ab2d91963a0"
      },
      "execution_count": null,
      "outputs": [
        {
          "output_type": "stream",
          "name": "stdout",
          "text": [
            "Egzamin zaplanowany jest na 12/6/2003 roku\n"
          ]
        }
      ]
    },
    {
      "cell_type": "markdown",
      "source": [
        ""
      ],
      "metadata": {
        "id": "1x4RAaWs_iKG"
      }
    },
    {
      "cell_type": "code",
      "source": [
        "a = int(input(\"Podaj liczbę całkowitą: \"))\n",
        "b = int(input(\"Podaj liczbę całkowitą: \"))\n",
        "n1 = int(\"%s\" %a)\n",
        "n2 = int(\"%s%s%s\" % (b,a,b))\n",
        "n3 = int(\"%s%s%s\" %(a,a,b))\n",
        "print(n1,n2,n3)\n",
        "print(n1+n2+n3)"
      ],
      "metadata": {
        "id": "vP8h6vsqAcZV",
        "colab": {
          "base_uri": "https://localhost:8080/"
        },
        "outputId": "c4c8ce07-749d-47c2-e83f-2a9290fcfe5e"
      },
      "execution_count": null,
      "outputs": [
        {
          "output_type": "stream",
          "name": "stdout",
          "text": [
            "Podaj liczbę całkowitą: 1\n",
            "Podaj liczbę całkowitą: 2\n",
            "1 212 112\n",
            "325\n"
          ]
        }
      ]
    },
    {
      "cell_type": "code",
      "source": [
        "import calendar\n",
        "Y = int(input(\"Podaj rok: \"))\n",
        "m = int(input(\"Podaj miesiąc: \"))\n",
        "print(calendar.month(Y,m))"
      ],
      "metadata": {
        "id": "W2onC3p4AceK",
        "colab": {
          "base_uri": "https://localhost:8080/"
        },
        "outputId": "fa146fe1-b72c-4050-d47e-62c8d70bc678"
      },
      "execution_count": null,
      "outputs": [
        {
          "output_type": "stream",
          "name": "stdout",
          "text": [
            "Podaj rok: 1986\n",
            "Podaj miesiąc: 10\n",
            "    October 1986\n",
            "Mo Tu We Th Fr Sa Su\n",
            "       1  2  3  4  5\n",
            " 6  7  8  9 10 11 12\n",
            "13 14 15 16 17 18 19\n",
            "20 21 22 23 24 25 26\n",
            "27 28 29 30 31\n",
            "\n"
          ]
        }
      ]
    },
    {
      "cell_type": "code",
      "source": [
        "from datetime import date\n",
        "print(\"Pierwsza data\")\n",
        "Y1 = int(input(\"Podaj Rok:\"))\n",
        "M1 = int(input('Podaj miesiąc:'))\n",
        "D1 = int(input(('Podaj dzień: ')))\n",
        "Data_1 = date(Y1,M1,D1)\n",
        "print(\"Druga data\")\n",
        "Y2 = int(input(\"Podaj Rok:\"))\n",
        "M2 = int(input('Podaj miesiąc:'))\n",
        "D2 = int(input(('Podaj dzień: ')))\n",
        "Data_2 = date(Y2,M2,D2)\n",
        "delta = Data_2 - Data_1\n",
        "print(f\"Różnica pomiędzy {Data_2} a {Data_1} wynosi {delta} \")\n"
      ],
      "metadata": {
        "id": "8s_V4VyOAcnY",
        "colab": {
          "base_uri": "https://localhost:8080/"
        },
        "outputId": "c96f598f-7b3b-40b9-a037-19e3aa5d3c71"
      },
      "execution_count": null,
      "outputs": [
        {
          "output_type": "stream",
          "name": "stdout",
          "text": [
            "Pierwsza data\n",
            "Podaj Rok:1983\n",
            "Podaj miesiąc:1\n",
            "Podaj dzień: 5\n",
            "Druga data\n",
            "Podaj Rok:2022\n",
            "Podaj miesiąc:4\n",
            "Podaj dzień: 20\n",
            "Różnica pomiędzy 2022-04-20 a 1983-01-05 wynosi 14350 days, 0:00:00 \n"
          ]
        }
      ]
    },
    {
      "cell_type": "code",
      "source": [
        "from math import *\n",
        "r = float(input(\"podaj promień: \"))\n",
        "V = 4/3*pi*r**3\n",
        "print(f\"Objętość sfery o promieniu {r} wynosi {V}\")\n"
      ],
      "metadata": {
        "colab": {
          "base_uri": "https://localhost:8080/"
        },
        "id": "H8Oxzh2byZ_Z",
        "outputId": "295dbf4e-833f-4f23-cf9d-a00577c9f795"
      },
      "execution_count": null,
      "outputs": [
        {
          "output_type": "stream",
          "name": "stdout",
          "text": [
            "podaj promień: 3.45\n",
            "Objętość sfery o promieniu 3.45 wynosi 172.0069101730216\n"
          ]
        }
      ]
    },
    {
      "cell_type": "code",
      "source": [
        "n = float(input(\"Podaj liczbę: \"))\n",
        "def difference(n):\n",
        "  if n <= 17:\n",
        "    return 17 - n\n",
        "  else:\n",
        "    return (n-17)*2\n",
        "print(difference(n))"
      ],
      "metadata": {
        "colab": {
          "base_uri": "https://localhost:8080/"
        },
        "id": "HBRwGDc60lWZ",
        "outputId": "73c023e7-61f3-43d8-db8e-66e7c2d673ac"
      },
      "execution_count": null,
      "outputs": [
        {
          "output_type": "stream",
          "name": "stdout",
          "text": [
            "Podaj liczbę: 16.9\n",
            "0.10000000000000142\n"
          ]
        }
      ]
    },
    {
      "cell_type": "code",
      "source": [
        "a = int(input(\"Podaj a: \"))\n",
        "b = int(input(\"Podaj b: \"))\n",
        "c = int(input(\"Podaj c: \"))\n",
        "def suma_liczb(n):\n",
        "  if a == b == c:\n",
        "    n = ((a+b+c)*3)\n",
        "    return n\n",
        "  else:\n",
        "    n = a+ b + c\n",
        "    return n\n",
        "print()\n",
        "print(f\"Suma liczb wynosi {suma_liczb(n)}\") "
      ],
      "metadata": {
        "colab": {
          "base_uri": "https://localhost:8080/"
        },
        "id": "9BXmWiV93BRZ",
        "outputId": "aeb4baba-41ca-429c-e77a-e34c2e9a1d1d"
      },
      "execution_count": null,
      "outputs": [
        {
          "output_type": "stream",
          "name": "stdout",
          "text": [
            "Podaj a: 2\n",
            "Podaj b: 3\n",
            "Podaj c: 4\n",
            "\n",
            "Suma liczb wynosi 9\n"
          ]
        }
      ]
    },
    {
      "cell_type": "code",
      "source": [
        "def larger_String(str, n):\n",
        "  result = \"\"\n",
        "  for i in range(n):\n",
        "    result = result + str\n",
        "  return result\n",
        "print(larger_String(\"abs \", 3))\n",
        "print(larger_String(\".py\", 23))"
      ],
      "metadata": {
        "colab": {
          "base_uri": "https://localhost:8080/"
        },
        "id": "N9_VZ6qm-MWF",
        "outputId": "bcf1c170-296f-414b-92c8-804d101a9c56"
      },
      "execution_count": null,
      "outputs": [
        {
          "output_type": "stream",
          "name": "stdout",
          "text": [
            "abs abs abs \n",
            ".py.py.py.py.py.py.py.py.py.py.py.py.py.py.py.py.py.py.py.py.py.py.py\n"
          ]
        }
      ]
    },
    {
      "cell_type": "code",
      "source": [
        "num = int(input(\"Podaj liczbę: \"))\n",
        "mod = num%2\n",
        "if mod > 0:\n",
        "  print(\"Liczba nieparzysta\")\n",
        "else:\n",
        "  print(\"Liczba parzysta\")"
      ],
      "metadata": {
        "colab": {
          "base_uri": "https://localhost:8080/"
        },
        "id": "11tEQBN6KMYl",
        "outputId": "bb53e714-63f6-48ca-b2c8-b268c7958b14"
      },
      "execution_count": null,
      "outputs": [
        {
          "output_type": "stream",
          "name": "stdout",
          "text": [
            "Podaj liczbę: 3\n",
            "Liczba nieparzysta\n"
          ]
        }
      ]
    },
    {
      "cell_type": "code",
      "source": [
        "\n",
        "Lista_1 = [1,3,4,5,67,4,5,6,7,89,3,4,5,65,78,4.,5,6,67,87,78]\n",
        "print(Lista_1)\n",
        "\n",
        "e = int(input(\"Podaj liczbę: \"))\n",
        "print(\"Liczba wystąpień: \")\n",
        "print(Lista_1.count(e))\n",
        "print(\"Indeks pierwszego wystąpienia: \")\n",
        "if Lista_1.count(e):\n",
        "    print(Lista_1.index(e))\n",
        "else:\n",
        "    print(\"Brak elementu w liście\")\n",
        "\n",
        "def szukanie_cztery(Lista_1):\n",
        "  suma = 0\n",
        "  for n in Lista_1:\n",
        "    if n == 4:\n",
        "      suma = suma + 1\n",
        "  return suma\n",
        "print(szukanie_cztery(Lista_1))"
      ],
      "metadata": {
        "id": "iIWHPjv7LL2V",
        "colab": {
          "base_uri": "https://localhost:8080/"
        },
        "outputId": "27481124-7806-46bd-b23b-ca468e2532bd"
      },
      "execution_count": null,
      "outputs": [
        {
          "output_type": "stream",
          "name": "stdout",
          "text": [
            "[1, 3, 4, 5, 67, 4, 5, 6, 7, 89, 3, 4, 5, 65, 78, 4.0, 5, 6, 67, 87, 78]\n",
            "<class 'list'>\n",
            "Podaj liczbę: 5\n",
            "Liczba wystąpień: \n",
            "4\n",
            "Indeks pierwszego wystąpienia: \n",
            "3\n",
            "4\n"
          ]
        }
      ]
    },
    {
      "cell_type": "code",
      "source": [
        "from random import randint\n",
        "ile = int(input(\"Ile liczb wylosować? \"))\n",
        "lista = []  # pusta lista\n",
        "\n",
        "for i in range(0, ile):\n",
        "    lista.append(randint(0, 500))\n",
        "print(lista)\n",
        "e = int(input(\"Podaj liczbę: \"))\n",
        "print(\"Liczba wystąpień: \")\n",
        "print(lista.count(e))\n",
        "print(\"Indeks pierwszego wystąpienia: \")\n",
        "if lista.count(e):\n",
        "    print(lista.index(e))\n",
        "else:\n",
        "    print(\"Brak elementu w liście\")\n",
        "print()\n",
        "for x in lista:\n",
        "    if x >= 10:\n",
        "        print(x)\n",
        "        break;\n",
        "    elif x % 2 == 0:\n",
        "        print(x)"
      ],
      "metadata": {
        "id": "5D9scL0_MGYg",
        "colab": {
          "base_uri": "https://localhost:8080/"
        },
        "outputId": "11020a09-7807-4c0f-d750-100ca75b2387"
      },
      "execution_count": null,
      "outputs": [
        {
          "output_type": "stream",
          "name": "stdout",
          "text": [
            "Ile liczb wylosować? 20\n",
            "[7, 105, 405, 99, 424, 187, 155, 43, 121, 212, 87, 332, 299, 437, 284, 447, 345, 104, 233, 255]\n",
            "Podaj liczbę: 10\n",
            "Liczba wystąpień: \n",
            "0\n",
            "Indeks pierwszego wystąpienia: \n",
            "Brak elementu w liście\n",
            "\n",
            "105\n"
          ]
        }
      ]
    },
    {
      "cell_type": "code",
      "source": [
        ""
      ],
      "metadata": {
        "id": "fRQv6V-Xqq2G"
      },
      "execution_count": null,
      "outputs": []
    }
  ]
}
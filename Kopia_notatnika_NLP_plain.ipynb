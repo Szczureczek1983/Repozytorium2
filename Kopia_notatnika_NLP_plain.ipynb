{
  "cells": [
    {
      "cell_type": "markdown",
      "metadata": {
        "id": "view-in-github",
        "colab_type": "text"
      },
      "source": [
        "<a href=\"https://colab.research.google.com/github/Szczureczek1983/Repozytorium2/blob/main/Kopia_notatnika_NLP_plain.ipynb\" target=\"_parent\"><img src=\"https://colab.research.google.com/assets/colab-badge.svg\" alt=\"Open In Colab\"/></a>"
      ]
    },
    {
      "cell_type": "code",
      "execution_count": null,
      "id": "530e6c43",
      "metadata": {
        "id": "530e6c43",
        "colab": {
          "base_uri": "https://localhost:8080/"
        },
        "outputId": "a2b14734-2645-43f9-fc95-590d621a979f"
      },
      "outputs": [
        {
          "output_type": "stream",
          "name": "stdout",
          "text": [
            "Looking in indexes: https://pypi.org/simple, https://us-python.pkg.dev/colab-wheels/public/simple/\n",
            "Collecting svgling==0.3.1\n",
            "  Downloading svgling-0.3.1-py3-none-any.whl (21 kB)\n",
            "Collecting svgwrite\n",
            "  Downloading svgwrite-1.4.3-py3-none-any.whl (67 kB)\n",
            "\u001b[K     |████████████████████████████████| 67 kB 6.4 MB/s \n",
            "\u001b[?25hInstalling collected packages: svgwrite, svgling\n",
            "Successfully installed svgling-0.3.1 svgwrite-1.4.3\n",
            "Looking in indexes: https://pypi.org/simple, https://us-python.pkg.dev/colab-wheels/public/simple/\n",
            "Collecting gensim==4.1.2\n",
            "  Downloading gensim-4.1.2-cp37-cp37m-manylinux_2_12_x86_64.manylinux2010_x86_64.whl (24.1 MB)\n",
            "\u001b[K     |████████████████████████████████| 24.1 MB 1.6 MB/s \n",
            "\u001b[?25hRequirement already satisfied: scipy>=0.18.1 in /usr/local/lib/python3.7/dist-packages (from gensim==4.1.2) (1.7.3)\n",
            "Requirement already satisfied: smart-open>=1.8.1 in /usr/local/lib/python3.7/dist-packages (from gensim==4.1.2) (5.2.1)\n",
            "Requirement already satisfied: numpy>=1.17.0 in /usr/local/lib/python3.7/dist-packages (from gensim==4.1.2) (1.21.6)\n",
            "Installing collected packages: gensim\n",
            "  Attempting uninstall: gensim\n",
            "    Found existing installation: gensim 3.6.0\n",
            "    Uninstalling gensim-3.6.0:\n",
            "      Successfully uninstalled gensim-3.6.0\n",
            "Successfully installed gensim-4.1.2\n"
          ]
        }
      ],
      "source": [
        "#libraries\n",
        "!pip install svgling==0.3.1\n",
        "!pip install gensim==4.1.2"
      ]
    },
    {
      "cell_type": "code",
      "source": [
        ""
      ],
      "metadata": {
        "id": "8chqilA57nZl"
      },
      "id": "8chqilA57nZl",
      "execution_count": null,
      "outputs": []
    },
    {
      "cell_type": "markdown",
      "id": "f415be77",
      "metadata": {
        "id": "f415be77"
      },
      "source": [
        "## Corpuses"
      ]
    },
    {
      "cell_type": "code",
      "execution_count": null,
      "id": "2d6c3cf1",
      "metadata": {
        "id": "2d6c3cf1",
        "colab": {
          "base_uri": "https://localhost:8080/"
        },
        "outputId": "eda8d992-6512-45bb-90a9-4b9fa6cfbca9"
      },
      "outputs": [
        {
          "output_type": "stream",
          "name": "stdout",
          "text": [
            "['AlignedCorpusReader', 'AlpinoCorpusReader', 'BNCCorpusReader', 'BracketParseCorpusReader', 'CHILDESCorpusReader', 'CMUDictCorpusReader', 'CategorizedBracketParseCorpusReader', 'CategorizedCorpusReader', 'CategorizedPlaintextCorpusReader', 'CategorizedSentencesCorpusReader', 'CategorizedTaggedCorpusReader', 'ChasenCorpusReader', 'ChunkedCorpusReader', 'ComparativeSentencesCorpusReader', 'ConllChunkCorpusReader', 'ConllCorpusReader', 'CorpusReader', 'CrubadanCorpusReader', 'DependencyCorpusReader', 'EuroparlCorpusReader', 'FramenetCorpusReader', 'IEERCorpusReader', 'IPIPANCorpusReader', 'IndianCorpusReader', 'KNBCorpusReader', 'LazyCorpusLoader', 'LinThesaurusCorpusReader', 'MTECorpusReader', 'MWAPPDBCorpusReader', 'MacMorphoCorpusReader', 'NKJPCorpusReader', 'NPSChatCorpusReader', 'NombankCorpusReader', 'NonbreakingPrefixesCorpusReader', 'OpinionLexiconCorpusReader', 'PPAttachmentCorpusReader', 'PanLexLiteCorpusReader', 'PanlexSwadeshCorpusReader', 'Pl196xCorpusReader', 'PlaintextCorpusReader', 'PortugueseCategorizedPlaintextCorpusReader', 'PropbankCorpusReader', 'ProsConsCorpusReader', 'RTECorpusReader', 'RegexpTokenizer', 'ReviewsCorpusReader', 'SemcorCorpusReader', 'SensevalCorpusReader', 'SentiSynset', 'SentiWordNetCorpusReader', 'SinicaTreebankCorpusReader', 'StringCategoryCorpusReader', 'SwadeshCorpusReader', 'SwitchboardCorpusReader', 'SyntaxCorpusReader', 'TEICorpusView', 'TaggedCorpusReader', 'TimitCorpusReader', 'TimitTaggedCorpusReader', 'ToolboxCorpusReader', 'TwitterCorpusReader', 'UdhrCorpusReader', 'UnicharsCorpusReader', 'VerbnetCorpusReader', 'WordListCorpusReader', 'WordNetCorpusReader', 'WordNetICCorpusReader', 'XMLCorpusReader', 'YCOECorpusReader', '_LazyModule__lazymodule_globals', '_LazyModule__lazymodule_import', '_LazyModule__lazymodule_init', '_LazyModule__lazymodule_loaded', '_LazyModule__lazymodule_locals', '_LazyModule__lazymodule_name', '__builtins__', '__cached__', '__class__', '__delattr__', '__dict__', '__dir__', '__doc__', '__eq__', '__file__', '__format__', '__ge__', '__getattr__', '__getattribute__', '__gt__', '__hash__', '__init__', '__init_subclass__', '__lazymodule_loaded', '__le__', '__loader__', '__lt__', '__module__', '__name__', '__ne__', '__new__', '__package__', '__path__', '__reduce__', '__reduce_ex__', '__repr__', '__setattr__', '__sizeof__', '__spec__', '__str__', '__subclasshook__', '__weakref__', 'abc', 'alpino', 'brown', 'cess_cat', 'cess_esp', 'cmudict', 'comparative_sentences', 'comtrans', 'conll2000', 'conll2002', 'conll2007', 'crubadan', 'demo', 'dependency_treebank', 'find_corpus_fileids', 'floresta', 'framenet', 'framenet15', 'gazetteers', 'genesis', 'gutenberg', 'ieer', 'inaugural', 'indian', 'jeita', 'knbc', 'lin_thesaurus', 'mac_morpho', 'machado', 'masc_tagged', 'movie_reviews', 'multext_east', 'names', 'nombank', 'nombank_ptb', 'nonbreaking_prefixes', 'nps_chat', 'opinion_lexicon', 'perluniprops', 'ppattach', 'product_reviews_1', 'product_reviews_2', 'propbank', 'propbank_ptb', 'pros_cons', 'ptb', 'qc', 're', 'reader', 'reuters', 'rte', 'semcor', 'senseval', 'sentence_polarity', 'sentiwordnet', 'shakespeare', 'sinica_treebank', 'state_union', 'stopwords', 'subjectivity', 'swadesh', 'swadesh110', 'swadesh207', 'switchboard', 'tagged_treebank_para_block_reader', 'timit', 'timit_tagged', 'toolbox', 'treebank', 'treebank_chunk', 'treebank_raw', 'twitter_samples', 'udhr', 'udhr2', 'universal_treebanks', 'util', 'verbnet', 'webtext', 'wordnet', 'wordnet2021', 'wordnet31', 'wordnet_ic', 'words']\n"
          ]
        }
      ],
      "source": [
        "import nltk.corpus\n",
        "print(dir(nltk.corpus))"
      ]
    },
    {
      "cell_type": "code",
      "execution_count": null,
      "id": "f4dcbd2b",
      "metadata": {
        "id": "f4dcbd2b",
        "colab": {
          "base_uri": "https://localhost:8080/",
          "height": 58
        },
        "outputId": "a0ff9007-d7d8-406b-871f-09c57fefb501"
      },
      "outputs": [
        {
          "output_type": "execute_result",
          "data": {
            "text/plain": [
              "'/content'"
            ],
            "application/vnd.google.colaboratory.intrinsic+json": {
              "type": "string"
            }
          },
          "metadata": {},
          "execution_count": 3
        }
      ],
      "source": [
        "import os\n",
        "os.getcwd()"
      ]
    },
    {
      "cell_type": "code",
      "execution_count": null,
      "id": "b773af2e",
      "metadata": {
        "id": "b773af2e",
        "colab": {
          "base_uri": "https://localhost:8080/"
        },
        "outputId": "12d77aeb-f482-4dc8-ddd0-d635633e0f0c"
      },
      "outputs": [
        {
          "output_type": "stream",
          "name": "stderr",
          "text": [
            "[nltk_data] Downloading package brown to /root/nltk_data...\n",
            "[nltk_data]   Unzipping corpora/brown.zip.\n"
          ]
        }
      ],
      "source": [
        "# ściągnięcie korpusu brown za pomocą biblioteki nltk\n",
        "import nltk\n",
        "nltk.download('brown')\n",
        "from nltk.corpus import brown as cb"
      ]
    },
    {
      "cell_type": "code",
      "execution_count": null,
      "id": "c103c19b",
      "metadata": {
        "id": "c103c19b",
        "colab": {
          "base_uri": "https://localhost:8080/"
        },
        "outputId": "37cac469-38c0-4e57-c56b-dff279a0315c"
      },
      "outputs": [
        {
          "output_type": "stream",
          "name": "stdout",
          "text": [
            "The, Fulton, County, Grand, Jury, said, Friday, an, investigation, of, Atlanta's, recent, primary, election, produced, ``, no, evidence, '', that\n"
          ]
        }
      ],
      "source": [
        "#Wypiszmy początek corpusu\n",
        "print(\", \".join(cb.words()[:20]))"
      ]
    },
    {
      "cell_type": "code",
      "execution_count": null,
      "id": "528cc478",
      "metadata": {
        "id": "528cc478",
        "colab": {
          "base_uri": "https://localhost:8080/"
        },
        "outputId": "c271fe0f-cca7-4a5a-a19e-42befa61fae6"
      },
      "outputs": [
        {
          "output_type": "execute_result",
          "data": {
            "text/plain": [
              "['and', 'thanks', 'of', 'the', 'City', 'of', 'Atlanta', \"''\", 'for', 'the']"
            ]
          },
          "metadata": {},
          "execution_count": 10
        }
      ],
      "source": [
        "#Wypiszmy początek corpusu podzielonego na słowa\n",
        "cb.words()[50:60]"
      ]
    },
    {
      "cell_type": "code",
      "execution_count": null,
      "id": "61d093a6",
      "metadata": {
        "id": "61d093a6",
        "colab": {
          "base_uri": "https://localhost:8080/"
        },
        "outputId": "227e5cc9-39ee-4c3b-f436-6fd13c59ffcc"
      },
      "outputs": [
        {
          "output_type": "execute_result",
          "data": {
            "text/plain": [
              "[('The', 'AT'),\n",
              " ('jury', 'NN'),\n",
              " ('further', 'RBR'),\n",
              " ('said', 'VBD'),\n",
              " ('in', 'IN'),\n",
              " ('term-end', 'NN'),\n",
              " ('presentments', 'NNS'),\n",
              " ('that', 'CS'),\n",
              " ('the', 'AT'),\n",
              " ('City', 'NN-TL'),\n",
              " ('Executive', 'JJ-TL'),\n",
              " ('Committee', 'NN-TL'),\n",
              " (',', ','),\n",
              " ('which', 'WDT'),\n",
              " ('had', 'HVD'),\n",
              " ('over-all', 'JJ'),\n",
              " ('charge', 'NN'),\n",
              " ('of', 'IN'),\n",
              " ('the', 'AT'),\n",
              " ('election', 'NN'),\n",
              " (',', ','),\n",
              " ('``', '``'),\n",
              " ('deserves', 'VBZ'),\n",
              " ('the', 'AT'),\n",
              " ('praise', 'NN'),\n",
              " ('and', 'CC'),\n",
              " ('thanks', 'NNS'),\n",
              " ('of', 'IN'),\n",
              " ('the', 'AT'),\n",
              " ('City', 'NN-TL'),\n",
              " ('of', 'IN-TL'),\n",
              " ('Atlanta', 'NP-TL'),\n",
              " (\"''\", \"''\"),\n",
              " ('for', 'IN'),\n",
              " ('the', 'AT'),\n",
              " ('manner', 'NN'),\n",
              " ('in', 'IN'),\n",
              " ('which', 'WDT'),\n",
              " ('the', 'AT'),\n",
              " ('election', 'NN'),\n",
              " ('was', 'BEDZ'),\n",
              " ('conducted', 'VBN'),\n",
              " ('.', '.')]"
            ]
          },
          "metadata": {},
          "execution_count": 12
        }
      ],
      "source": [
        "#Zobaczmy oznaczone słowa w kategorii \"news\"\n",
        "cb.tagged_sents(categories='news')[1]"
      ]
    },
    {
      "cell_type": "code",
      "execution_count": null,
      "id": "5974cdfa",
      "metadata": {
        "id": "5974cdfa",
        "colab": {
          "base_uri": "https://localhost:8080/"
        },
        "outputId": "ec9f6881-e5f8-4330-d590-7b215ce5b1a8"
      },
      "outputs": [
        {
          "output_type": "execute_result",
          "data": {
            "text/plain": [
              "[['The', 'Fulton', 'County', 'Grand', 'Jury', 'said', 'Friday', 'an', 'investigation', 'of', \"Atlanta's\", 'recent', 'primary', 'election', 'produced', '``', 'no', 'evidence', \"''\", 'that', 'any', 'irregularities', 'took', 'place', '.'], ['The', 'jury', 'further', 'said', 'in', 'term-end', 'presentments', 'that', 'the', 'City', 'Executive', 'Committee', ',', 'which', 'had', 'over-all', 'charge', 'of', 'the', 'election', ',', '``', 'deserves', 'the', 'praise', 'and', 'thanks', 'of', 'the', 'City', 'of', 'Atlanta', \"''\", 'for', 'the', 'manner', 'in', 'which', 'the', 'election', 'was', 'conducted', '.'], ...]"
            ]
          },
          "metadata": {},
          "execution_count": 16
        }
      ],
      "source": [
        "#Zobaczmy zdania w kategorii 'news', 'editorial', 'reviews'\n",
        "cb.sents(categories=['news', 'editorial', 'reviews'])"
      ]
    },
    {
      "cell_type": "code",
      "execution_count": null,
      "id": "0d7a5857",
      "metadata": {
        "id": "0d7a5857",
        "colab": {
          "base_uri": "https://localhost:8080/"
        },
        "outputId": "290cdceb-81c0-41de-fc87-2354fb57d3f2"
      },
      "outputs": [
        {
          "output_type": "stream",
          "name": "stdout",
          "text": [
            "firefox.txt Cookie Manager: \"Don't allow sites that set removed cookies to set future cookie ...\n",
            "grail.txt SCENE 1: [wind] [clop clop clop] \n",
            "KING ARTHUR: Whoa there!  [clop clop clop] \n",
            "SO ...\n",
            "overheard.txt White guy: So, do you have any plans for this evening?\n",
            "Asian girl: Yeah, being a ...\n",
            "pirates.txt PIRATES OF THE CARRIBEAN: DEAD MAN'S CHEST, by Ted Elliott & Terry Rossio\n",
            "[view  ...\n",
            "singles.txt 25 SEXY MALE, seeks attrac older single lady, for discreet encounters.\n",
            "35YO Secu ...\n",
            "wine.txt Lovely delicate, fragrant Rhone wine. Polished leather and strawberries. Perhaps ...\n"
          ]
        },
        {
          "output_type": "stream",
          "name": "stderr",
          "text": [
            "[nltk_data] Downloading package webtext to /root/nltk_data...\n",
            "[nltk_data]   Unzipping corpora/webtext.zip.\n"
          ]
        }
      ],
      "source": [
        "import nltk\n",
        "nltk.download('webtext')\n",
        "from nltk.corpus import webtext\n",
        "#Sprawdźmy korpus webtext\n",
        "for fieldid in webtext.fileids():\n",
        "  print(fieldid, webtext.raw(fieldid)[:80], '...')"
      ]
    },
    {
      "cell_type": "code",
      "execution_count": null,
      "id": "a0e209bc",
      "metadata": {
        "id": "a0e209bc",
        "colab": {
          "base_uri": "https://localhost:8080/"
        },
        "outputId": "549283d2-f278-4620-ceda-5788bfa64c5f"
      },
      "outputs": [
        {
          "output_type": "stream",
          "name": "stderr",
          "text": [
            "[nltk_data] Downloading package inaugural to /root/nltk_data...\n",
            "[nltk_data]   Unzipping corpora/inaugural.zip.\n"
          ]
        },
        {
          "output_type": "execute_result",
          "data": {
            "text/plain": [
              "True"
            ]
          },
          "metadata": {},
          "execution_count": 18
        }
      ],
      "source": [
        "nltk.download('inaugural')"
      ]
    },
    {
      "cell_type": "code",
      "execution_count": null,
      "id": "fea19a47",
      "metadata": {
        "id": "fea19a47",
        "colab": {
          "base_uri": "https://localhost:8080/",
          "height": 483
        },
        "outputId": "bf6893d8-eb8e-464c-a79d-9390cdcec665"
      },
      "outputs": [
        {
          "output_type": "display_data",
          "data": {
            "text/plain": [
              "<Figure size 960x480 with 1 Axes>"
            ],
            "image/png": "[encoded data removed]"
          },
          "metadata": {
            "needs_background": "light"
          }
        },
        {
          "output_type": "execute_result",
          "data": {
            "text/plain": [
              "<matplotlib.axes._subplots.AxesSubplot at 0x7f89736f01d0>"
            ]
          },
          "metadata": {},
          "execution_count": 19
        }
      ],
      "source": [
        "from nltk.corpus import inaugural\n",
        "from matplotlib.pyplot import figure\n",
        "\n",
        "#Wyrysujmy wykres występowania słowa 'citizen' i 'america' w przemowach inaguracyjnych prezydentów USA\n",
        "figure(figsize=(12, 6), dpi=80)\n",
        "[]\n",
        "cfd = nltk.ConditionalFreqDist((target, fileid[:4]) for fileid in inaugural.fileids() for w in inaugural.words(fileid) \n",
        "for target in ['america', 'citizen'] if w.lower().startswith(target))\n",
        "cfd.plot()"
      ]
    },
    {
      "cell_type": "markdown",
      "id": "4b472d0e",
      "metadata": {
        "id": "4b472d0e"
      },
      "source": [
        "# Spacy "
      ]
    },
    {
      "cell_type": "code",
      "execution_count": null,
      "id": "e9f4ce73",
      "metadata": {
        "id": "e9f4ce73"
      },
      "outputs": [],
      "source": [
        "import spacy"
      ]
    },
    {
      "cell_type": "code",
      "execution_count": null,
      "id": "67a52ca5",
      "metadata": {
        "id": "67a52ca5",
        "colab": {
          "base_uri": "https://localhost:8080/"
        },
        "outputId": "b3d7f912-7d3b-4e5f-ba8f-46fefa706a53"
      },
      "outputs": [
        {
          "output_type": "stream",
          "name": "stdout",
          "text": [
            "2022-08-06 09:09:29.520045: E tensorflow/stream_executor/cuda/cuda_driver.cc:271] failed call to cuInit: CUDA_ERROR_NO_DEVICE: no CUDA-capable device is detected\n",
            "Looking in indexes: https://pypi.org/simple, https://us-python.pkg.dev/colab-wheels/public/simple/\n",
            "Collecting en-core-web-sm==3.4.0\n",
            "  Downloading https://github.com/explosion/spacy-models/releases/download/en_core_web_sm-3.4.0/en_core_web_sm-3.4.0-py3-none-any.whl (12.8 MB)\n",
            "\u001b[K     |████████████████████████████████| 12.8 MB 22.0 MB/s \n",
            "\u001b[?25hRequirement already satisfied: spacy<3.5.0,>=3.4.0 in /usr/local/lib/python3.7/dist-packages (from en-core-web-sm==3.4.0) (3.4.1)\n",
            "Requirement already satisfied: wasabi<1.1.0,>=0.9.1 in /usr/local/lib/python3.7/dist-packages (from spacy<3.5.0,>=3.4.0->en-core-web-sm==3.4.0) (0.10.1)\n",
            "Requirement already satisfied: requests<3.0.0,>=2.13.0 in /usr/local/lib/python3.7/dist-packages (from spacy<3.5.0,>=3.4.0->en-core-web-sm==3.4.0) (2.23.0)\n",
            "Requirement already satisfied: thinc<8.2.0,>=8.1.0 in /usr/local/lib/python3.7/dist-packages (from spacy<3.5.0,>=3.4.0->en-core-web-sm==3.4.0) (8.1.0)\n",
            "Requirement already satisfied: typing-extensions<4.2.0,>=3.7.4 in /usr/local/lib/python3.7/dist-packages (from spacy<3.5.0,>=3.4.0->en-core-web-sm==3.4.0) (4.1.1)\n",
            "Requirement already satisfied: numpy>=1.15.0 in /usr/local/lib/python3.7/dist-packages (from spacy<3.5.0,>=3.4.0->en-core-web-sm==3.4.0) (1.21.6)\n",
            "Requirement already satisfied: catalogue<2.1.0,>=2.0.6 in /usr/local/lib/python3.7/dist-packages (from spacy<3.5.0,>=3.4.0->en-core-web-sm==3.4.0) (2.0.8)\n",
            "Requirement already satisfied: langcodes<4.0.0,>=3.2.0 in /usr/local/lib/python3.7/dist-packages (from spacy<3.5.0,>=3.4.0->en-core-web-sm==3.4.0) (3.3.0)\n",
            "Requirement already satisfied: typer<0.5.0,>=0.3.0 in /usr/local/lib/python3.7/dist-packages (from spacy<3.5.0,>=3.4.0->en-core-web-sm==3.4.0) (0.4.2)\n",
            "Requirement already satisfied: jinja2 in /usr/local/lib/python3.7/dist-packages (from spacy<3.5.0,>=3.4.0->en-core-web-sm==3.4.0) (2.11.3)\n",
            "Requirement already satisfied: setuptools in /usr/local/lib/python3.7/dist-packages (from spacy<3.5.0,>=3.4.0->en-core-web-sm==3.4.0) (57.4.0)\n",
            "Requirement already satisfied: spacy-loggers<2.0.0,>=1.0.0 in /usr/local/lib/python3.7/dist-packages (from spacy<3.5.0,>=3.4.0->en-core-web-sm==3.4.0) (1.0.3)\n",
            "Requirement already satisfied: murmurhash<1.1.0,>=0.28.0 in /usr/local/lib/python3.7/dist-packages (from spacy<3.5.0,>=3.4.0->en-core-web-sm==3.4.0) (1.0.7)\n",
            "Requirement already satisfied: pathy>=0.3.5 in /usr/local/lib/python3.7/dist-packages (from spacy<3.5.0,>=3.4.0->en-core-web-sm==3.4.0) (0.6.2)\n",
            "Requirement already satisfied: tqdm<5.0.0,>=4.38.0 in /usr/local/lib/python3.7/dist-packages (from spacy<3.5.0,>=3.4.0->en-core-web-sm==3.4.0) (4.64.0)\n",
            "Requirement already satisfied: packaging>=20.0 in /usr/local/lib/python3.7/dist-packages (from spacy<3.5.0,>=3.4.0->en-core-web-sm==3.4.0) (21.3)\n",
            "Requirement already satisfied: srsly<3.0.0,>=2.4.3 in /usr/local/lib/python3.7/dist-packages (from spacy<3.5.0,>=3.4.0->en-core-web-sm==3.4.0) (2.4.4)\n",
            "Requirement already satisfied: spacy-legacy<3.1.0,>=3.0.9 in /usr/local/lib/python3.7/dist-packages (from spacy<3.5.0,>=3.4.0->en-core-web-sm==3.4.0) (3.0.9)\n",
            "Requirement already satisfied: pydantic!=1.8,!=1.8.1,<1.10.0,>=1.7.4 in /usr/local/lib/python3.7/dist-packages (from spacy<3.5.0,>=3.4.0->en-core-web-sm==3.4.0) (1.9.1)\n",
            "Requirement already satisfied: cymem<2.1.0,>=2.0.2 in /usr/local/lib/python3.7/dist-packages (from spacy<3.5.0,>=3.4.0->en-core-web-sm==3.4.0) (2.0.6)\n",
            "Requirement already satisfied: preshed<3.1.0,>=3.0.2 in /usr/local/lib/python3.7/dist-packages (from spacy<3.5.0,>=3.4.0->en-core-web-sm==3.4.0) (3.0.6)\n",
            "Requirement already satisfied: zipp>=0.5 in /usr/local/lib/python3.7/dist-packages (from catalogue<2.1.0,>=2.0.6->spacy<3.5.0,>=3.4.0->en-core-web-sm==3.4.0) (3.8.1)\n",
            "Requirement already satisfied: pyparsing!=3.0.5,>=2.0.2 in /usr/local/lib/python3.7/dist-packages (from packaging>=20.0->spacy<3.5.0,>=3.4.0->en-core-web-sm==3.4.0) (3.0.9)\n",
            "Requirement already satisfied: smart-open<6.0.0,>=5.2.1 in /usr/local/lib/python3.7/dist-packages (from pathy>=0.3.5->spacy<3.5.0,>=3.4.0->en-core-web-sm==3.4.0) (5.2.1)\n",
            "Requirement already satisfied: chardet<4,>=3.0.2 in /usr/local/lib/python3.7/dist-packages (from requests<3.0.0,>=2.13.0->spacy<3.5.0,>=3.4.0->en-core-web-sm==3.4.0) (3.0.4)\n",
            "Requirement already satisfied: certifi>=2017.4.17 in /usr/local/lib/python3.7/dist-packages (from requests<3.0.0,>=2.13.0->spacy<3.5.0,>=3.4.0->en-core-web-sm==3.4.0) (2022.6.15)\n",
            "Requirement already satisfied: idna<3,>=2.5 in /usr/local/lib/python3.7/dist-packages (from requests<3.0.0,>=2.13.0->spacy<3.5.0,>=3.4.0->en-core-web-sm==3.4.0) (2.10)\n",
            "Requirement already satisfied: urllib3!=1.25.0,!=1.25.1,<1.26,>=1.21.1 in /usr/local/lib/python3.7/dist-packages (from requests<3.0.0,>=2.13.0->spacy<3.5.0,>=3.4.0->en-core-web-sm==3.4.0) (1.24.3)\n",
            "Requirement already satisfied: blis<0.8.0,>=0.7.8 in /usr/local/lib/python3.7/dist-packages (from thinc<8.2.0,>=8.1.0->spacy<3.5.0,>=3.4.0->en-core-web-sm==3.4.0) (0.7.8)\n",
            "Requirement already satisfied: click<9.0.0,>=7.1.1 in /usr/local/lib/python3.7/dist-packages (from typer<0.5.0,>=0.3.0->spacy<3.5.0,>=3.4.0->en-core-web-sm==3.4.0) (7.1.2)\n",
            "Requirement already satisfied: MarkupSafe>=0.23 in /usr/local/lib/python3.7/dist-packages (from jinja2->spacy<3.5.0,>=3.4.0->en-core-web-sm==3.4.0) (2.0.1)\n",
            "\u001b[38;5;2m✔ Download and installation successful\u001b[0m\n",
            "You can now load the package via spacy.load('en_core_web_sm')\n"
          ]
        }
      ],
      "source": [
        "!spacy download en_core_web_sm"
      ]
    },
    {
      "cell_type": "code",
      "execution_count": null,
      "id": "dbde633e",
      "metadata": {
        "id": "dbde633e"
      },
      "outputs": [],
      "source": [
        "nlp = spacy.load(\"en_core_web_sm\")"
      ]
    },
    {
      "cell_type": "code",
      "execution_count": null,
      "id": "598e378e",
      "metadata": {
        "id": "598e378e"
      },
      "outputs": [],
      "source": [
        "text1 = ('''\n",
        "The witcher halted at a distance of ten paces.  His sword, slowly drawn from its black enameled sheath, glistened and glowed above his head.\n",
        "“It’s silver,” he said.  “This blade is silver.”\n",
        "The pale little face did not flinch; the anthracite eyes did not change expression.\n",
        "“You’re so like a rusalka, “the witcher continued calmly, “that you could deceive anyone.  All the more as you’re a rare bird, black-haired one.  But horses are never mistaken.  They recognize creatures like you instinctively and perfectly.  What are you?  I think you’re a moola, or an alpor.  An ordinary vampire couldn’t come out in the sun.”\n",
        "The corners of the pale lips quivered and turned up a little.\n",
        "''')"
      ]
    },
    {
      "cell_type": "code",
      "execution_count": null,
      "id": "8079e33c",
      "metadata": {
        "id": "8079e33c"
      },
      "outputs": [],
      "source": [
        "doc = nlp(text1)"
      ]
    },
    {
      "cell_type": "code",
      "execution_count": null,
      "id": "3c0b6f3f",
      "metadata": {
        "id": "3c0b6f3f",
        "colab": {
          "base_uri": "https://localhost:8080/"
        },
        "outputId": "845852c2-463b-4f66-e4c6-79676a755068"
      },
      "outputs": [
        {
          "output_type": "stream",
          "name": "stdout",
          "text": [
            "Noun phrases: ['\\nThe witcher halted', 'a distance', 'ten paces', 'His sword', 'its black enameled sheath', 'his head', 'It', 'silver', 'he', 'This blade', 'silver', 'The pale little face', 'the anthracite eyes', 'expression', 'You', 'a rusalka', 'you', 'anyone', 'you', 'a rare bird', 'horses', 'They', 'creatures', 'you', 'What', 'you', 'I', 'you', 'a moola', 'an alpor', 'An ordinary vampire', 'the sun', 'The corners', 'the pale lips']\n",
            "Adjectives :[witcher, black, enameled, glistened, pale, little, anthracite, witcher, rare, black, haired, mistaken, ordinary, pale, little]\n",
            "Noun :[halted, distance, paces, sword, sheath, head, silver, blade, silver, face, eyes, expression, rusalka, bird, horses, creatures, moola, alpor, vampire, sun, corners, lips]\n",
            "Verb :[drawn, glowed, ’s, said, flinch, change, ’re, continued, deceive, ’re, recognize, think, ’re, come, quivered, turned]\n"
          ]
        }
      ],
      "source": [
        "#Proszę wypisać listę wyrażenia rzeczownikowe i przymiotników,  powyższego tekstu\n",
        "print(f\"Noun phrases: {[chunk.text for chunk in doc.noun_chunks]}\")\n",
        "print(f\"Adjectives :{[token for token in doc if token.pos_== 'ADJ' ]}\")\n",
        "print(f\"Noun :{[token for token in doc if token.pos_== 'NOUN' ]}\")\n",
        "print(f\"Verb :{[token for token in doc if token.pos_== 'VERB' ]}\")"
      ]
    },
    {
      "cell_type": "code",
      "execution_count": null,
      "id": "d1faa5df",
      "metadata": {
        "id": "d1faa5df"
      },
      "outputs": [],
      "source": [
        "text2 = ('''\n",
        "Born and raised in the Austrian Empire, Joe Tesla studied engineering and physics in the 1870s without receiving a \n",
        "degree, gaining practical experience in the early 1880s working in telephony and at Continental Edison in the \n",
        "new electric power industry. In 1884 he emigrated to the United States, where he became a naturalized citizen. \n",
        "He worked for a short time at the Edison Machine Works in New York City before he struck out on his own. \n",
        "With the help of partners to finance and market his ideas, Nicola Tesla set up laboratories and companies in \n",
        "New York to develop a range of electrical and mechanical devices. His alternating current (AC) induction \n",
        "motor and related polyphase AC patents, licensed by Westinghouse Electric in 1888, earned him a considerable \n",
        "amount of money and became the cornerstone of the polyphase system which that company eventually marketed.\n",
        "''')"
      ]
    },
    {
      "cell_type": "code",
      "execution_count": null,
      "id": "4f7e4e86",
      "metadata": {
        "id": "4f7e4e86",
        "colab": {
          "base_uri": "https://localhost:8080/"
        },
        "outputId": "9ad810c3-1263-4fd9-e45e-4ae1bd337975"
      },
      "outputs": [
        {
          "output_type": "stream",
          "name": "stdout",
          "text": [
            "the Austrian Empire GPE\n",
            "Joe Tesla PERSON\n",
            "the 1870s DATE\n",
            "the early 1880s DATE\n",
            "Continental Edison ORG\n",
            "1884 DATE\n",
            "the United States GPE\n",
            "the Edison Machine Works FAC\n",
            "New York City GPE\n",
            "Nicola Tesla ORG\n",
            "New York GPE\n",
            "AC GPE\n",
            "Westinghouse Electric ORG\n",
            "1888 DATE\n"
          ]
        }
      ],
      "source": [
        "doc = nlp(text2)\n",
        "#Proszę wypisać Entities powyższego tekstu\n",
        "for ent in doc.ents:\n",
        "    print(ent.text, ent.label_)"
      ]
    },
    {
      "cell_type": "markdown",
      "id": "29a9c987",
      "metadata": {
        "id": "29a9c987"
      },
      "source": [
        "# TF-IDF"
      ]
    },
    {
      "cell_type": "code",
      "source": [
        "nltk.download('punkt')"
      ],
      "metadata": {
        "colab": {
          "base_uri": "https://localhost:8080/"
        },
        "id": "q8PyLz9VzQnY",
        "outputId": "c58be179-ec68-4d9a-8b4d-501ceb1bf406"
      },
      "id": "q8PyLz9VzQnY",
      "execution_count": null,
      "outputs": [
        {
          "output_type": "stream",
          "name": "stderr",
          "text": [
            "[nltk_data] Downloading package punkt to /root/nltk_data...\n",
            "[nltk_data]   Unzipping tokenizers/punkt.zip.\n"
          ]
        },
        {
          "output_type": "execute_result",
          "data": {
            "text/plain": [
              "True"
            ]
          },
          "metadata": {},
          "execution_count": 60
        }
      ]
    },
    {
      "cell_type": "code",
      "execution_count": null,
      "id": "331d4b9e",
      "metadata": {
        "id": "331d4b9e"
      },
      "outputs": [],
      "source": [
        "import nltk"
      ]
    },
    {
      "cell_type": "code",
      "execution_count": null,
      "id": "b0766b53",
      "metadata": {
        "id": "b0766b53"
      },
      "outputs": [],
      "source": [
        "text3 = ('''\n",
        "The huge black eyes narrowed.\n",
        "“Where is he, black-haired one?  You were singing, so you’ve drunk some blood.  You’ve taken the ultimate measure, which means you haven’t managed to enslave his mind.  Am I right?”\n",
        "The black-tressed head nodded slightly, almost imperceptibility, and the corners of the mouth turned up even more.  The tiny little face took on an eerie expression.\n",
        "“No doubt you consider yourself the lady of this castle now?”\n",
        "A nod, this time clearer.\n",
        "“Are you a moola?”\n",
        "A slow shake of the head.  The hiss which reverberated through his bones could only have come from the pale, ghastly, smiling lips, although the witcher didn’t see them move.\n",
        "“Alpor?”\n",
        "Denial.\n",
        "The witcher backed away and clasped the hilt of his sword tighter.  “That means you’re-”\n",
        "The corners of the lips started to turn up higher and higher, the lips flew open…\n",
        "“A bruxa!” The witcher shouted, throwing himself towards the fountain.\n",
        "From behind the pale lips glistened white, spiky fangs.  The vampire jumped up, arched her back like a leopard and screamed.\n",
        "''')"
      ]
    },
    {
      "cell_type": "code",
      "execution_count": null,
      "id": "121d95b7",
      "metadata": {
        "id": "121d95b7",
        "colab": {
          "base_uri": "https://localhost:8080/"
        },
        "outputId": "f94bc676-c7cd-4f2e-b5e6-8febd33762ca"
      },
      "outputs": [
        {
          "output_type": "stream",
          "name": "stdout",
          "text": [
            "For word 'rusalka' TF Score for text1: 0.007519, IDF Score: 1.099, TF-IDF Score for text1:0.00826\n",
            "For word 'witcher' TF Score for text1: 0.01504, IDF Score: 0.4055, TF-IDF Score for text1:0.006097\n",
            "For word 'Tesla' TF Score for text1: 0.0, IDF Score: 1.099, TF-IDF Score for text1:0.0\n",
            "For word 'in' TF Score for text1: 0.007519, IDF Score: 0.0, TF-IDF Score for text1:0.0\n",
            "For word 'vampire' TF Score for text1: 0.007519, IDF Score: 0.4055, TF-IDF Score for text1:0.003049\n",
            "For word 'the' TF Score for text1: 0.06015, IDF Score: 0.0, TF-IDF Score for text1:0.0\n"
          ]
        }
      ],
      "source": [
        "from textblob import TextBlob\n",
        "import math\n",
        "\n",
        "# funkcja TF, dla jednego dokumentu\n",
        "def tf(word, blob):\n",
        "  return blob.words.count(word) / len(blob.words)\n",
        "    \n",
        "\n",
        "#Pomocnicza funkcja zliczająca w ilu dokumentach wystąpiło to słow\n",
        "def n_containing(word, bloblist):\n",
        "    return sum(1 for blob in bloblist if word in blob)\n",
        "\n",
        "# funkcja IDF dla wszystkich dokumentów\n",
        "def idf(word, bloblist): \n",
        "    n = n_containing(word, bloblist)\n",
        "    return math.log(len(bloblist) / (n if n else 1))\n",
        "\n",
        "#Funkcja TF-IDF\n",
        "def tfidf(word, blob, bloblist):\n",
        "    return tf(word, blob) * idf(word, bloblist)\n",
        "\n",
        "\n",
        "blob1 = TextBlob(text1.lower())\n",
        "blob2 = TextBlob(text2.lower())\n",
        "blob3 = TextBlob(text3.lower())\n",
        "bloblist = [blob1, blob2, blob3]\n",
        "\n",
        "sample_words = ['rusalka', 'witcher', 'Tesla', 'in', 'vampire', 'the']\n",
        "for sample_word in sample_words:\n",
        "    print(f\"For word '{sample_word}' TF Score for text1: {tf(sample_word, blob1):0.4}, IDF Score: {idf(sample_word, bloblist):0.4}, TF-IDF Score for text1:{tfidf(sample_word, blob1, bloblist):0.4}\")"
      ]
    },
    {
      "cell_type": "code",
      "execution_count": null,
      "id": "c015382e",
      "metadata": {
        "id": "c015382e",
        "colab": {
          "base_uri": "https://localhost:8080/"
        },
        "outputId": "96e3a529-fe28-42f4-befc-c9a2bea76331"
      },
      "outputs": [
        {
          "output_type": "stream",
          "name": "stdout",
          "text": [
            "For word 'tesla' TF Score for text2: 0.01399, IDF Score: 1.099, TF-IDF Score for text2:0.01537\n",
            "For word 'the' TF Score for text2: 0.06294, IDF Score: 0.0, TF-IDF Score for text2:0.0\n"
          ]
        }
      ],
      "source": [
        "sample_word = 'tesla'\n",
        "print(f\"For word '{sample_word}' TF Score for text2: {tf(sample_word, blob2):0.4}, IDF Score: {idf(sample_word, bloblist):0.4}, TF-IDF Score for text2:{tfidf(sample_word, blob2, bloblist):0.4}\")\n",
        "\n",
        "sample_word = 'the'\n",
        "print(f\"For word '{sample_word}' TF Score for text2: {tf(sample_word, blob2):0.4}, IDF Score: {idf(sample_word, bloblist):0.4}, TF-IDF Score for text2:{tfidf(sample_word, blob2, bloblist):0.4}\")"
      ]
    },
    {
      "cell_type": "code",
      "execution_count": null,
      "id": "57287fef",
      "metadata": {
        "id": "57287fef",
        "colab": {
          "base_uri": "https://localhost:8080/"
        },
        "outputId": "6c041efd-3509-437b-cb23-8e67f2eb6cf0"
      },
      "outputs": [
        {
          "output_type": "execute_result",
          "data": {
            "text/plain": [
              "(3, 249)"
            ]
          },
          "metadata": {},
          "execution_count": 63
        }
      ],
      "source": [
        "from sklearn.feature_extraction.text import CountVectorizer\n",
        "\n",
        "textlist = [text1, text2, text3]\n",
        "\n",
        "#Proszę użyć CountVectorizer na naszych 3 dokumentach\n",
        "count_vect = CountVectorizer()\n",
        "text_counts = count_vect.fit_transform(textlist)\n",
        "text_counts.shape"
      ]
    },
    {
      "cell_type": "code",
      "execution_count": null,
      "id": "c15619fa",
      "metadata": {
        "id": "c15619fa"
      },
      "outputs": [],
      "source": [
        "#Jak wygląda słownik CountVectorizer? Na co wskazują te liczby?\n",
        "# count_vect.vocabulary_"
      ]
    },
    {
      "cell_type": "code",
      "execution_count": null,
      "id": "d2d26a26",
      "metadata": {
        "id": "d2d26a26",
        "colab": {
          "base_uri": "https://localhost:8080/"
        },
        "outputId": "23571e3d-7770-4937-c3da-0f1bfc222013"
      },
      "outputs": [
        {
          "output_type": "stream",
          "name": "stdout",
          "text": [
            "Index for 'witcher': 240, index for 'rusalka': 183, , index for 'tesla': 211\n"
          ]
        }
      ],
      "source": [
        "print(f\"Index for 'witcher': {count_vect.vocabulary_['witcher']}, index for 'rusalka': {count_vect.vocabulary_['rusalka']}, , index for 'tesla': {count_vect.vocabulary_['tesla']}\")"
      ]
    },
    {
      "cell_type": "code",
      "execution_count": null,
      "id": "560ed6d9",
      "metadata": {
        "id": "560ed6d9",
        "colab": {
          "base_uri": "https://localhost:8080/"
        },
        "outputId": "bf3b3799-ebee-4cbf-97f0-4df1bda05d61"
      },
      "outputs": [
        {
          "output_type": "stream",
          "name": "stdout",
          "text": [
            "For first text 'witcher' count: 2, for 'rusalka': 1, for 'tesla' 0\n"
          ]
        }
      ],
      "source": [
        "print(f\"For first text 'witcher' count: {text_counts[0, 240]}, for 'rusalka': {text_counts[0, 183]}, for 'tesla' {text_counts[0, 211]}\")"
      ]
    },
    {
      "cell_type": "code",
      "execution_count": null,
      "id": "cab22edc",
      "metadata": {
        "id": "cab22edc",
        "colab": {
          "base_uri": "https://localhost:8080/"
        },
        "outputId": "b462d246-b767-4320-e322-b1d31404eab2"
      },
      "outputs": [
        {
          "output_type": "execute_result",
          "data": {
            "text/plain": [
              "(3, 249)"
            ]
          },
          "metadata": {},
          "execution_count": 69
        }
      ],
      "source": [
        "from sklearn.feature_extraction.text import TfidfTransformer\n",
        "#Wyliczmy TF-IDF za pomocą wbudowanej funkcji sklearn dla naszych tekstów\n",
        "tfidf_transformer = TfidfTransformer()\n",
        "text_tfidf = tfidf_transformer.fit_transform(text_counts)\n",
        "text_tfidf.shape"
      ]
    },
    {
      "cell_type": "code",
      "execution_count": null,
      "id": "7f8c121e",
      "metadata": {
        "id": "7f8c121e",
        "colab": {
          "base_uri": "https://localhost:8080/"
        },
        "outputId": "894d0930-e80a-45bf-aa40-c6e8253cb157"
      },
      "outputs": [
        {
          "output_type": "stream",
          "name": "stdout",
          "text": [
            "TF-IDF or first text - 'witcher': 0.1288257899662849, 'rusalka': 0.08469521620717868, 'tesla' 0.0\n"
          ]
        }
      ],
      "source": [
        "print(f\"TF-IDF or first text - 'witcher': {text_tfidf[0, 240]}, 'rusalka': {text_tfidf[0, 183]}, 'tesla' {text_tfidf[0, 211]}\")"
      ]
    },
    {
      "cell_type": "code",
      "execution_count": null,
      "id": "b327cc35",
      "metadata": {
        "id": "b327cc35",
        "colab": {
          "base_uri": "https://localhost:8080/"
        },
        "outputId": "1355caf8-5914-45e8-e071-9b4f86a65de8"
      },
      "outputs": [
        {
          "output_type": "stream",
          "name": "stdout",
          "text": [
            "TF-IDF or second text - 'witcher': 0.0, 'rusalka': 0.0, 'tesla' 0.13135142416047924\n"
          ]
        }
      ],
      "source": [
        "print(f\"TF-IDF or second text - 'witcher': {text_tfidf[1, 240]}, 'rusalka': {text_tfidf[1, 183]}, 'tesla' {text_tfidf[1, 211]}\")"
      ]
    },
    {
      "cell_type": "code",
      "execution_count": null,
      "id": "af1b5d69",
      "metadata": {
        "id": "af1b5d69",
        "colab": {
          "base_uri": "https://localhost:8080/"
        },
        "outputId": "8ef48c50-3dbd-41cf-dd85-aa2a0fc657e6"
      },
      "outputs": [
        {
          "output_type": "execute_result",
          "data": {
            "text/plain": [
              "(3, 249)"
            ]
          },
          "metadata": {},
          "execution_count": 74
        }
      ],
      "source": [
        "#A jak wyliczyć po prostu TF dla każdego tekstu?\n",
        "tf_transformer = TfidfTransformer(use_idf=False)\n",
        "text_tf = tf_transformer.fit_transform(text_counts)\n",
        "text_tf.shape"
      ]
    },
    {
      "cell_type": "markdown",
      "id": "4720a32e",
      "metadata": {
        "id": "4720a32e"
      },
      "source": [
        "# Tokenizacja"
      ]
    },
    {
      "cell_type": "code",
      "execution_count": null,
      "id": "eO35lKqDHiM1",
      "metadata": {
        "id": "eO35lKqDHiM1",
        "colab": {
          "base_uri": "https://localhost:8080/"
        },
        "outputId": "d8197a9c-83ff-43b3-d959-2f1eb81ae55d"
      },
      "outputs": [
        {
          "output_type": "stream",
          "name": "stderr",
          "text": [
            "[nltk_data] Downloading package punkt to /root/nltk_data...\n",
            "[nltk_data]   Package punkt is already up-to-date!\n"
          ]
        },
        {
          "output_type": "execute_result",
          "data": {
            "text/plain": [
              "True"
            ]
          },
          "metadata": {},
          "execution_count": 75
        }
      ],
      "source": [
        "nltk.download('punkt')"
      ]
    },
    {
      "cell_type": "code",
      "execution_count": null,
      "id": "b9a00497",
      "metadata": {
        "id": "b9a00497",
        "colab": {
          "base_uri": "https://localhost:8080/"
        },
        "outputId": "e3b99206-aaa9-4f8e-baa9-1bba3cfe3fb0"
      },
      "outputs": [
        {
          "output_type": "execute_result",
          "data": {
            "text/plain": [
              "['At',\n",
              " 'eight',\n",
              " \"o'clock\",\n",
              " 'on',\n",
              " 'Thursday',\n",
              " 'morning',\n",
              " 'Arthur',\n",
              " 'wo',\n",
              " \"n't\",\n",
              " 'feel',\n",
              " 'very',\n",
              " 'good',\n",
              " '.']"
            ]
          },
          "metadata": {},
          "execution_count": 78
        }
      ],
      "source": [
        "from nltk.tokenize import word_tokenize\n",
        "sentence = \"\"\"At eight o'clock on Thursday morning Arthur won't feel very good.\"\"\"\n",
        "#Zobaczmy jak zostanie stokenizowanie powyższe zdanie\n",
        "word_tokenize(sentence)"
      ]
    },
    {
      "cell_type": "markdown",
      "id": "07a13354",
      "metadata": {
        "id": "07a13354"
      },
      "source": [
        "# Stop words"
      ]
    },
    {
      "cell_type": "code",
      "execution_count": null,
      "id": "riCDprjCHoS_",
      "metadata": {
        "id": "riCDprjCHoS_",
        "colab": {
          "base_uri": "https://localhost:8080/"
        },
        "outputId": "0d4e6680-b8f6-40b4-a883-a3aacd4683c0"
      },
      "outputs": [
        {
          "output_type": "stream",
          "name": "stderr",
          "text": [
            "[nltk_data] Downloading package stopwords to /root/nltk_data...\n",
            "[nltk_data]   Unzipping corpora/stopwords.zip.\n"
          ]
        },
        {
          "output_type": "execute_result",
          "data": {
            "text/plain": [
              "True"
            ]
          },
          "metadata": {},
          "execution_count": 79
        }
      ],
      "source": [
        "nltk.download('stopwords')"
      ]
    },
    {
      "cell_type": "code",
      "execution_count": null,
      "id": "89e5710d",
      "metadata": {
        "id": "89e5710d",
        "colab": {
          "base_uri": "https://localhost:8080/"
        },
        "outputId": "fea1de0e-6934-43a4-c884-2eeda2be4418"
      },
      "outputs": [
        {
          "output_type": "stream",
          "name": "stdout",
          "text": [
            "['i', 'me', 'my', 'myself', 'we', 'our', 'ours', 'ourselves', 'you', \"you're\", \"you've\", \"you'll\", \"you'd\", 'your', 'yours', 'yourself', 'yourselves', 'he', 'him', 'his', 'himself', 'she', \"she's\", 'her', 'hers', 'herself', 'it', \"it's\", 'its', 'itself', 'they', 'them', 'their', 'theirs', 'themselves', 'what', 'which', 'who', 'whom', 'this', 'that', \"that'll\", 'these', 'those', 'am', 'is', 'are', 'was', 'were', 'be', 'been', 'being', 'have', 'has', 'had', 'having', 'do', 'does', 'did', 'doing', 'a', 'an', 'the', 'and', 'but', 'if', 'or', 'because', 'as', 'until', 'while', 'of', 'at', 'by', 'for', 'with', 'about', 'against', 'between', 'into', 'through', 'during', 'before', 'after', 'above', 'below', 'to', 'from', 'up', 'down', 'in', 'out', 'on', 'off', 'over', 'under', 'again', 'further', 'then', 'once', 'here', 'there', 'when', 'where', 'why', 'how', 'all', 'any', 'both', 'each', 'few', 'more', 'most', 'other', 'some', 'such', 'no', 'nor', 'not', 'only', 'own', 'same', 'so', 'than', 'too', 'very', 's', 't', 'can', 'will', 'just', 'don', \"don't\", 'should', \"should've\", 'now', 'd', 'll', 'm', 'o', 're', 've', 'y', 'ain', 'aren', \"aren't\", 'couldn', \"couldn't\", 'didn', \"didn't\", 'doesn', \"doesn't\", 'hadn', \"hadn't\", 'hasn', \"hasn't\", 'haven', \"haven't\", 'isn', \"isn't\", 'ma', 'mightn', \"mightn't\", 'mustn', \"mustn't\", 'needn', \"needn't\", 'shan', \"shan't\", 'shouldn', \"shouldn't\", 'wasn', \"wasn't\", 'weren', \"weren't\", 'won', \"won't\", 'wouldn', \"wouldn't\"]\n"
          ]
        }
      ],
      "source": [
        "import nltk\n",
        "\n",
        "from nltk.corpus import stopwords\n",
        "#Wypiszmy zbiór stopwords dla języka angielskiego\n",
        "print(stopwords.words('english'))"
      ]
    },
    {
      "cell_type": "code",
      "execution_count": null,
      "id": "442a8b79",
      "metadata": {
        "id": "442a8b79",
        "colab": {
          "base_uri": "https://localhost:8080/"
        },
        "outputId": "254f095e-a8f7-4a1b-ab7c-22c6b0657a99"
      },
      "outputs": [
        {
          "output_type": "stream",
          "name": "stdout",
          "text": [
            "['arabic', 'azerbaijani', 'basque', 'bengali', 'catalan', 'chinese', 'danish', 'dutch', 'english', 'finnish', 'french', 'german', 'greek', 'hebrew', 'hinglish', 'hungarian', 'indonesian', 'italian', 'kazakh', 'nepali', 'norwegian', 'portuguese', 'romanian', 'russian', 'slovene', 'spanish', 'swedish', 'tajik', 'turkish']\n"
          ]
        }
      ],
      "source": [
        "#Sprawdźmy dla jakich języków występuje corpus nltk stopwords\n",
        "print(stopwords.fileids())"
      ]
    },
    {
      "cell_type": "code",
      "execution_count": null,
      "id": "43a2657c",
      "metadata": {
        "id": "43a2657c",
        "colab": {
          "base_uri": "https://localhost:8080/"
        },
        "outputId": "8d91698f-33ff-4fd8-9a29-4a7b10b615a3"
      },
      "outputs": [
        {
          "output_type": "stream",
          "name": "stdout",
          "text": [
            "['go', 'grocery', 'store', 'get', 'tomatoes', 'apples']\n"
          ]
        }
      ],
      "source": [
        "from nltk.corpus import stopwords\n",
        "from nltk.tokenize import word_tokenize\n",
        "\n",
        "example_sent = \"\"\"I go to the grocery store to get tomatoes and apples\"\"\"\n",
        "  \n",
        "#Usuńmy stopwords z powyższego zdania\n",
        "stop_words = stopwords.words('english')\n",
        "word_tokens = word_tokenize(example_sent)\n",
        "filtered_sent = [w for w in word_tokens if not w.lower() in stop_words]\n",
        "print(filtered_sent)"
      ]
    },
    {
      "cell_type": "markdown",
      "id": "4762dec7",
      "metadata": {
        "id": "4762dec7"
      },
      "source": [
        "# Stemming"
      ]
    },
    {
      "cell_type": "code",
      "execution_count": null,
      "id": "11d080af",
      "metadata": {
        "id": "11d080af",
        "colab": {
          "base_uri": "https://localhost:8080/"
        },
        "outputId": "452f02e3-6d44-45eb-de3b-8162b7eb2142"
      },
      "outputs": [
        {
          "output_type": "stream",
          "name": "stdout",
          "text": [
            "wait\n",
            "wait\n",
            "wait\n",
            "wait\n",
            "waiter\n"
          ]
        }
      ],
      "source": [
        "from nltk.stem import PorterStemmer\n",
        "from nltk.stem import LancasterStemmer\n",
        "e_words= [\"wait\", \"waiting\", \"waited\", \"waits\", 'waiter']\n",
        "# e_words = ['break', 'broke', 'broken']\n",
        "#Sprawdźmy działanie PorterStemmera na powyższych słowach\n",
        "porter = PorterStemmer()\n",
        "for w in e_words:\n",
        "    root_word = porter.stem(w)\n",
        "    print(root_word)"
      ]
    },
    {
      "cell_type": "code",
      "source": [
        "lancaster = LancasterStemmer()\n",
        "for w in e_words:\n",
        "    root_word = lancaster.stem(w)\n",
        "    print(root_word)"
      ],
      "metadata": {
        "colab": {
          "base_uri": "https://localhost:8080/"
        },
        "id": "CDHvfkNc-xeD",
        "outputId": "300c6bd8-8b71-4581-bd57-35eab545a936"
      },
      "id": "CDHvfkNc-xeD",
      "execution_count": null,
      "outputs": [
        {
          "output_type": "stream",
          "name": "stdout",
          "text": [
            "wait\n",
            "wait\n",
            "wait\n",
            "wait\n",
            "wait\n"
          ]
        }
      ]
    },
    {
      "cell_type": "code",
      "execution_count": null,
      "id": "2c161692",
      "metadata": {
        "id": "2c161692",
        "colab": {
          "base_uri": "https://localhost:8080/"
        },
        "outputId": "94c83685-92ea-4ce8-874d-27bd9aeac61e"
      },
      "outputs": [
        {
          "output_type": "stream",
          "name": "stdout",
          "text": [
            "the\n",
            "witcher\n",
            "halt\n",
            "at\n",
            "a\n",
            "distanc\n",
            "of\n",
            "ten\n",
            "pace\n",
            ".\n",
            "hi\n",
            "sword\n",
            ",\n",
            "slowli\n",
            "drawn\n",
            "from\n",
            "it\n",
            "black\n",
            "enamel\n",
            "sheath\n",
            ",\n",
            "glisten\n",
            "and\n",
            "glow\n",
            "abov\n",
            "hi\n",
            "head\n",
            ".\n"
          ]
        }
      ],
      "source": [
        "from nltk.tokenize import sent_tokenize, word_tokenize\n",
        "sentence=\"The witcher halted at a distance of ten paces.  His sword, slowly drawn from its black enameled sheath, glistened and glowed above his head. \"\n",
        "#PorterStemmer dla całego zdania\n",
        "for w in word_tokenize(sentence):\n",
        "  root_word = porter.stem(w)\n",
        "  print(root_word)"
      ]
    },
    {
      "cell_type": "code",
      "execution_count": null,
      "id": "bc7aa6e7",
      "metadata": {
        "id": "bc7aa6e7",
        "colab": {
          "base_uri": "https://localhost:8080/"
        },
        "outputId": "fb11d942-23b2-4a0d-f246-f50e23159504"
      },
      "outputs": [
        {
          "output_type": "stream",
          "name": "stdout",
          "text": [
            "Word                Porter Stemmer      Lancaster Stemmer   \n",
            "friend              friend              friend              \n",
            "friendship          friendship          friend              \n",
            "friends             friend              friend              \n",
            "stabil              stabil              stabl               \n",
            "destabilize         destabil            dest                \n",
            "misunderstanding    misunderstand       misunderstand       \n",
            "railroad            railroad            railroad            \n",
            "moonlight           moonlight           moonlight           \n",
            "football            footbal             footbal             \n"
          ]
        }
      ],
      "source": [
        "lancaster = LancasterStemmer()\n",
        "word_list = [\"friend\", \"friendship\", \"friends\",\"stabil\",\"destabilize\",\"misunderstanding\",\"railroad\",\"moonlight\",\"football\"]\n",
        "#Sprawdźmy powyższe słowa za pomocą LancasterStemmer\n",
        "print(\"{0:20}{1:20}{2:20}\". format(\"Word\", \"Porter Stemmer\", \"Lancaster Stemmer\"))\n",
        "for w in word_list:\n",
        "  print(\"{0:20}{1:20}{2:20}\". format(w, porter.stem(w), lancaster.stem(w)))"
      ]
    },
    {
      "cell_type": "code",
      "execution_count": null,
      "id": "95723288",
      "metadata": {
        "id": "95723288"
      },
      "outputs": [],
      "source": [
        "text = \"studies studying cries cry\"\n",
        "#Użyjmy PorterSemmera dla powyższych słów\n",
        "tokenization = word_tokenize(text)\n",
        "for w in tokenization:\n",
        "  print(f\"Stemming for {w} is {porter.stem(w)}\")"
      ]
    },
    {
      "cell_type": "markdown",
      "id": "0b5f4a62",
      "metadata": {
        "id": "0b5f4a62"
      },
      "source": [
        "# Lemmatization"
      ]
    },
    {
      "cell_type": "code",
      "execution_count": null,
      "id": "JybUFh3cISOE",
      "metadata": {
        "id": "JybUFh3cISOE"
      },
      "outputs": [],
      "source": [
        "nltk.download('wordnet')\n",
        "nltk.download('omw-1.4')"
      ]
    },
    {
      "cell_type": "code",
      "execution_count": null,
      "id": "13faa1b4",
      "metadata": {
        "id": "13faa1b4"
      },
      "outputs": [],
      "source": [
        "from nltk.stem import WordNetLemmatizer\n",
        "wordnet_lemmatizer = WordNetLemmatizer()\n",
        "text = \"studies studying cries cry\"\n",
        "#Sprawdźmy działanie WordNetLemmatizer dla powyższych słów\n"
      ]
    },
    {
      "cell_type": "code",
      "execution_count": null,
      "id": "0623e2de",
      "metadata": {
        "id": "0623e2de"
      },
      "outputs": [],
      "source": [
        "from nltk.stem import WordNetLemmatizer\n",
        "wordnet_lemmatizer = WordNetLemmatizer()\n",
        "\n",
        "sentence = \"He was running and eating at same time. He has bad habit of swimming after playing long hours in the Sun.\"\n",
        "punctuations=\"?:!.,;\"\n",
        "#Proszę wypisać porównanie pomiędzy wynikiem lematyzacji dla powyższych wyrazów, pomijając znaki interpunkcyjne\n",
        "\n",
        "\n",
        "print(\"{0:20}{1:20}\".format(\"Word\", \"Lemma\"))\n",
        "for w in tokenize:\n",
        "  print(\"{0:20}{1:20}\".format(None, None))"
      ]
    },
    {
      "cell_type": "code",
      "execution_count": null,
      "id": "a017ff7f",
      "metadata": {
        "id": "a017ff7f"
      },
      "outputs": [],
      "source": [
        "print(\"{0:20}{1:35}{2:35}\".format(\"Orginal\",\"Part of Speech tag set to Verb\",\"Part of Speech tag set to Noun\"))\n",
        "#Wypiszmy porównanie tak jak powyżej ale ustawmy paramter lematyzacji na pos='v' albo pos='n')\n",
        "for w in tokenize:\n",
        "  print(\"{0:20}{1:35}{2:35}\".format(None,None,None))"
      ]
    },
    {
      "cell_type": "code",
      "execution_count": null,
      "id": "rpU8JHV8IZWe",
      "metadata": {
        "id": "rpU8JHV8IZWe"
      },
      "outputs": [],
      "source": [
        "nltk.download('averaged_perceptron_tagger')"
      ]
    },
    {
      "cell_type": "code",
      "execution_count": null,
      "id": "88aff160",
      "metadata": {
        "id": "88aff160"
      },
      "outputs": [],
      "source": [
        "from nltk.corpus import wordnet as wn\n",
        "from nltk.stem.wordnet import WordNetLemmatizer\n",
        "from nltk import word_tokenize, pos_tag\n",
        "from collections import defaultdict\n",
        "#poniżej przygotowany słownik pod Part Of Speech Tags jako argument to lematyzacji\n",
        "tag_map = defaultdict(lambda : wn.NOUN)\n",
        "tag_map['J'] = wn.ADJ\n",
        "tag_map['V'] = wn.VERB\n",
        "tag_map['R'] = wn.ADV\n",
        "lemma_function = WordNetLemmatizer()\n",
        "\n",
        "text = \"He was running and eating at same time. He has bad habit of swimming after playing long hours in the Sun.\"\n",
        "#Proszę wykonać lematyzację dla powyższych wyrazów, z uwzględnieniem poprawnych POS\n",
        "\n"
      ]
    },
    {
      "cell_type": "code",
      "execution_count": null,
      "id": "d0bff2c8",
      "metadata": {
        "id": "d0bff2c8"
      },
      "outputs": [],
      "source": [
        "text=\"The witcher halted at a distance of ten paces.  His sword, slowly drawn from its black enameled sheath, glistened and glowed above his head. \"\n",
        "# tokens = word_tokenize(text)\n",
        "#Tak jak powyżej, dla nowego zdania\n",
        "\n"
      ]
    },
    {
      "cell_type": "code",
      "execution_count": null,
      "id": "b47c77ac",
      "metadata": {
        "id": "b47c77ac"
      },
      "outputs": [],
      "source": [
        "tag_map"
      ]
    },
    {
      "cell_type": "markdown",
      "id": "7a9e4d0c",
      "metadata": {
        "id": "7a9e4d0c"
      },
      "source": [
        "# Regular Expressions"
      ]
    },
    {
      "cell_type": "code",
      "execution_count": null,
      "id": "3117277a",
      "metadata": {
        "id": "3117277a"
      },
      "outputs": [],
      "source": [
        "import re"
      ]
    },
    {
      "cell_type": "code",
      "execution_count": null,
      "id": "074448bf",
      "metadata": {
        "id": "074448bf"
      },
      "outputs": [],
      "source": [
        "re.search(r'k.t', 'test k4t')"
      ]
    },
    {
      "cell_type": "code",
      "source": [
        "text = 'tottt test'\n",
        "if re.search(r'^k', text):\n",
        "  print(text + text)\n",
        "else:\n",
        "  print(\"Pattern not found\")"
      ],
      "metadata": {
        "id": "rbihANWMB4Fb"
      },
      "id": "rbihANWMB4Fb",
      "execution_count": null,
      "outputs": []
    },
    {
      "cell_type": "code",
      "execution_count": null,
      "id": "d3c8ae6b",
      "metadata": {
        "id": "d3c8ae6b"
      },
      "outputs": [],
      "source": [
        "re.search(r'kot+', 'kottttttttttt')"
      ]
    },
    {
      "cell_type": "code",
      "execution_count": null,
      "id": "04cce52a",
      "metadata": {
        "id": "04cce52a"
      },
      "outputs": [],
      "source": [
        "re.search(r'^t', 'kottt test')"
      ]
    },
    {
      "cell_type": "code",
      "execution_count": null,
      "id": "709e022d",
      "metadata": {
        "id": "709e022d"
      },
      "outputs": [],
      "source": [
        "re.search(r't$', 'bottttest')"
      ]
    },
    {
      "cell_type": "code",
      "execution_count": null,
      "id": "cd02a4ee",
      "metadata": {
        "id": "cd02a4ee"
      },
      "outputs": [],
      "source": [
        "re.search(r'k[oa]t', 'kct')"
      ]
    },
    {
      "cell_type": "code",
      "execution_count": null,
      "id": "809c731c",
      "metadata": {
        "id": "809c731c"
      },
      "outputs": [],
      "source": [
        "re.search(r'k[a-d]t', 'ket')"
      ]
    },
    {
      "cell_type": "code",
      "execution_count": null,
      "id": "f57dcf93",
      "metadata": {
        "id": "f57dcf93"
      },
      "outputs": [],
      "source": [
        "re.search(r'k[1-4]t', 'k3.3t')"
      ]
    },
    {
      "cell_type": "code",
      "execution_count": null,
      "id": "4947fe81",
      "metadata": {
        "id": "4947fe81"
      },
      "outputs": [],
      "source": [
        "re.search(r'.+t\\b', 'bottttest')"
      ]
    },
    {
      "cell_type": "code",
      "execution_count": null,
      "id": "06c40404",
      "metadata": {
        "id": "06c40404"
      },
      "outputs": [],
      "source": [
        "re.search(r'\\d\\d', '20')"
      ]
    },
    {
      "cell_type": "code",
      "execution_count": null,
      "id": "477e909e",
      "metadata": {
        "id": "477e909e"
      },
      "outputs": [],
      "source": [
        "re.search(r'k\\st', 'k t')"
      ]
    },
    {
      "cell_type": "code",
      "execution_count": null,
      "id": "ed76e33f",
      "metadata": {
        "id": "ed76e33f"
      },
      "outputs": [],
      "source": [
        "re.search(r'k\\St', 'kot')"
      ]
    },
    {
      "cell_type": "markdown",
      "id": "4f13d6b9",
      "metadata": {
        "id": "4f13d6b9"
      },
      "source": [
        "# Word Terms Disambiguation"
      ]
    },
    {
      "cell_type": "code",
      "execution_count": null,
      "id": "536ce30e",
      "metadata": {
        "id": "536ce30e"
      },
      "outputs": [],
      "source": [
        "from nltk.wsd import lesk\n",
        "from nltk.tokenize import word_tokenize\n",
        "sentence = 'This device is used to jam the signal'\n",
        "#Proszę sprawdzić definicję słówka 'jam' za pomocą funkcji lesk\n"
      ]
    },
    {
      "cell_type": "code",
      "execution_count": null,
      "id": "eea4de5d",
      "metadata": {
        "id": "eea4de5d"
      },
      "outputs": [],
      "source": [
        "sentence = 'I am stuck in a traffic jam'\n",
        "#Proszę sprawdzić definicję słówka 'jam' za pomocą funkcji lesk\n"
      ]
    },
    {
      "cell_type": "code",
      "execution_count": null,
      "id": "bb027d30",
      "metadata": {
        "id": "bb027d30"
      },
      "outputs": [],
      "source": [
        "sentence = 'Water current'\n",
        "#Proszę sprawdzić definicję słówka 'current' za pomocą funkcji lesk\n"
      ]
    },
    {
      "cell_type": "code",
      "execution_count": null,
      "id": "f79567d4",
      "metadata": {
        "id": "f79567d4"
      },
      "outputs": [],
      "source": [
        "sentence = 'The current time is 2 AM'\n",
        "#Proszę sprawdzić definicję słówka 'current' za pomocą funkcji lesk\n"
      ]
    },
    {
      "cell_type": "markdown",
      "id": "f81531bb",
      "metadata": {
        "id": "f81531bb"
      },
      "source": [
        "# Parsing Tree"
      ]
    },
    {
      "cell_type": "code",
      "execution_count": null,
      "id": "5e680181",
      "metadata": {
        "id": "5e680181"
      },
      "outputs": [],
      "source": [
        "import nltk\n",
        "\n",
        "#Poniżej zdefiniowana prosta gramatyka\n",
        "groucho_grammar = nltk.CFG.fromstring(\"\"\"\n",
        "S -> NP VP\n",
        "PP -> P NP\n",
        "NP -> Det N | Det N PP | 'I'\n",
        "VP -> V NP | VP PP\n",
        "Det -> 'an' | 'my'\n",
        "N -> 'elephant' | 'pajamas'\n",
        "V -> 'shot'\n",
        "P -> 'in'\n",
        "\"\"\")"
      ]
    },
    {
      "cell_type": "code",
      "execution_count": null,
      "id": "7355619d",
      "metadata": {
        "id": "7355619d"
      },
      "outputs": [],
      "source": [
        "groucho_grammar.productions()"
      ]
    },
    {
      "cell_type": "code",
      "execution_count": null,
      "id": "83fe87d9",
      "metadata": {
        "id": "83fe87d9"
      },
      "outputs": [],
      "source": [
        "from nltk.grammar import *\n",
        "\n",
        "groucho_grammar.productions(lhs=Nonterminal(\"NP\"))"
      ]
    },
    {
      "cell_type": "code",
      "execution_count": null,
      "id": "aa1fee2f",
      "metadata": {
        "id": "aa1fee2f"
      },
      "outputs": [],
      "source": [
        "groucho_grammar.productions(rhs=Nonterminal(\"Det\"))"
      ]
    },
    {
      "cell_type": "code",
      "execution_count": null,
      "id": "3a1d1b99",
      "metadata": {
        "id": "3a1d1b99"
      },
      "outputs": [],
      "source": [
        "pp = groucho_grammar.productions(rhs=Nonterminal(\"Det\"))\n",
        "pp[0]\n"
      ]
    },
    {
      "cell_type": "code",
      "execution_count": null,
      "id": "6d1a7aeb",
      "metadata": {
        "id": "6d1a7aeb"
      },
      "outputs": [],
      "source": [
        "pp[0].lhs()"
      ]
    },
    {
      "cell_type": "code",
      "execution_count": null,
      "id": "3f4f6820",
      "metadata": {
        "id": "3f4f6820"
      },
      "outputs": [],
      "source": [
        "pp[0].rhs()"
      ]
    },
    {
      "cell_type": "code",
      "execution_count": null,
      "id": "b5593588",
      "metadata": {
        "id": "b5593588"
      },
      "outputs": [],
      "source": [
        "sent = ['I', 'shot', 'an', 'elephant', 'in', 'my', 'pajamas']\n",
        "#Wyznaczmy drzewo składniowe dla powyższego zdania zgodnie ze zdefiniowaną gramatyką\n"
      ]
    },
    {
      "cell_type": "code",
      "execution_count": null,
      "id": "03ec7beb",
      "metadata": {
        "id": "03ec7beb"
      },
      "outputs": [],
      "source": [
        "#wyrysujmy te drzewo\n"
      ]
    },
    {
      "cell_type": "code",
      "execution_count": null,
      "id": "b3a66731",
      "metadata": {
        "id": "b3a66731"
      },
      "outputs": [],
      "source": [
        "#wyrysujmy te drzewo w przystępnej formie graficznej\n"
      ]
    },
    {
      "cell_type": "code",
      "execution_count": null,
      "id": "efc462a2",
      "metadata": {
        "id": "efc462a2"
      },
      "outputs": [],
      "source": [
        "#Czy istnieje inne drzewo? Oznaczające inną interpretacje zdania?\n"
      ]
    },
    {
      "cell_type": "markdown",
      "id": "6ced82d8",
      "metadata": {
        "id": "6ced82d8"
      },
      "source": [
        "# NER"
      ]
    },
    {
      "cell_type": "code",
      "execution_count": null,
      "id": "72491c8f",
      "metadata": {
        "id": "72491c8f"
      },
      "outputs": [],
      "source": [
        "import spacy\n",
        "\n",
        "nlp = spacy.load(\"en_core_web_sm\")\n",
        "nlp.get_pipe(\"ner\").labels\n"
      ]
    },
    {
      "cell_type": "code",
      "source": [
        "doc = nlp('London is a big city in the United Kingdom the United States.')\n",
        "print(\"\\n-------Example 1 ------\\n\")\n",
        "#Proszę wypisać wpydowane w spacy Entities dla powyższego zdania\n",
        "\n",
        "\n",
        "doc1 = nlp('While in France, Christine Lagarde discussed short-term stimulus efforts in a '\n",
        "           'recent interview on 5:00 P.M. with the Wall Street Journal')\n",
        "print(\"\\n-------Example 2 ------\\n\")\n",
        "#Proszę wypisać wpydowane w spacy Entities dla powyższego zdania\n"
      ],
      "metadata": {
        "id": "o6Uk_lbTD9M7"
      },
      "id": "o6Uk_lbTD9M7",
      "execution_count": null,
      "outputs": []
    },
    {
      "cell_type": "code",
      "source": [
        "for token in doc1:\n",
        "    print(token.text, token.pos_, token.tag_)"
      ],
      "metadata": {
        "id": "AX3wYxMNj-w6"
      },
      "id": "AX3wYxMNj-w6",
      "execution_count": null,
      "outputs": []
    },
    {
      "cell_type": "code",
      "execution_count": null,
      "id": "ac0fd814",
      "metadata": {
        "id": "ac0fd814"
      },
      "outputs": [],
      "source": [
        "!spacy download pl_core_news_sm\n",
        "import spacy\n",
        "nlp_pl=spacy.load(\"pl_core_news_sm\")"
      ]
    },
    {
      "cell_type": "code",
      "source": [
        "nlp_pl.get_pipe(\"ner\").labels"
      ],
      "metadata": {
        "id": "EtBayWiWI9U9"
      },
      "id": "EtBayWiWI9U9",
      "execution_count": null,
      "outputs": []
    },
    {
      "cell_type": "code",
      "execution_count": null,
      "id": "be969e37",
      "metadata": {
        "id": "be969e37"
      },
      "outputs": [],
      "source": [
        "doc=nlp_pl(\"Tomek pracuje w Tesli\")\n",
        "#A Entities dla języka polskiego?\n"
      ]
    },
    {
      "cell_type": "code",
      "source": [
        "doc=nlp(\"Wcale nie chcemy zdobywać kosmosu, chcemy tylko rozszerzyć Ziemię do jego granic.\")\n",
        "#A Entities dla języka polskiego?\n"
      ],
      "metadata": {
        "id": "MWblWhV7R0fx"
      },
      "id": "MWblWhV7R0fx",
      "execution_count": null,
      "outputs": []
    },
    {
      "cell_type": "code",
      "execution_count": null,
      "id": "11fbb3a7",
      "metadata": {
        "id": "11fbb3a7"
      },
      "outputs": [],
      "source": [
        "doc1 = nlp_pl(u'Francja leży w Europie')\n",
        "#A Entities dla języka polskiego?\n"
      ]
    },
    {
      "cell_type": "markdown",
      "id": "5504e91a",
      "metadata": {
        "id": "5504e91a"
      },
      "source": [
        "# Embeddings"
      ]
    },
    {
      "cell_type": "code",
      "source": [
        "import nltk\n",
        "nltk.download('brown')"
      ],
      "metadata": {
        "id": "hRfXDbEfyPz-"
      },
      "id": "hRfXDbEfyPz-",
      "execution_count": null,
      "outputs": []
    },
    {
      "cell_type": "code",
      "execution_count": null,
      "id": "582aaa16",
      "metadata": {
        "id": "582aaa16"
      },
      "outputs": [],
      "source": [
        "from gensim.test.utils import common_texts\n",
        "from nltk.corpus import brown    \n",
        "sentences = brown.sents()\n",
        "from gensim.models import Word2Vec\n",
        "\n",
        "#Proszę wytrenować model Word2Vec za pomocą korpusu brown, długość embeddingu - 100, wielkość okna - 5, \n",
        "#wziąć pod uwagę słowo jeśli występuje chociaż raz, liczbę epok ustawić na 10\n",
        "#na końcu zapisać model\n"
      ]
    },
    {
      "cell_type": "code",
      "execution_count": null,
      "id": "c0d0642d",
      "metadata": {
        "id": "c0d0642d"
      },
      "outputs": [],
      "source": [
        "#Jak wygląda embedding dla przykładowego słowa?\n",
        "model.wv['computer']"
      ]
    },
    {
      "cell_type": "code",
      "execution_count": null,
      "id": "610fac55",
      "metadata": {
        "id": "610fac55"
      },
      "outputs": [],
      "source": [
        "#Jakie jest 10 najbliższych wektorów do słówka 'wine'?\n"
      ]
    },
    {
      "cell_type": "code",
      "source": [
        "nltk.download('webtext')\n"
      ],
      "metadata": {
        "id": "8QwiUwgJqQt3"
      },
      "id": "8QwiUwgJqQt3",
      "execution_count": null,
      "outputs": []
    },
    {
      "cell_type": "code",
      "source": [
        "nltk.download('punkt')"
      ],
      "metadata": {
        "id": "fPG0aL06rQ6R"
      },
      "id": "fPG0aL06rQ6R",
      "execution_count": null,
      "outputs": []
    },
    {
      "cell_type": "code",
      "execution_count": null,
      "id": "eae89028",
      "metadata": {
        "id": "eae89028"
      },
      "outputs": [],
      "source": [
        "from nltk.corpus import webtext   \n",
        "sentences_web = webtext.sents()\n",
        "\n",
        "#Proszę załadować zapisany model i kontynuować trenowanie dla corpusu webtext, przez 4 epoki\n"
      ]
    },
    {
      "cell_type": "code",
      "execution_count": null,
      "id": "6aa95583",
      "metadata": {
        "id": "6aa95583"
      },
      "outputs": [],
      "source": [
        "#Jakie jest 10 najbliższych wektorów do słówka 'wine' teraz?\n"
      ]
    },
    {
      "cell_type": "code",
      "execution_count": null,
      "id": "8c7ee0a6",
      "metadata": {
        "id": "8c7ee0a6"
      },
      "outputs": [],
      "source": [
        "#Co się stanie gdy się zapytamy o niewystępujące słowo?\n"
      ]
    },
    {
      "cell_type": "code",
      "execution_count": null,
      "id": "b0af7246",
      "metadata": {
        "id": "b0af7246"
      },
      "outputs": [],
      "source": [
        "#Proszę znaleść najbliższe wektory dla \"algebry emebddingów\": king - man + woman\n"
      ]
    },
    {
      "cell_type": "code",
      "execution_count": null,
      "id": "7ac7a700",
      "metadata": {
        "id": "7ac7a700"
      },
      "outputs": [],
      "source": [
        "import gensim.downloader\n",
        "# Show all available models in gensim-data\n",
        "print(list(gensim.downloader.info()['models'].keys()))"
      ]
    },
    {
      "cell_type": "code",
      "execution_count": null,
      "id": "da53453a",
      "metadata": {
        "id": "da53453a"
      },
      "outputs": [],
      "source": [
        "w2v_vectors = gensim.downloader.load('word2vec-google-news-300')"
      ]
    },
    {
      "cell_type": "code",
      "source": [
        "w2v_vectors.most_similar(w2v_vectors['father'] - w2v_vectors['man'] + w2v_vectors['woman'], topn=10)"
      ],
      "metadata": {
        "id": "mMOUbM31r897"
      },
      "id": "mMOUbM31r897",
      "execution_count": null,
      "outputs": []
    },
    {
      "cell_type": "code",
      "source": [
        "w2v_vectors.most_similar('wine', topn=10)"
      ],
      "metadata": {
        "id": "qbqGGbSfsRd-"
      },
      "id": "qbqGGbSfsRd-",
      "execution_count": null,
      "outputs": []
    },
    {
      "cell_type": "code",
      "execution_count": null,
      "id": "1c65f851",
      "metadata": {
        "id": "1c65f851"
      },
      "outputs": [],
      "source": [
        "#Jakie jest 10 najbliższych wektorów do słówka 'dog'?\n",
        "w2v_vectors.most_similar('dog', topn=10)"
      ]
    },
    {
      "cell_type": "code",
      "execution_count": null,
      "id": "b3bd8fa5",
      "metadata": {
        "id": "b3bd8fa5"
      },
      "outputs": [],
      "source": [
        "#Proszę znaleść najbliższe wektory dla \"algebry emebddingów\": death - man + computer\n",
        "w2v_vectors.most_similar(w2v_vectors['death'] - w2v_vectors['man'] + w2v_vectors['computer'], topn=10)"
      ]
    },
    {
      "cell_type": "code",
      "source": [
        "w2v_vectors['death'].shape"
      ],
      "metadata": {
        "id": "eqt6zMnV13ph"
      },
      "id": "eqt6zMnV13ph",
      "execution_count": null,
      "outputs": []
    },
    {
      "cell_type": "code",
      "execution_count": null,
      "id": "6f9ff8e6",
      "metadata": {
        "id": "6f9ff8e6"
      },
      "outputs": [],
      "source": [
        "import matplotlib.pyplot as plt\n",
        "from sklearn.decomposition  import PCA\n",
        "import numpy as np\n",
        "\n",
        "def to_2d(embeddings):\n",
        "    # To reduce embedding dims without losing much information we use PCA\n",
        "    pca = PCA(n_components=2, whiten=True)\n",
        "    pca.fit(embeddings)\n",
        "    return pca.transform(embeddings)\n",
        "\n",
        "\n",
        "def annotated_scatter(points, names, color='blue'):\n",
        "    x_coords = points[:, 0]\n",
        "    y_coords = points[:, 1]\n",
        "    plt.scatter(x_coords, y_coords, c=color)\n",
        "    for label, x, y in zip(names, x_coords, y_coords):\n",
        "                      plt.annotate(label, xy=(x, y), xytext=(0, 0), textcoords='offset points')\n",
        "    plt.xlim(x_coords.min() - .5, x_coords.max() + .5)\n",
        "    plt.ylim(y_coords.min() - .5, y_coords.max() + .5)\n",
        "\n",
        "    \n",
        "def plot_embeddings(embeddings, names, color='blue', show=True):\n",
        "    X_train = np.array([embeddings[k] for k in names])\n",
        "    embeddings_2d = to_2d(X_train)\n",
        "    \n",
        "    annotated_scatter(embeddings_2d, names, color)\n",
        "    plt.grid()\n",
        "    \n",
        "    if show:\n",
        "        plt.show()"
      ]
    },
    {
      "cell_type": "code",
      "execution_count": null,
      "id": "673140fb",
      "metadata": {
        "id": "673140fb"
      },
      "outputs": [],
      "source": [
        "near_dog = [elem[0] for elem in w2v_vectors.most_similar(w2v_vectors['dog'])]\n",
        "near_computer = [elem[0] for elem in w2v_vectors.most_similar(w2v_vectors['computer'])]\n",
        "len(near_computer)"
      ]
    },
    {
      "cell_type": "code",
      "execution_count": null,
      "id": "9f5324ec",
      "metadata": {
        "id": "9f5324ec"
      },
      "outputs": [],
      "source": [
        "plot_embeddings(w2v_vectors, \n",
        "                near_dog + near_computer, \n",
        "                color=['red'] * len(near_dog) + ['green'] * len(near_computer))"
      ]
    },
    {
      "cell_type": "code",
      "execution_count": null,
      "id": "34cc9cff",
      "metadata": {
        "id": "34cc9cff"
      },
      "outputs": [],
      "source": [
        "from collections import namedtuple\n",
        "import matplotlib.lines as mlines\n",
        "from matplotlib import cm\n",
        "\n",
        "LinearSubs = namedtuple('LinearSubs', \n",
        "                        ('word_pair', 'name'))\n",
        "\n",
        "def plot_linear_substructures(linear_subs, embeddings):\n",
        "    embeddings_matrix = [embeddings[p] for ls in linear_subs for p in ls.word_pair]\n",
        "    embeddings_matrix = np.array(embeddings_matrix)\n",
        "    pair_names = [p for ls in linear_subs for p in ls.word_pair]\n",
        "    ls_names = [ls.name for ls in linear_subs]\n",
        "    embeddings_2d = to_2d(embeddings_matrix)\n",
        "    annotated_scatter(embeddings_2d, \n",
        "                      pair_names, \n",
        "                      cm.Set1.colors[:len(embeddings_2d)])\n",
        "    \n",
        "    for i in range(0, len(embeddings_2d), 2):\n",
        "        p1 = embeddings_2d[i]\n",
        "        p2 = embeddings_2d[i + 1]\n",
        "        # Center of the linear substructure\n",
        "        center = [(p1[i] + p2[i]) / 2 + .04 for i in range(2)]\n",
        "        \n",
        "        plt.plot(*zip(p1, p2), '--')\n",
        "        plt.annotate(ls_names[i // 2], \n",
        "                     xy=center, \n",
        "                     xytext=(0, 0), textcoords='offset points')"
      ]
    },
    {
      "cell_type": "code",
      "execution_count": null,
      "id": "aeec3fb5",
      "metadata": {
        "id": "aeec3fb5"
      },
      "outputs": [],
      "source": [
        "plt.figure(figsize=(20, 5))\n",
        "\n",
        "plt.subplot(131)\n",
        "plot_linear_substructures([LinearSubs(('man', 'woman'), 'sex'),\n",
        "                           LinearSubs(('king', 'queen'), 'sex'),\n",
        "                           LinearSubs(('mother', 'father'), 'sex')], w2v_vectors)\n",
        "\n",
        "plt.subplot(132)\n",
        "plot_linear_substructures([LinearSubs(('cat', 'feline'), 'family'),\n",
        "                           LinearSubs(('dog', 'canine'), 'family'),\n",
        "                           LinearSubs(('parrot', 'bird'), 'family')], w2v_vectors)\n",
        "\n",
        "plt.subplot(133)\n",
        "plot_linear_substructures([LinearSubs(('samsung', 'mobile'), 'product'),\n",
        "                           LinearSubs(('sony', 'tv'), 'product'),\n",
        "                           LinearSubs(('ikea', 'furniture'), 'product')], w2v_vectors)"
      ]
    },
    {
      "cell_type": "code",
      "execution_count": null,
      "id": "fdb0a4cf",
      "metadata": {
        "id": "fdb0a4cf"
      },
      "outputs": [],
      "source": [
        "#Glove 6B\n",
        "\n",
        "!curl -OL http://nlp.stanford.edu/data/glove.6B.zip -o glove.6B.zip\n",
        "#wget\n",
        "# !wget http://nlp.stanford.edu/data/glove.6B.zip"
      ]
    },
    {
      "cell_type": "code",
      "execution_count": null,
      "id": "SKsZZYSAQ7Gt",
      "metadata": {
        "id": "SKsZZYSAQ7Gt"
      },
      "outputs": [],
      "source": [
        "!unzip -o glove.6B.zip\n",
        "# !unzip -o /content/glove.6B.zip"
      ]
    },
    {
      "cell_type": "code",
      "execution_count": null,
      "id": "bef235f1",
      "metadata": {
        "id": "bef235f1"
      },
      "outputs": [],
      "source": [
        "glove_embeddings = {}\n",
        "with open('glove.6B.300d.txt') as f:\n",
        "    glove_embeddings = {l.split()[0]: np.array(l.split()[1:]).astype('float') for l in f}"
      ]
    },
    {
      "cell_type": "code",
      "source": [
        "glove_embeddings['computer'].shape"
      ],
      "metadata": {
        "id": "fjxskutN4Bs-"
      },
      "id": "fjxskutN4Bs-",
      "execution_count": null,
      "outputs": []
    },
    {
      "cell_type": "code",
      "execution_count": null,
      "id": "fbe78d30",
      "metadata": {
        "id": "fbe78d30"
      },
      "outputs": [],
      "source": [
        "def get_closest(x, embeddings, topn=3):\n",
        "    \"\"\"\n",
        "    Get the closest embeddings calculating the euclidean distance\n",
        "    Parameters\n",
        "    ----------\n",
        "    x: np.ndarray\n",
        "      Vector containing an embedding\n",
        "    top_k: int, optional\n",
        "      Get the top k similar embeddings\n",
        "    Returns\n",
        "    -------\n",
        "    dict\n",
        "      Dict containing the top k similar embeddings to the given x\n",
        "    \"\"\"\n",
        "    # Stack all embeddings in a single matrix. Note: the matrix dimention will be\n",
        "    # V x D where V is the vocabulary size and D is the embedding dimension\n",
        "    embedding_matrix = np.array(list(embeddings.values()))\n",
        "    # Using broadcasting compute distance to each embedding in our vocabulary\n",
        "    distances = x - embedding_matrix\n",
        "    # Comoute the magnitude of each distance\n",
        "    distances = np.linalg.norm(distances, axis=1)\n",
        "    # Sort distance and keep the smallest k\n",
        "    min_idx = np.argsort(distances)[:topn]\n",
        "    return [list(embeddings)[i] for i in min_idx]"
      ]
    },
    {
      "cell_type": "code",
      "execution_count": null,
      "id": "9506e5fd",
      "metadata": {
        "id": "9506e5fd"
      },
      "outputs": [],
      "source": [
        "plt.figure(figsize=(20, 5))\n",
        "\n",
        "plt.subplot(131)\n",
        "plot_linear_substructures([LinearSubs(('man', 'woman'), 'sex'),\n",
        "                           LinearSubs(('king', 'queen'), 'sex'),\n",
        "                           LinearSubs(('mother', 'father'), 'sex')], glove_embeddings)\n",
        "\n",
        "plt.subplot(132)\n",
        "plot_linear_substructures([LinearSubs(('cat', 'feline'), 'family'),\n",
        "                           LinearSubs(('dog', 'canine'), 'family'),\n",
        "                           LinearSubs(('parrot', 'bird'), 'family')], glove_embeddings)\n",
        "\n",
        "plt.subplot(133)\n",
        "plot_linear_substructures([LinearSubs(('samsung', 'mobile'), 'product'),\n",
        "                           LinearSubs(('sony', 'tv'), 'product'),\n",
        "                           LinearSubs(('ikea', 'furniture'), 'product')], glove_embeddings)"
      ]
    },
    {
      "cell_type": "code",
      "execution_count": null,
      "id": "12414929",
      "metadata": {
        "id": "12414929"
      },
      "outputs": [],
      "source": [
        "get_closest(glove_embeddings['Rome'] - glove_embeddings['Italy'] + glove_embeddings['France'], glove_embeddings)"
      ]
    },
    {
      "cell_type": "code",
      "execution_count": null,
      "id": "2f06d5e9",
      "metadata": {
        "id": "2f06d5e9"
      },
      "outputs": [],
      "source": [
        "# vectors = {name: gensim.downloader.load(name) for name in list(gensim.downloader.info()['models'].keys())}"
      ]
    },
    {
      "cell_type": "code",
      "execution_count": null,
      "id": "c1e61431",
      "metadata": {
        "id": "c1e61431"
      },
      "outputs": [],
      "source": [
        "# word1 = 'king'\n",
        "# word2 = 'man'\n",
        "# word3 = 'woman'\n",
        "# for name, vector in vectors.items():\n",
        "#     try:\n",
        "#         result = vector.most_similar(vector[word1] - vector[word2] + vector[word3])\n",
        "#     except:\n",
        "#         print(f\"Calcuation not possible for {name}\")\n",
        "#         print('-'*60)\n",
        "#     else:\n",
        "#         print(f\"Embedding: {name}\")\n",
        "#         for i in result:\n",
        "#             print(i, end=\"\\n\")\n",
        "#         print('-'*60)"
      ]
    },
    {
      "cell_type": "code",
      "execution_count": null,
      "id": "4a18e2b0",
      "metadata": {
        "id": "4a18e2b0"
      },
      "outputs": [],
      "source": [
        "# word1 = 'father'\n",
        "# word2 = 'man'\n",
        "# word3 = 'woman'\n",
        "# for vector, name in zip(vectors, gensim.downloader.info()['models'].keys()):\n",
        "#     try:\n",
        "#         result = vector.most_similar(vector[word1] - vector[word2] + vector[word3])\n",
        "#     except:\n",
        "#         print(f\"Calcuation not possible for {name}\")\n",
        "#         print('-'*60)\n",
        "#     else:\n",
        "#         print(f\"Embedding: {name}\")\n",
        "#         for i in result:\n",
        "#             print(i, end=\"\\n\")\n",
        "#         print('-'*60)"
      ]
    },
    {
      "cell_type": "code",
      "execution_count": null,
      "id": "05dc34bd",
      "metadata": {
        "id": "05dc34bd"
      },
      "outputs": [],
      "source": [
        "# word1 = 'death'\n",
        "# word2 = 'man'\n",
        "# word3 = 'computer'\n",
        "# for vector, name in zip(vectors, gensim.downloader.info()['models'].keys()):\n",
        "#     try:\n",
        "#         result = vector.most_similar(vector[word1] - vector[word2] + vector[word3])\n",
        "#     except:\n",
        "#         print(f\"Calcuation not possible for {name}\")\n",
        "#         print('-'*60)\n",
        "#     else:\n",
        "#         print(f\"Embedding: {name}\")\n",
        "#         for i in result:\n",
        "#             print(i, end=\"\\n\")\n",
        "#         print('-'*60)"
      ]
    }
  ],
  "metadata": {
    "colab": {
      "collapsed_sections": [],
      "name": "Kopia notatnika NLP_plain.ipynb",
      "provenance": [],
      "include_colab_link": true
    },
    "kernelspec": {
      "display_name": "Python (ml_nlp)",
      "language": "python",
      "name": "ml_nlp"
    },
    "language_info": {
      "codemirror_mode": {
        "name": "ipython",
        "version": 3
      },
      "file_extension": ".py",
      "mimetype": "text/x-python",
      "name": "python",
      "nbconvert_exporter": "python",
      "pygments_lexer": "ipython3",
      "version": "3.9.12"
    }
  },
  "nbformat": 4,
  "nbformat_minor": 5
}
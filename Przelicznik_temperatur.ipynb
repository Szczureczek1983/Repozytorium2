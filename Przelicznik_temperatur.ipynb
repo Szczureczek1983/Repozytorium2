{
  "nbformat": 4,
  "nbformat_minor": 0,
  "metadata": {
    "colab": {
      "name": "Untitled35.ipynb",
      "provenance": [],
      "authorship_tag": "ABX9TyNxl4St53ft71derOvWbDgw",
      "include_colab_link": true
    },
    "kernelspec": {
      "name": "python3",
      "display_name": "Python 3"
    },
    "language_info": {
      "name": "python"
    }
  },
  "cells": [
    {
      "cell_type": "markdown",
      "metadata": {
        "id": "view-in-github",
        "colab_type": "text"
      },
      "source": [
        "<a href=\"https://colab.research.google.com/github/Szczureczek1983/Repozytorium2/blob/main/Przelicznik_temperatur.ipynb\" target=\"_parent\"><img src=\"https://colab.research.google.com/assets/colab-badge.svg\" alt=\"Open In Colab\"/></a>"
      ]
    },
    {
      "cell_type": "code",
      "execution_count": 1,
      "metadata": {
        "colab": {
          "base_uri": "https://localhost:8080/"
        },
        "id": "18xrrSCodpqc",
        "outputId": "f4824635-6dde-4d86-8452-1b4b8cfcf9b5"
      },
      "outputs": [
        {
          "output_type": "stream",
          "name": "stdout",
          "text": [
            "Podaj temperaturę w stopniach (np 34C, 45F, 300K): 1200c\n",
            " Podana temperatura wynosi 2192 Fahrenheit.\n"
          ]
        }
      ],
      "source": [
        "temp = input(\"Podaj temperaturę w stopniach (np 34C, 45F, 300K): \")\n",
        "deg = int(temp[:-1])\n",
        "i_conv = temp[-1]\n",
        "if i_conv.upper() == \"C\":\n",
        "    result = int(round((9*deg)/5 + 32))\n",
        "    o_conv_1 = \"Fahrenheit\"\n",
        "    print(f\" Podana temperatura wynosi {result} {o_conv_1}.\")\n",
        "elif i_conv.upper() == \"F\":\n",
        "    result = int(round((deg-32)*5/9))\n",
        "    o_conv_2 = \"Celcius\"\n",
        "    print(f\" Podana temperatura wynosi {result} {o_conv_2}.\")\n",
        "elif i_conv.upper() == \"K\":\n",
        "    result_1 = (int(round((deg-273.15))))\n",
        "    o_conv_3 = \"Celcius\"\n",
        "    result_2 = (int(round(9/5*(deg-273.15) + 32)))\n",
        "    o_conv_4 = \"Fahrenheit\"\n",
        "    print(f\" Podana temperatura wynosi {result_1} {o_conv_3}.\")\n",
        "    print(f\" Podana temperatura wynosi {result_2} {o_conv_4}.\")\n",
        "else:\n",
        "    print(\"Podaj właściwą temperaturę!\")\n",
        "quit()"
      ]
    }
  ]
}
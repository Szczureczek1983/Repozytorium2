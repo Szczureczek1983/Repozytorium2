{
  "nbformat": 4,
  "nbformat_minor": 0,
  "metadata": {
    "colab": {
      "name": "Untitled35.ipynb",
      "provenance": [],
      "authorship_tag": "ABX9TyPfS6JpW3KrqpTj3axZkOR/",
      "include_colab_link": true
    },
    "kernelspec": {
      "name": "python3",
      "display_name": "Python 3"
    },
    "language_info": {
      "name": "python"
    }
  },
  "cells": [
    {
      "cell_type": "markdown",
      "metadata": {
        "id": "view-in-github",
        "colab_type": "text"
      },
      "source": [
        "<a href=\"https://colab.research.google.com/github/Szczureczek1983/Repozytorium2/blob/main/Przelicznik_temperatur.ipynb\" target=\"_parent\"><img src=\"https://colab.research.google.com/assets/colab-badge.svg\" alt=\"Open In Colab\"/></a>"
      ]
    },
    {
      "cell_type": "code",
      "execution_count": 1,
      "metadata": {
        "colab": {
          "base_uri": "https://localhost:8080/",
          "height": 239
        },
        "id": "18xrrSCodpqc",
        "outputId": "3bc12aa2-362d-4bc7-a87e-b3090d9f716b"
      },
      "outputs": [
        {
          "output_type": "stream",
          "name": "stdout",
          "text": [
            "Podaj temperaturę w stopniach (np 34C, 45F, 300K): 234\n",
            "Podaj właściwą temperaturę!\n"
          ]
        },
        {
          "output_type": "error",
          "ename": "NameError",
          "evalue": "ignored",
          "traceback": [
            "\u001b[0;31m---------------------------------------------------------------------------\u001b[0m",
            "\u001b[0;31mNameError\u001b[0m                                 Traceback (most recent call last)",
            "\u001b[0;32m<ipython-input-1-69bb865689ef>\u001b[0m in \u001b[0;36m<module>\u001b[0;34m()\u001b[0m\n\u001b[1;32m     14\u001b[0m   \u001b[0mprint\u001b[0m\u001b[0;34m(\u001b[0m\u001b[0;34m\"Podaj właściwą temperaturę!\"\u001b[0m\u001b[0;34m)\u001b[0m\u001b[0;34m\u001b[0m\u001b[0;34m\u001b[0m\u001b[0m\n\u001b[1;32m     15\u001b[0m   \u001b[0mquit\u001b[0m\u001b[0;34m(\u001b[0m\u001b[0;34m)\u001b[0m\u001b[0;34m\u001b[0m\u001b[0;34m\u001b[0m\u001b[0m\n\u001b[0;32m---> 16\u001b[0;31m   \u001b[0mprint\u001b[0m\u001b[0;34m(\u001b[0m\u001b[0;34mf\" Podana temperatura wynosi {result} {o_conv}.\"\u001b[0m\u001b[0;34m)\u001b[0m\u001b[0;34m\u001b[0m\u001b[0;34m\u001b[0m\u001b[0m\n\u001b[0m",
            "\u001b[0;31mNameError\u001b[0m: name 'result' is not defined"
          ]
        }
      ],
      "source": [
        "temp = input(\"Podaj temperaturę w stopniach (np 34C, 45F, 300K): \")\n",
        "deg = int(temp[:-1])\n",
        "i_conv = temp[-1]\n",
        "if i_conv.upper() == \"C\":\n",
        "  result = int(round((9*deg)/5 + 32))\n",
        "  o_conv = \"Fahrenheit\"\n",
        "elif i_conv.upper() == \"F\":\n",
        "  result = int(round((deg-32)*5/9))\n",
        "  o_conv = \"Celcius\"\n",
        "# elif i_conv.upper() == \"K\":\n",
        "  # result = (int(round((deg-273.15))\n",
        "  # o_conv = \"Farenheit andCelcius\"\n",
        "else:\n",
        "  print(\"Podaj właściwą temperaturę!\")\n",
        "  quit()\n",
        "print(f\" Podana temperatura wynosi {result} {o_conv}.\")"
      ]
    }
  ]
}
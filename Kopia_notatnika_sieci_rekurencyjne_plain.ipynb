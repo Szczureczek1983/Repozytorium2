{
  "cells": [
    {
      "cell_type": "markdown",
      "metadata": {
        "id": "view-in-github",
        "colab_type": "text"
      },
      "source": [
        "<a href=\"https://colab.research.google.com/github/Szczureczek1983/Repozytorium2/blob/main/Kopia_notatnika_sieci_rekurencyjne_plain.ipynb\" target=\"_parent\"><img src=\"https://colab.research.google.com/assets/colab-badge.svg\" alt=\"Open In Colab\"/></a>"
      ]
    },
    {
      "cell_type": "code",
      "execution_count": 2,
      "metadata": {
        "id": "rqxkVD5maZd5",
        "colab": {
          "base_uri": "https://localhost:8080/",
          "height": 35
        },
        "outputId": "5a55dd0b-9d86-4150-b0b9-64bcd1e3a13c"
      },
      "outputs": [
        {
          "output_type": "execute_result",
          "data": {
            "text/plain": [
              "'2.8.0'"
            ],
            "application/vnd.google.colaboratory.intrinsic+json": {
              "type": "string"
            }
          },
          "metadata": {},
          "execution_count": 2
        }
      ],
      "source": [
        "import keras\n",
        "keras.__version__"
      ]
    },
    {
      "cell_type": "markdown",
      "metadata": {
        "id": "e-vZfTTaaZeA"
      },
      "source": [
        "# Rekurencyjne sieci neuronowe\n",
        "\n",
        "\n",
        "## Warstwa rekurencyjna w pakiecie Keras\n"
      ]
    },
    {
      "cell_type": "code",
      "execution_count": 3,
      "metadata": {
        "id": "0_aCUilHaZeB"
      },
      "outputs": [],
      "source": [
        "from keras import Sequential\n",
        "from keras.layers import SimpleRNN, Dense, Embedding, GRU, Bidirectional\n",
        "import numpy as np"
      ]
    },
    {
      "cell_type": "markdown",
      "metadata": {
        "id": "krg9AmNVaZeC"
      },
      "source": [
        "Powyższa warstwa przyjmuje obiekty wejściowe o kształcie (rozmiar_wsadu, kroki_czasu, cechy_wejściowe).\n",
        "\n",
        "Warstwa SimpleRNN, podobnie jak wszystkie rekurencyjne warstwy pakietu Keras, może być uruchomiona w dwóch trybach: może zwracać pełne sekwencje kolejnych obiektów wyjściowych dla każdego kroku czasu (trójwymiarowe tensory o kształcie (rozmiar_wsadu, kroki_czasu, cechy_wyjściowe)) lub tylko ostatnie obiekty wyjściowe poszczególnych sekwencji wejściowych (dwuwymiarowe tensory o kształcie (rozmiar_wsadu, cechy_wyjściowe)). Wybór trybu pracy jest dokonywany za pomocą argumentu return_sequences."
      ]
    },
    {
      "cell_type": "markdown",
      "metadata": {
        "id": "438ch59iaZeF"
      },
      "source": [
        "Teraz użyjmy modelu RNN w celu rozwiązania problemu klasyfikacji recenzji filmów. Zacznijmy od wstępnej obróbki danych:"
      ]
    },
    {
      "cell_type": "code",
      "execution_count": 4,
      "metadata": {
        "id": "zB9XO6f9aZeF",
        "colab": {
          "base_uri": "https://localhost:8080/"
        },
        "outputId": "87cd59b7-6bd3-41be-826e-4c9356d0da1e"
      },
      "outputs": [
        {
          "output_type": "stream",
          "name": "stdout",
          "text": [
            "Ładowanie danych...\n",
            "Downloading data from https://storage.googleapis.com/tensorflow/tf-keras-datasets/imdb.npz\n",
            "17465344/17464789 [==============================] - 0s 0us/step\n",
            "17473536/17464789 [==============================] - 0s 0us/step\n",
            "25000 sekwencje treningowe\n",
            "25000 sekwencje testowe\n"
          ]
        }
      ],
      "source": [
        "from keras.datasets import imdb\n",
        "from keras.preprocessing.sequence import pad_sequences\n",
        "\n",
        "max_features = 10000  # Liczba słów traktowanych jako cechy.\n",
        "maxlen = 500  # Ucina recenzje po tej liczbie słów.\n",
        "batch_size = 128 # wielkość batcha\n",
        "rnn_units = 32 # Liczba neuronów jaką będziemy wykorzystywać\n",
        "max_samples = 1200 # Liczba danych treningowych *można podać mniej niż 25 000 aby sieć uczyła się szybciej\n",
        "\n",
        "print('Ładowanie danych...')\n",
        "(input_train_org, y_train), (input_test_org, y_test) = imdb.load_data(num_words=max_features)\n",
        "print(len(input_train_org), 'sekwencje treningowe')\n",
        "print(len(input_test_org), 'sekwencje testowe')\n"
      ]
    },
    {
      "cell_type": "code",
      "execution_count": 5,
      "metadata": {
        "id": "DNBm22hh877w",
        "colab": {
          "base_uri": "https://localhost:8080/",
          "height": 354
        },
        "outputId": "65cf0dcf-b349-4745-e266-6fd38c90c9ab"
      },
      "outputs": [
        {
          "output_type": "execute_result",
          "data": {
            "text/plain": [
              "(array([1.7598e+04, 5.3690e+03, 1.4070e+03, 5.1700e+02, 9.4000e+01,\n",
              "        7.0000e+00, 5.0000e+00, 2.0000e+00, 0.0000e+00, 1.0000e+00]),\n",
              " array([  11. ,  259.3,  507.6,  755.9, 1004.2, 1252.5, 1500.8, 1749.1,\n",
              "        1997.4, 2245.7, 2494. ]),\n",
              " <a list of 10 Patch objects>)"
            ]
          },
          "metadata": {},
          "execution_count": 5
        },
        {
          "output_type": "display_data",
          "data": {
            "text/plain": [
              "<Figure size 432x288 with 1 Axes>"
            ],
            "image/png": "[encoded data removed]"
          },
          "metadata": {
            "needs_background": "light"
          }
        }
      ],
      "source": [
        "#histogram długości sekwencji\n",
        "import matplotlib.pyplot as plt\n",
        "plt.hist([len(x) for x in input_train_org])"
      ]
    },
    {
      "cell_type": "code",
      "execution_count": 6,
      "metadata": {
        "id": "afTc-N43877x",
        "colab": {
          "base_uri": "https://localhost:8080/"
        },
        "outputId": "20bfc313-4c2d-4e52-ebbb-110bfb379835"
      },
      "outputs": [
        {
          "output_type": "stream",
          "name": "stdout",
          "text": [
            "Sekwencje (próbki x czas)\n",
            "Kształt obiektu input_train: (1200, 500)\n",
            "Kształt obiektu input_test: (1200, 500)\n"
          ]
        }
      ],
      "source": [
        "print('Sekwencje (próbki x czas)')\n",
        "input_train_org = input_train_org[:max_samples]\n",
        "input_test_org = input_test_org[:max_samples]\n",
        "input_train = pad_sequences(input_train_org, maxlen=maxlen)\n",
        "input_test = pad_sequences(input_test_org, maxlen=maxlen)\n",
        "print('Kształt obiektu input_train:', input_train.shape)\n",
        "print('Kształt obiektu input_test:', input_test.shape)\n",
        "y_train = y_train[:max_samples]\n",
        "y_test = y_test[:max_samples]"
      ]
    },
    {
      "cell_type": "code",
      "source": [
        "input_train[0]"
      ],
      "metadata": {
        "colab": {
          "base_uri": "https://localhost:8080/"
        },
        "id": "ztVFgqxGqmut",
        "outputId": "04e49d98-25be-4aae-a600-41f168794e8b"
      },
      "execution_count": 7,
      "outputs": [
        {
          "output_type": "execute_result",
          "data": {
            "text/plain": [
              "array([   0,    0,    0,    0,    0,    0,    0,    0,    0,    0,    0,\n",
              "          0,    0,    0,    0,    0,    0,    0,    0,    0,    0,    0,\n",
              "          0,    0,    0,    0,    0,    0,    0,    0,    0,    0,    0,\n",
              "          0,    0,    0,    0,    0,    0,    0,    0,    0,    0,    0,\n",
              "          0,    0,    0,    0,    0,    0,    0,    0,    0,    0,    0,\n",
              "          0,    0,    0,    0,    0,    0,    0,    0,    0,    0,    0,\n",
              "          0,    0,    0,    0,    0,    0,    0,    0,    0,    0,    0,\n",
              "          0,    0,    0,    0,    0,    0,    0,    0,    0,    0,    0,\n",
              "          0,    0,    0,    0,    0,    0,    0,    0,    0,    0,    0,\n",
              "          0,    0,    0,    0,    0,    0,    0,    0,    0,    0,    0,\n",
              "          0,    0,    0,    0,    0,    0,    0,    0,    0,    0,    0,\n",
              "          0,    0,    0,    0,    0,    0,    0,    0,    0,    0,    0,\n",
              "          0,    0,    0,    0,    0,    0,    0,    0,    0,    0,    0,\n",
              "          0,    0,    0,    0,    0,    0,    0,    0,    0,    0,    0,\n",
              "          0,    0,    0,    0,    0,    0,    0,    0,    0,    0,    0,\n",
              "          0,    0,    0,    0,    0,    0,    0,    0,    0,    0,    0,\n",
              "          0,    0,    0,    0,    0,    0,    0,    0,    0,    0,    0,\n",
              "          0,    0,    0,    0,    0,    0,    0,    0,    0,    0,    0,\n",
              "          0,    0,    0,    0,    0,    0,    0,    0,    0,    0,    0,\n",
              "          0,    0,    0,    0,    0,    0,    0,    0,    0,    0,    0,\n",
              "          0,    0,    0,    0,    0,    0,    0,    0,    0,    0,    0,\n",
              "          0,    0,    0,    0,    0,    0,    0,    0,    0,    0,    0,\n",
              "          0,    0,    0,    0,    0,    0,    0,    0,    0,    0,    0,\n",
              "          0,    0,    0,    0,    0,    0,    0,    0,    0,    0,    0,\n",
              "          0,    0,    0,    0,    0,    0,    0,    0,    0,    0,    0,\n",
              "          0,    0,    0,    0,    0,    0,    0,    1,   14,   22,   16,\n",
              "         43,  530,  973, 1622, 1385,   65,  458, 4468,   66, 3941,    4,\n",
              "        173,   36,  256,    5,   25,  100,   43,  838,  112,   50,  670,\n",
              "          2,    9,   35,  480,  284,    5,  150,    4,  172,  112,  167,\n",
              "          2,  336,  385,   39,    4,  172, 4536, 1111,   17,  546,   38,\n",
              "         13,  447,    4,  192,   50,   16,    6,  147, 2025,   19,   14,\n",
              "         22,    4, 1920, 4613,  469,    4,   22,   71,   87,   12,   16,\n",
              "         43,  530,   38,   76,   15,   13, 1247,    4,   22,   17,  515,\n",
              "         17,   12,   16,  626,   18,    2,    5,   62,  386,   12,    8,\n",
              "        316,    8,  106,    5,    4, 2223, 5244,   16,  480,   66, 3785,\n",
              "         33,    4,  130,   12,   16,   38,  619,    5,   25,  124,   51,\n",
              "         36,  135,   48,   25, 1415,   33,    6,   22,   12,  215,   28,\n",
              "         77,   52,    5,   14,  407,   16,   82,    2,    8,    4,  107,\n",
              "        117, 5952,   15,  256,    4,    2,    7, 3766,    5,  723,   36,\n",
              "         71,   43,  530,  476,   26,  400,  317,   46,    7,    4,    2,\n",
              "       1029,   13,  104,   88,    4,  381,   15,  297,   98,   32, 2071,\n",
              "         56,   26,  141,    6,  194, 7486,   18,    4,  226,   22,   21,\n",
              "        134,  476,   26,  480,    5,  144,   30, 5535,   18,   51,   36,\n",
              "         28,  224,   92,   25,  104,    4,  226,   65,   16,   38, 1334,\n",
              "         88,   12,   16,  283,    5,   16, 4472,  113,  103,   32,   15,\n",
              "         16, 5345,   19,  178,   32], dtype=int32)"
            ]
          },
          "metadata": {},
          "execution_count": 7
        }
      ]
    },
    {
      "cell_type": "markdown",
      "metadata": {
        "id": "y8G3ledDaZeG"
      },
      "source": [
        "Przeprowadźmy proces trenowania prostej rekurencyjnej sieci przy użyciu warstwy Embedding i warstwy SimpleRNN."
      ]
    },
    {
      "cell_type": "code",
      "execution_count": 19,
      "metadata": {
        "id": "VrTd0k-SaZeG",
        "scrolled": true,
        "colab": {
          "base_uri": "https://localhost:8080/"
        },
        "outputId": "6e3577f8-69e3-4baa-aa44-043c13b33c2c"
      },
      "outputs": [
        {
          "output_type": "stream",
          "name": "stdout",
          "text": [
            "Model: \"sequential_1\"\n",
            "_________________________________________________________________\n",
            " Layer (type)                Output Shape              Param #   \n",
            "=================================================================\n",
            " embedding_1 (Embedding)     (None, None, 50)          500000    \n",
            "                                                                 \n",
            " simple_rnn_1 (SimpleRNN)    (None, 32)                2656      \n",
            "                                                                 \n",
            " dense_1 (Dense)             (None, 1)                 33        \n",
            "                                                                 \n",
            "=================================================================\n",
            "Total params: 502,689\n",
            "Trainable params: 502,689\n",
            "Non-trainable params: 0\n",
            "_________________________________________________________________\n"
          ]
        }
      ],
      "source": [
        "model = Sequential()\n",
        "# proszę dodać następujące warstwy:\n",
        "# - warstwa Embedding z odpowiednią licznością wejścia \n",
        "# (dla ilu słów musimy wyznaczyć reprezentację wektorową?) i wyznaczyć wielkość \n",
        "# wektora embedding na 50\n",
        "# i rnn_units jako wielkość wektora\n",
        "# - warstwa SimpleRNN z rnn_units jako liczbą neuronów\n",
        "# - gęstą warstwę z odpowiednią liczbą neuronów (patrz wyjście) oraz funkcją aktywacji sigmoid\n",
        "model.add(Embedding(max_features, 50))\n",
        "model.add(SimpleRNN(rnn_units))\n",
        "model.add(Dense(1, activation= 'sigmoid'))\n",
        "\n",
        "model.summary()"
      ]
    },
    {
      "cell_type": "markdown",
      "source": [
        "50*32 (W) + 32+32 (U) + 32 (bias) = 2656"
      ],
      "metadata": {
        "id": "it2k7f0BvhEw"
      }
    },
    {
      "cell_type": "code",
      "source": [
        ""
      ],
      "metadata": {
        "id": "tRD2rvqEvwLa"
      },
      "execution_count": null,
      "outputs": []
    },
    {
      "cell_type": "code",
      "execution_count": 20,
      "metadata": {
        "id": "mPR2VF1_877z",
        "colab": {
          "base_uri": "https://localhost:8080/"
        },
        "outputId": "386f07f4-2124-4f48-c28a-30c3f28ebc3f"
      },
      "outputs": [
        {
          "output_type": "stream",
          "name": "stdout",
          "text": [
            "Epoch 1/10\n",
            "8/8 [==============================] - 3s 200ms/step - loss: 0.6967 - acc: 0.5021 - val_loss: 0.7056 - val_acc: 0.4750\n",
            "Epoch 2/10\n",
            "8/8 [==============================] - 1s 168ms/step - loss: 0.5775 - acc: 0.8635 - val_loss: 0.7159 - val_acc: 0.4750\n",
            "Epoch 3/10\n",
            "8/8 [==============================] - 2s 232ms/step - loss: 0.4470 - acc: 0.9750 - val_loss: 0.7374 - val_acc: 0.4708\n",
            "Epoch 4/10\n",
            "8/8 [==============================] - 2s 231ms/step - loss: 0.3223 - acc: 0.9958 - val_loss: 0.7621 - val_acc: 0.4333\n",
            "Epoch 5/10\n",
            "8/8 [==============================] - 1s 169ms/step - loss: 0.2104 - acc: 1.0000 - val_loss: 0.7694 - val_acc: 0.4417\n",
            "Epoch 6/10\n",
            "8/8 [==============================] - 1s 168ms/step - loss: 0.1545 - acc: 1.0000 - val_loss: 0.7891 - val_acc: 0.4667\n",
            "Epoch 7/10\n",
            "8/8 [==============================] - 1s 173ms/step - loss: 0.1002 - acc: 1.0000 - val_loss: 0.8135 - val_acc: 0.4750\n",
            "Epoch 8/10\n",
            "8/8 [==============================] - 1s 172ms/step - loss: 0.0688 - acc: 1.0000 - val_loss: 0.8400 - val_acc: 0.4833\n",
            "Epoch 9/10\n",
            "8/8 [==============================] - 1s 172ms/step - loss: 0.0515 - acc: 1.0000 - val_loss: 0.8267 - val_acc: 0.4875\n",
            "Epoch 10/10\n",
            "8/8 [==============================] - 1s 172ms/step - loss: 0.0481 - acc: 1.0000 - val_loss: 0.8455 - val_acc: 0.4458\n"
          ]
        }
      ],
      "source": [
        "# proszę skompilować model z oprimizerem RMSprop, odpowiednią funkcją kosztu oraz dokładnością jako metrykę do monitorowania\n",
        "model.compile(optimizer='rmsprop', loss = 'binary_crossentropy', metrics=['acc'])\n",
        "# proszę wytrenować model, liczba epok 10, użyć zmiennej batch_size, ustawić validation_split na 0.2, można też spróbować \n",
        "# ustawić liczbę instacji do obliczania (workers)\n",
        "history = model.fit(input_train, y_train, epochs = 10,\n",
        "                    batch_size = batch_size, validation_split = 0.2)"
      ]
    },
    {
      "cell_type": "markdown",
      "metadata": {
        "id": "z5hB5aLaaZeH"
      },
      "source": [
        "Teraz możemy wyświetlić wykresy dokładności i straty w procesach trenowania i walidacji:"
      ]
    },
    {
      "cell_type": "code",
      "execution_count": 21,
      "metadata": {
        "id": "rRo7ellbaZeH",
        "colab": {
          "base_uri": "https://localhost:8080/",
          "height": 545
        },
        "outputId": "d8621bad-1e7e-494c-e671-df55b3d2e7e3"
      },
      "outputs": [
        {
          "output_type": "display_data",
          "data": {
            "text/plain": [
              "<Figure size 432x288 with 1 Axes>"
            ],
            "image/png": "[encoded data removed]"
          },
          "metadata": {
            "needs_background": "light"
          }
        },
        {
          "output_type": "display_data",
          "data": {
            "text/plain": [
              "<Figure size 432x288 with 1 Axes>"
            ],
            "image/png": "[encoded data removed]"
          },
          "metadata": {
            "needs_background": "light"
          }
        }
      ],
      "source": [
        "import matplotlib.pyplot as plt\n",
        "\n",
        "acc = history.history['acc']\n",
        "val_acc = history.history['val_acc']\n",
        "loss = history.history['loss']\n",
        "val_loss = history.history['val_loss']\n",
        "\n",
        "epochs = range(len(acc))\n",
        "\n",
        "plt.plot(epochs, acc, 'bo', label='Dokladnosc trenowania')\n",
        "plt.plot(epochs, val_acc, 'b', label='Dokladnosc walidacji')\n",
        "plt.title('Dokladnosc trenowania i walidacji')\n",
        "plt.legend()\n",
        "\n",
        "plt.figure()\n",
        "\n",
        "plt.plot(epochs, loss, 'bo', label='Strata trenowania')\n",
        "plt.plot(epochs, val_loss, 'b', label='Strata walidacji')\n",
        "plt.title('Strata trenowania i walidacji')\n",
        "plt.legend()\n",
        "\n",
        "plt.show()"
      ]
    },
    {
      "cell_type": "markdown",
      "metadata": {
        "id": "XtvMVQi4aZeI"
      },
      "source": [
        "[...]\n",
        "\n",
        "## Przykład warstwy LSTM zaimplementowanej w pakiecie Keras\n",
        "\n",
        "Czas przyjrzeć się praktycznemu przykładowi zastosowania warstwy LSTM. Skonfigurujemy model, w którym znajdzie się taka warstwa, i wytrenujemy go na zbiorze danych IMDB. Przypomina on zaprezentowany wcześniej model z warstwą SimpleRNN. Określimy tylko liczbę wymiarów obiektu wyjściowego warstwy LSTM. Pozostałe argumenty tej warstwy (jest ich wiele) pozostawimy przy wartościach domyślnych. Ustawienia domyślne pakietu Keras są przemyślane i zwykle „po prostu działają” bez konieczności poświęcania dużej ilości czasu na ręczne dostrajanie parametrów."
      ]
    },
    {
      "cell_type": "code",
      "execution_count": 28,
      "metadata": {
        "id": "RCenWNtZaZeI",
        "colab": {
          "base_uri": "https://localhost:8080/"
        },
        "outputId": "4c0992ea-59fb-46ac-cf21-c382cf08b6e1"
      },
      "outputs": [
        {
          "output_type": "stream",
          "name": "stdout",
          "text": [
            "Model: \"sequential_3\"\n",
            "_________________________________________________________________\n",
            " Layer (type)                Output Shape              Param #   \n",
            "=================================================================\n",
            " embedding_3 (Embedding)     (None, None, 50)          500000    \n",
            "                                                                 \n",
            " lstm_1 (LSTM)               (None, 32)                10624     \n",
            "                                                                 \n",
            " dense_3 (Dense)             (None, 1)                 33        \n",
            "                                                                 \n",
            "=================================================================\n",
            "Total params: 510,657\n",
            "Trainable params: 510,657\n",
            "Non-trainable params: 0\n",
            "_________________________________________________________________\n"
          ]
        }
      ],
      "source": [
        "from keras.layers import LSTM\n",
        "\n",
        "model = Sequential()\n",
        "# proszę dodać następujące warstwy:\n",
        "# - warstwa Embedding z odpowiednią licznością wejścia (dla ilu słów musimy wyznaczyć reprezentację wektorową?)\n",
        "# i rnn_units jako wielkość wektora\n",
        "# - warstwa LSTM z rnn_units jako liczbą neuronów\n",
        "# - gęstą warstwę z odpowiednią liczbą neuronów (patrz wyjście) oraz funkcją aktywacji sigmoid\n",
        "model.add(Embedding(max_features, 50))\n",
        "model.add(LSTM(rnn_units))\n",
        "model.add(Dense(1, activation= 'sigmoid'))\n",
        "\n",
        "model.summary()"
      ]
    },
    {
      "cell_type": "code",
      "source": [
        "# proszę skompilować model z oprimizerem RMSprop, odpowiednią funkcją kosztu oraz dokładnością jako metrykę do monitorowania\n",
        "model.compile(optimizer='rmsprop', loss = 'binary_crossentropy', metrics=['acc'])\n",
        "# proszę wytrenować model, liczba epok 10, użyć zmiennej batch_size, ustawić validation_split na 0.2, można też spróbować \n",
        "# ustawić liczbę instacji do obliczania (workers)\n",
        "history = history = model.fit(input_train, y_train, epochs = 20,\n",
        "                    batch_size = batch_size, validation_split = 0.2)"
      ],
      "metadata": {
        "id": "R36xLES7SuNU",
        "colab": {
          "base_uri": "https://localhost:8080/"
        },
        "outputId": "b66a52e3-8cc3-4ad7-a17c-da99bec53202"
      },
      "execution_count": 29,
      "outputs": [
        {
          "output_type": "stream",
          "name": "stdout",
          "text": [
            "Epoch 1/20\n",
            "8/8 [==============================] - 7s 446ms/step - loss: 0.6923 - acc: 0.5302 - val_loss: 0.6924 - val_acc: 0.5750\n",
            "Epoch 2/20\n",
            "8/8 [==============================] - 3s 363ms/step - loss: 0.6755 - acc: 0.7688 - val_loss: 0.6860 - val_acc: 0.6042\n",
            "Epoch 3/20\n",
            "8/8 [==============================] - 3s 360ms/step - loss: 0.6118 - acc: 0.7833 - val_loss: 0.6577 - val_acc: 0.6125\n",
            "Epoch 4/20\n",
            "8/8 [==============================] - 3s 365ms/step - loss: 0.4694 - acc: 0.8750 - val_loss: 0.5892 - val_acc: 0.7083\n",
            "Epoch 5/20\n",
            "8/8 [==============================] - 3s 360ms/step - loss: 0.3832 - acc: 0.8740 - val_loss: 0.6158 - val_acc: 0.6375\n",
            "Epoch 6/20\n",
            "8/8 [==============================] - 3s 357ms/step - loss: 0.2988 - acc: 0.9250 - val_loss: 0.5118 - val_acc: 0.7583\n",
            "Epoch 7/20\n",
            "8/8 [==============================] - 3s 361ms/step - loss: 0.2438 - acc: 0.9448 - val_loss: 0.5696 - val_acc: 0.7042\n",
            "Epoch 8/20\n",
            "8/8 [==============================] - 3s 356ms/step - loss: 0.1822 - acc: 0.9729 - val_loss: 0.6277 - val_acc: 0.6792\n",
            "Epoch 9/20\n",
            "8/8 [==============================] - 3s 367ms/step - loss: 0.1276 - acc: 0.9854 - val_loss: 0.6611 - val_acc: 0.6958\n",
            "Epoch 10/20\n",
            "8/8 [==============================] - 3s 359ms/step - loss: 0.1134 - acc: 0.9812 - val_loss: 0.4610 - val_acc: 0.7958\n",
            "Epoch 11/20\n",
            "8/8 [==============================] - 3s 362ms/step - loss: 0.0684 - acc: 0.9958 - val_loss: 0.4988 - val_acc: 0.8000\n",
            "Epoch 12/20\n",
            "8/8 [==============================] - 3s 365ms/step - loss: 0.0747 - acc: 0.9885 - val_loss: 0.5344 - val_acc: 0.7958\n",
            "Epoch 13/20\n",
            "8/8 [==============================] - 3s 359ms/step - loss: 0.0565 - acc: 0.9958 - val_loss: 0.5614 - val_acc: 0.7625\n",
            "Epoch 14/20\n",
            "8/8 [==============================] - 3s 361ms/step - loss: 0.6070 - acc: 0.8615 - val_loss: 0.5292 - val_acc: 0.7667\n",
            "Epoch 15/20\n",
            "8/8 [==============================] - 3s 359ms/step - loss: 0.0424 - acc: 1.0000 - val_loss: 0.5185 - val_acc: 0.8000\n",
            "Epoch 16/20\n",
            "8/8 [==============================] - 3s 356ms/step - loss: 0.0343 - acc: 0.9979 - val_loss: 0.5051 - val_acc: 0.8042\n",
            "Epoch 17/20\n",
            "8/8 [==============================] - 3s 359ms/step - loss: 0.0263 - acc: 1.0000 - val_loss: 0.6304 - val_acc: 0.7875\n",
            "Epoch 18/20\n",
            "8/8 [==============================] - 3s 362ms/step - loss: 0.0286 - acc: 0.9990 - val_loss: 0.6048 - val_acc: 0.7958\n",
            "Epoch 19/20\n",
            "8/8 [==============================] - 3s 366ms/step - loss: 0.0187 - acc: 1.0000 - val_loss: 0.7378 - val_acc: 0.7792\n",
            "Epoch 20/20\n",
            "8/8 [==============================] - 3s 357ms/step - loss: 0.0308 - acc: 0.9969 - val_loss: 0.7107 - val_acc: 0.7875\n"
          ]
        }
      ]
    },
    {
      "cell_type": "code",
      "execution_count": 30,
      "metadata": {
        "id": "-M7OKm-0aZeI",
        "colab": {
          "base_uri": "https://localhost:8080/",
          "height": 545
        },
        "outputId": "45a6c111-b0ab-4865-c39c-bb9364a14dd1"
      },
      "outputs": [
        {
          "output_type": "display_data",
          "data": {
            "text/plain": [
              "<Figure size 432x288 with 1 Axes>"
            ],
            "image/png": "[encoded data removed]"
          },
          "metadata": {
            "needs_background": "light"
          }
        },
        {
          "output_type": "display_data",
          "data": {
            "text/plain": [
              "<Figure size 432x288 with 1 Axes>"
            ],
            "image/png": "[encoded data removed]"
          },
          "metadata": {
            "needs_background": "light"
          }
        }
      ],
      "source": [
        "acc = history.history['acc']\n",
        "val_acc = history.history['val_acc']\n",
        "loss = history.history['loss']\n",
        "val_loss = history.history['val_loss']\n",
        "\n",
        "epochs = range(len(acc))\n",
        "\n",
        "plt.plot(epochs, acc, 'bo', label='Dokladnosc trenowania')\n",
        "plt.plot(epochs, val_acc, 'b', label='Dokladnosc walidacji')\n",
        "plt.title('Dokladnosc trenowania i walidacji')\n",
        "plt.legend()\n",
        "\n",
        "plt.figure()\n",
        "\n",
        "plt.plot(epochs, loss, 'bo', label='Strata trenowania')\n",
        "plt.plot(epochs, val_loss, 'b', label='Strata walidacji')\n",
        "plt.title('Strata trenowania i walidacji')\n",
        "plt.legend()\n",
        "\n",
        "plt.show()"
      ]
    },
    {
      "cell_type": "markdown",
      "metadata": {
        "id": "9h5xlrWS9oqz"
      },
      "source": [
        "## Korzystanie z dwukierunkowych rekurencyjnych sieci neuronowych\n",
        "\n",
        "\n",
        "Ostatnim rozwiązaniem, które chciałbym wprowadzić w tym podrozdziale, są dwukierunkowe rekurencyjne sieci neuronowe. Są to popularne wersje sieci rekurencyjnych, które w przypadku niektórych zadań charakteryzują się bardzo dobrą wydajnością. Stosuje się je często w przetwarzaniu języka naturalnego. Można określić je mianem uniwersalnego wytrychu sprawdzającego się podczas pracy nad problemami związanymi z przetwarzaniem języka naturalnego.\n",
        "\n",
        "Rekurencyjne sieci neuronowe przetwarzają zależności wynikające z kolejności lub upływu czasu — przetwarzają one sekwencje w sposób uporządkowany. Zmiana kolejności obserwacji lub jej odwrócenie może całkowicie zmienić reprezentacje tworzone przez tego typu sieci. To właśnie z tego powodu sieci te sprawdzają się dobrze podczas rozwiązywania problemów, w których kolejność ma znaczenie (przykładem takiego problemu jest prognozowanie temperatury). Dwukierunkowe rekurencyjne sieci neuronowe korzystają z tej własności sieci rekurencyjnych. Składają się one z dwóch standardowych sieci rekurencyjnych (np. warstw GRU lub LSTM). Każda z tych sieci składowych przetwarza sekwencję wejściową w innym kierunku (chronologicznym lub przeciwnym do chronologicznego). Utworzone przez nie reprezentacje są następnie łączone. Dwukierunkowa sieć rekurencyjna, przetwarzając sekwencję w obu kierunkach, może wyłapać zależności, które nie są dostrzegane przez jednokierunkową sieć rekurencyjną.\n",
        "\n",
        "Oczywiście chronologiczne przetwarzanie sekwencji przez zaprezentowane dotychczas warstwy sieci rekurencyjnych jest naszym nieświadomym wyborem (na razie nie mieliśmy okazji, aby podważyć jego sensowność). Czy sieci rekurencyjne działałyby wystarczająco dobrze, gdyby przetwarzały sekwencje wejściowe w kierunku odwrotnym do kolejności chronologicznej? Sprawdźmy to w praktyce, Wystarczy utworzyć generator, który odwraca sekwencję wejściową według wymiaru będącego osią czasu (musimy zastąpić ostatnią linię kodu następującym rozwiązaniem: yield samples[:, ::-1, :], targets). Po wytrenowaniu tej samej sieci z jedną warstwą GRU (z warstwy tej korzystaliśmy w pierwszym eksperymencie) uzyskamy następujące wyniki:"
      ]
    },
    {
      "cell_type": "code",
      "execution_count": 31,
      "metadata": {
        "id": "kKVU9jLS9iQ2",
        "colab": {
          "base_uri": "https://localhost:8080/"
        },
        "outputId": "6ff0708c-a670-4f17-89ec-2bdf2b602aef"
      },
      "outputs": [
        {
          "output_type": "stream",
          "name": "stderr",
          "text": [
            "/usr/local/lib/python3.7/dist-packages/ipykernel_launcher.py:2: VisibleDeprecationWarning: Creating an ndarray from ragged nested sequences (which is a list-or-tuple of lists-or-tuples-or ndarrays with different lengths or shapes) is deprecated. If you meant to do this, you must specify 'dtype=object' when creating the ndarray.\n",
            "  \n",
            "/usr/local/lib/python3.7/dist-packages/ipykernel_launcher.py:3: VisibleDeprecationWarning: Creating an ndarray from ragged nested sequences (which is a list-or-tuple of lists-or-tuples-or ndarrays with different lengths or shapes) is deprecated. If you meant to do this, you must specify 'dtype=object' when creating the ndarray.\n",
            "  This is separate from the ipykernel package so we can avoid doing imports until\n"
          ]
        },
        {
          "output_type": "stream",
          "name": "stdout",
          "text": [
            "Epoch 1/20\n",
            "8/8 [==============================] - 6s 451ms/step - loss: 0.6927 - acc: 0.5156 - val_loss: 0.6920 - val_acc: 0.5667\n",
            "Epoch 2/20\n",
            "8/8 [==============================] - 3s 360ms/step - loss: 0.6808 - acc: 0.7479 - val_loss: 0.6875 - val_acc: 0.5875\n",
            "Epoch 3/20\n",
            "8/8 [==============================] - 3s 367ms/step - loss: 0.6399 - acc: 0.7635 - val_loss: 0.6643 - val_acc: 0.6125\n",
            "Epoch 4/20\n",
            "8/8 [==============================] - 3s 362ms/step - loss: 0.5691 - acc: 0.7969 - val_loss: 0.6271 - val_acc: 0.6292\n",
            "Epoch 5/20\n",
            "8/8 [==============================] - 3s 354ms/step - loss: 0.4745 - acc: 0.8625 - val_loss: 0.5926 - val_acc: 0.6667\n",
            "Epoch 6/20\n",
            "8/8 [==============================] - 3s 351ms/step - loss: 0.3939 - acc: 0.8958 - val_loss: 0.5886 - val_acc: 0.6792\n",
            "Epoch 7/20\n",
            "8/8 [==============================] - 3s 355ms/step - loss: 0.3137 - acc: 0.9354 - val_loss: 0.5477 - val_acc: 0.7292\n",
            "Epoch 8/20\n",
            "8/8 [==============================] - 3s 362ms/step - loss: 0.2614 - acc: 0.9417 - val_loss: 0.5407 - val_acc: 0.7208\n",
            "Epoch 9/20\n",
            "8/8 [==============================] - 3s 364ms/step - loss: 0.2103 - acc: 0.9667 - val_loss: 0.6448 - val_acc: 0.7125\n",
            "Epoch 10/20\n",
            "8/8 [==============================] - 3s 363ms/step - loss: 0.1679 - acc: 0.9781 - val_loss: 0.5332 - val_acc: 0.7542\n",
            "Epoch 11/20\n",
            "8/8 [==============================] - 3s 363ms/step - loss: 0.1241 - acc: 0.9865 - val_loss: 0.4894 - val_acc: 0.7792\n",
            "Epoch 12/20\n",
            "8/8 [==============================] - 3s 362ms/step - loss: 0.1151 - acc: 0.9875 - val_loss: 0.5358 - val_acc: 0.7542\n",
            "Epoch 13/20\n",
            "8/8 [==============================] - 3s 364ms/step - loss: 0.0855 - acc: 0.9906 - val_loss: 0.5234 - val_acc: 0.7708\n",
            "Epoch 14/20\n",
            "8/8 [==============================] - 3s 360ms/step - loss: 0.0570 - acc: 0.9979 - val_loss: 0.5176 - val_acc: 0.7667\n",
            "Epoch 15/20\n",
            "8/8 [==============================] - 3s 410ms/step - loss: 0.0838 - acc: 0.9854 - val_loss: 0.5498 - val_acc: 0.7167\n",
            "Epoch 16/20\n",
            "8/8 [==============================] - 3s 366ms/step - loss: 0.0411 - acc: 1.0000 - val_loss: 0.6588 - val_acc: 0.7625\n",
            "Epoch 17/20\n",
            "8/8 [==============================] - 3s 361ms/step - loss: 0.0362 - acc: 0.9969 - val_loss: 0.6826 - val_acc: 0.7542\n",
            "Epoch 18/20\n",
            "8/8 [==============================] - 5s 639ms/step - loss: 0.0391 - acc: 0.9969 - val_loss: 0.6637 - val_acc: 0.7667\n",
            "Epoch 19/20\n",
            "8/8 [==============================] - 3s 359ms/step - loss: 0.1420 - acc: 0.9698 - val_loss: 0.9005 - val_acc: 0.7250\n",
            "Epoch 20/20\n",
            "8/8 [==============================] - 4s 461ms/step - loss: 0.0766 - acc: 0.9823 - val_loss: 0.6266 - val_acc: 0.7750\n"
          ]
        }
      ],
      "source": [
        "# odwrócenie naszej sekwencji\n",
        "input_train_rev = np.array([x[::-1] for x in input_train_org])\n",
        "input_test_rev = np.array([x[::-1] for x in input_test_org])\n",
        "\n",
        "input_train_rev = pad_sequences(input_train_rev, maxlen=maxlen)\n",
        "input_test_rev = pad_sequences(input_test_rev, maxlen=maxlen)\n",
        "\n",
        "model = Sequential()\n",
        "# proszę dodać następujące warstwy:\n",
        "# - warstwa Embedding z odpowiednią licznością wejścia (dla ilu słów musimy wyznaczyć reprezentację wektorową?)\n",
        "# i rnn_units jako wielkość wektora\n",
        "# - warstwa LSTM z rnn_units jako liczbą neuronów\n",
        "# - gęstą warstwę z odpowiednią liczbą neuronów (patrz wyjście) oraz funkcją aktywacji sigmoid\n",
        "model.add(Embedding(max_features, 50))\n",
        "model.add(LSTM(rnn_units))\n",
        "model.add(Dense(1, activation='sigmoid'))\n",
        "# proszę skompilować model z oprimizerem RMSprop, odpowiednią funkcją kosztu oraz dokładnością jako metrykę do monitorowania\n",
        "model.compile(optimizer='rmsprop', loss = 'binary_crossentropy', metrics=['acc'])\n",
        "# proszę wytrenować model, liczba epok 10, użyć zmiennej batch_size, ustawić validation_split na 0.2, można też spróbować \n",
        "# ustawić liczbę instacji do obliczania (workers)\n",
        "history = history = model.fit(input_train, y_train, epochs = 20,\n",
        "                    batch_size = batch_size, validation_split = 0.2)"
      ]
    },
    {
      "cell_type": "code",
      "execution_count": 32,
      "metadata": {
        "id": "30DtOFhj-wKB",
        "colab": {
          "base_uri": "https://localhost:8080/",
          "height": 545
        },
        "outputId": "9bb36e9d-1753-4e81-a7b2-9e6e2d580767"
      },
      "outputs": [
        {
          "output_type": "display_data",
          "data": {
            "text/plain": [
              "<Figure size 432x288 with 1 Axes>"
            ],
            "image/png": "[encoded data removed]"
          },
          "metadata": {
            "needs_background": "light"
          }
        },
        {
          "output_type": "display_data",
          "data": {
            "text/plain": [
              "<Figure size 432x288 with 1 Axes>"
            ],
            "image/png": "[encoded data removed]"
          },
          "metadata": {
            "needs_background": "light"
          }
        }
      ],
      "source": [
        "import matplotlib.pyplot as plt\n",
        "\n",
        "acc = history.history['acc']\n",
        "val_acc = history.history['val_acc']\n",
        "loss = history.history['loss']\n",
        "val_loss = history.history['val_loss']\n",
        "\n",
        "epochs = range(len(acc))\n",
        "\n",
        "plt.plot(epochs, acc, 'bo', label='Dokladnosc trenowania')\n",
        "plt.plot(epochs, val_acc, 'b', label='Dokladnosc walidacji')\n",
        "plt.title('Dokladnosc trenowania i walidacji')\n",
        "plt.legend()\n",
        "\n",
        "plt.figure()\n",
        "\n",
        "plt.plot(epochs, loss, 'bo', label='Strata trenowania')\n",
        "plt.plot(epochs, val_loss, 'b', label='Strata walidacji')\n",
        "plt.title('Strata trenowania i walidacji')\n",
        "plt.legend()\n",
        "\n",
        "plt.show()"
      ]
    },
    {
      "cell_type": "markdown",
      "metadata": {
        "id": "km34_KHA-4gX"
      },
      "source": [
        "W celu utworzenia instancji dwukierunkowej sieci rekurencyjnej należy skorzystać z warstwy Bidirectional zaimplementowanej w pakiecie Keras, która jako swój pierwszy argument przyjmuje instancję warstwy rekurencyjnej. Funkcja Bidirectional tworzy drugą oddzielną instancję tej warstwy. Jedna instancja jest używana do przetwarzania sekwencji wejściowej w kierunku chronologicznym, a druga instancja jest używana do przetwarzania odwróconej sekwencji wejściowej. Wypróbujmy działanie tego rozwiązania w celu rozwiązania problemu analizy sentymentu recenzji filmów wchodzących w skład zbioru IMDB."
      ]
    },
    {
      "cell_type": "code",
      "execution_count": 33,
      "metadata": {
        "id": "rO1ecliP-5B4",
        "colab": {
          "base_uri": "https://localhost:8080/"
        },
        "outputId": "696f7839-b072-4790-c678-533db5de3ef9"
      },
      "outputs": [
        {
          "output_type": "stream",
          "name": "stdout",
          "text": [
            "Model: \"sequential_5\"\n",
            "_________________________________________________________________\n",
            " Layer (type)                Output Shape              Param #   \n",
            "=================================================================\n",
            " embedding_5 (Embedding)     (None, None, 50)          500000    \n",
            "                                                                 \n",
            " bidirectional (Bidirectiona  (None, 64)               21248     \n",
            " l)                                                              \n",
            "                                                                 \n",
            " dense_5 (Dense)             (None, 1)                 65        \n",
            "                                                                 \n",
            "=================================================================\n",
            "Total params: 521,313\n",
            "Trainable params: 521,313\n",
            "Non-trainable params: 0\n",
            "_________________________________________________________________\n"
          ]
        }
      ],
      "source": [
        "model = Sequential()\n",
        "# proszę dodać następujące warstwy:\n",
        "# - warstwa Embedding z odpowiednią licznością wejścia (dla ilu słów musimy wyznaczyć reprezentację wektorową?)\n",
        "# i rnn_units jako wielkość wektora\n",
        "# - warstwa Bidirectional LSTM z rnn_units jako liczbą neuronów\n",
        "# - gęstą warstwę z odpowiednią liczbą neuronów (patrz wyjście) oraz funkcją aktywacji sigmoid\n",
        "model.add(Embedding(max_features, 50))\n",
        "model.add(Bidirectional(LSTM(rnn_units)))\n",
        "model.add(Dense(1, activation='sigmoid'))\n",
        "\n",
        "model.summary()"
      ]
    },
    {
      "cell_type": "code",
      "source": [
        "# proszę skompilować model z oprimizerem RMSprop, odpowiednią funkcją kosztu oraz dokładnością jako metrykę do monitorowania\n",
        "model.compile(optimizer='rmsprop', loss = 'binary_crossentropy', metrics=['acc'])\n",
        "# proszę wytrenować model, liczba epok 10, użyć zmiennej batch_size, ustawić validation_split na 0.2, można też spróbować \n",
        "# ustawić liczbę instacji do obliczania (workers)\n",
        "history = history = model.fit(input_train, y_train, epochs = 20,\n",
        "                    batch_size = batch_size, validation_split = 0.2)"
      ],
      "metadata": {
        "id": "rgWDODofT4BN",
        "colab": {
          "base_uri": "https://localhost:8080/"
        },
        "outputId": "cd832aa4-e2c6-42fe-9f8c-92abbd10f572"
      },
      "execution_count": 34,
      "outputs": [
        {
          "output_type": "stream",
          "name": "stdout",
          "text": [
            "Epoch 1/20\n",
            "8/8 [==============================] - 11s 791ms/step - loss: 0.6931 - acc: 0.5219 - val_loss: 0.6923 - val_acc: 0.5083\n",
            "Epoch 2/20\n",
            "8/8 [==============================] - 5s 673ms/step - loss: 0.6816 - acc: 0.6844 - val_loss: 0.6891 - val_acc: 0.5042\n",
            "Epoch 3/20\n",
            "8/8 [==============================] - 5s 668ms/step - loss: 0.6565 - acc: 0.6990 - val_loss: 0.6691 - val_acc: 0.6042\n",
            "Epoch 4/20\n",
            "8/8 [==============================] - 5s 671ms/step - loss: 0.5679 - acc: 0.8219 - val_loss: 0.6224 - val_acc: 0.6625\n",
            "Epoch 5/20\n",
            "8/8 [==============================] - 5s 674ms/step - loss: 0.5188 - acc: 0.8219 - val_loss: 0.5991 - val_acc: 0.6875\n",
            "Epoch 6/20\n",
            "8/8 [==============================] - 5s 670ms/step - loss: 0.4146 - acc: 0.8854 - val_loss: 0.6939 - val_acc: 0.5458\n",
            "Epoch 7/20\n",
            "8/8 [==============================] - 5s 673ms/step - loss: 0.3801 - acc: 0.8990 - val_loss: 0.6239 - val_acc: 0.6708\n",
            "Epoch 8/20\n",
            "8/8 [==============================] - 6s 739ms/step - loss: 0.3068 - acc: 0.9365 - val_loss: 0.6093 - val_acc: 0.6542\n",
            "Epoch 9/20\n",
            "8/8 [==============================] - 5s 656ms/step - loss: 0.3138 - acc: 0.9042 - val_loss: 0.5754 - val_acc: 0.7167\n",
            "Epoch 10/20\n",
            "8/8 [==============================] - 5s 677ms/step - loss: 0.2028 - acc: 0.9802 - val_loss: 0.6067 - val_acc: 0.6917\n",
            "Epoch 11/20\n",
            "8/8 [==============================] - 5s 662ms/step - loss: 0.1780 - acc: 0.9708 - val_loss: 0.5441 - val_acc: 0.7417\n",
            "Epoch 12/20\n",
            "8/8 [==============================] - 5s 661ms/step - loss: 0.1387 - acc: 0.9802 - val_loss: 0.5677 - val_acc: 0.7375\n",
            "Epoch 13/20\n",
            "8/8 [==============================] - 5s 658ms/step - loss: 0.1170 - acc: 0.9875 - val_loss: 0.5474 - val_acc: 0.7292\n",
            "Epoch 14/20\n",
            "8/8 [==============================] - 5s 658ms/step - loss: 0.0836 - acc: 0.9990 - val_loss: 0.6874 - val_acc: 0.6625\n",
            "Epoch 15/20\n",
            "8/8 [==============================] - 5s 665ms/step - loss: 0.0903 - acc: 0.9927 - val_loss: 0.5782 - val_acc: 0.7417\n",
            "Epoch 16/20\n",
            "8/8 [==============================] - 5s 664ms/step - loss: 0.0708 - acc: 0.9927 - val_loss: 0.5859 - val_acc: 0.7417\n",
            "Epoch 17/20\n",
            "8/8 [==============================] - 5s 661ms/step - loss: 0.0558 - acc: 0.9948 - val_loss: 0.6132 - val_acc: 0.7542\n",
            "Epoch 18/20\n",
            "8/8 [==============================] - 5s 665ms/step - loss: 0.0478 - acc: 0.9969 - val_loss: 0.6658 - val_acc: 0.7500\n",
            "Epoch 19/20\n",
            "8/8 [==============================] - 5s 675ms/step - loss: 0.0310 - acc: 1.0000 - val_loss: 0.7158 - val_acc: 0.7458\n",
            "Epoch 20/20\n",
            "8/8 [==============================] - 5s 661ms/step - loss: 0.0417 - acc: 0.9948 - val_loss: 0.7175 - val_acc: 0.7542\n"
          ]
        }
      ]
    },
    {
      "cell_type": "code",
      "execution_count": 35,
      "metadata": {
        "id": "-eJuv_XWBNGU",
        "colab": {
          "base_uri": "https://localhost:8080/",
          "height": 545
        },
        "outputId": "fa445977-bd40-4ca6-fa62-0ec522ca4d81"
      },
      "outputs": [
        {
          "output_type": "display_data",
          "data": {
            "text/plain": [
              "<Figure size 432x288 with 1 Axes>"
            ],
            "image/png": "[encoded data removed]"
          },
          "metadata": {
            "needs_background": "light"
          }
        },
        {
          "output_type": "display_data",
          "data": {
            "text/plain": [
              "<Figure size 432x288 with 1 Axes>"
            ],
            "image/png": "[encoded data removed]"
          },
          "metadata": {
            "needs_background": "light"
          }
        }
      ],
      "source": [
        "import matplotlib.pyplot as plt\n",
        "\n",
        "acc = history.history['acc']\n",
        "val_acc = history.history['val_acc']\n",
        "loss = history.history['loss']\n",
        "val_loss = history.history['val_loss']\n",
        "\n",
        "epochs = range(len(acc))\n",
        "\n",
        "plt.plot(epochs, acc, 'bo', label='Dokladnosc trenowania')\n",
        "plt.plot(epochs, val_acc, 'b', label='Dokladnosc walidacji')\n",
        "plt.title('Dokladnosc trenowania i walidacji')\n",
        "plt.legend()\n",
        "\n",
        "plt.figure()\n",
        "\n",
        "plt.plot(epochs, loss, 'bo', label='Strata trenowania')\n",
        "plt.plot(epochs, val_loss, 'b', label='Strata walidacji')\n",
        "plt.title('Strata trenowania i walidacji')\n",
        "plt.legend()\n",
        "\n",
        "plt.show()"
      ]
    },
    {
      "cell_type": "markdown",
      "metadata": {
        "id": "aRmwa1BtDwbt"
      },
      "source": [
        "# Dropout"
      ]
    },
    {
      "cell_type": "code",
      "execution_count": 36,
      "metadata": {
        "colab": {
          "base_uri": "https://localhost:8080/"
        },
        "id": "xtgaTSTnBNNn",
        "outputId": "c60d4fb3-14e8-4923-da8b-edaf1f109149"
      },
      "outputs": [
        {
          "output_type": "stream",
          "name": "stdout",
          "text": [
            "Model: \"sequential_6\"\n",
            "_________________________________________________________________\n",
            " Layer (type)                Output Shape              Param #   \n",
            "=================================================================\n",
            " embedding_6 (Embedding)     (None, None, 50)          500000    \n",
            "                                                                 \n",
            " gru (GRU)                   (None, 32)                8064      \n",
            "                                                                 \n",
            " dense_6 (Dense)             (None, 1)                 33        \n",
            "                                                                 \n",
            "=================================================================\n",
            "Total params: 508,097\n",
            "Trainable params: 508,097\n",
            "Non-trainable params: 0\n",
            "_________________________________________________________________\n"
          ]
        }
      ],
      "source": [
        "model = Sequential()\n",
        "# proszę dodać następujące warstwy:\n",
        "# - warstwa Embedding z odpowiednią licznością wejścia (dla ilu słów musimy wyznaczyć reprezentację wektorową?)\n",
        "# i rnn_units jako wielkość wektora\n",
        "# - warstwa GRU z rnn_units jako liczbą neuronów oraz dropoutem 0.2 i recurent dropout 0.2\n",
        "# - gęstą warstwę z odpowiednią liczbą neuronów (patrz wyjście) oraz funkcją aktywacji sigmoid\n",
        "model.add(Embedding(max_features, 50))\n",
        "model.add(GRU(rnn_units, dropout=0.2, recurrent_dropout= 0.3))\n",
        "model.add(Dense(1, activation='sigmoid'))\n",
        "model.summary()"
      ]
    },
    {
      "cell_type": "code",
      "source": [
        "# proszę skompilować model z oprimizerem RMSprop, odpowiednią funkcją kosztu oraz dokładnością jako metrykę do monitorowania\n",
        "model.compile(optimizer='rmsprop', loss = 'binary_crossentropy', metrics=['acc'])\n",
        "# proszę wytrenować model, liczba epok 10, użyć zmiennej batch_size, ustawić validation_split na 0.2, można też spróbować \n",
        "# ustawić liczbę instacji do obliczania (workers)\n",
        "history = history = model.fit(input_train, y_train, epochs = 20,\n",
        "                    batch_size = batch_size, validation_split = 0.2)"
      ],
      "metadata": {
        "id": "4cI91l2BVKTM",
        "colab": {
          "base_uri": "https://localhost:8080/"
        },
        "outputId": "b23f658a-ca86-40ba-e623-1b80f62d9b63"
      },
      "execution_count": 37,
      "outputs": [
        {
          "output_type": "stream",
          "name": "stdout",
          "text": [
            "Epoch 1/20\n",
            "8/8 [==============================] - 9s 748ms/step - loss: 0.6937 - acc: 0.5073 - val_loss: 0.6920 - val_acc: 0.5167\n",
            "Epoch 2/20\n",
            "8/8 [==============================] - 6s 746ms/step - loss: 0.6837 - acc: 0.7031 - val_loss: 0.6901 - val_acc: 0.5333\n",
            "Epoch 3/20\n",
            "8/8 [==============================] - 6s 694ms/step - loss: 0.6645 - acc: 0.7563 - val_loss: 0.6859 - val_acc: 0.5333\n",
            "Epoch 4/20\n",
            "8/8 [==============================] - 6s 689ms/step - loss: 0.6251 - acc: 0.8156 - val_loss: 0.6783 - val_acc: 0.5583\n",
            "Epoch 5/20\n",
            "8/8 [==============================] - 5s 684ms/step - loss: 0.5479 - acc: 0.8365 - val_loss: 0.6920 - val_acc: 0.6000\n",
            "Epoch 6/20\n",
            "8/8 [==============================] - 6s 694ms/step - loss: 0.4241 - acc: 0.8469 - val_loss: 0.6434 - val_acc: 0.6208\n",
            "Epoch 7/20\n",
            "8/8 [==============================] - 6s 689ms/step - loss: 0.3352 - acc: 0.8865 - val_loss: 0.6291 - val_acc: 0.6458\n",
            "Epoch 8/20\n",
            "8/8 [==============================] - 6s 689ms/step - loss: 0.2333 - acc: 0.9260 - val_loss: 0.6579 - val_acc: 0.6667\n",
            "Epoch 9/20\n",
            "8/8 [==============================] - 6s 732ms/step - loss: 0.1744 - acc: 0.9417 - val_loss: 0.6278 - val_acc: 0.6667\n",
            "Epoch 10/20\n",
            "8/8 [==============================] - 5s 688ms/step - loss: 0.1298 - acc: 0.9604 - val_loss: 0.6608 - val_acc: 0.7083\n",
            "Epoch 11/20\n",
            "8/8 [==============================] - 6s 792ms/step - loss: 0.0759 - acc: 0.9854 - val_loss: 0.6675 - val_acc: 0.7125\n",
            "Epoch 12/20\n",
            "8/8 [==============================] - 6s 692ms/step - loss: 0.0740 - acc: 0.9844 - val_loss: 0.6716 - val_acc: 0.7333\n",
            "Epoch 13/20\n",
            "8/8 [==============================] - 6s 715ms/step - loss: 0.0682 - acc: 0.9875 - val_loss: 0.8044 - val_acc: 0.7083\n",
            "Epoch 14/20\n",
            "8/8 [==============================] - 6s 695ms/step - loss: 0.0414 - acc: 0.9937 - val_loss: 0.8021 - val_acc: 0.6958\n",
            "Epoch 15/20\n",
            "8/8 [==============================] - 5s 688ms/step - loss: 0.0270 - acc: 0.9969 - val_loss: 0.8009 - val_acc: 0.7458\n",
            "Epoch 16/20\n",
            "8/8 [==============================] - 6s 688ms/step - loss: 0.0208 - acc: 0.9990 - val_loss: 0.8047 - val_acc: 0.7875\n",
            "Epoch 17/20\n",
            "8/8 [==============================] - 5s 681ms/step - loss: 0.0412 - acc: 0.9854 - val_loss: 0.7093 - val_acc: 0.7000\n",
            "Epoch 18/20\n",
            "8/8 [==============================] - 5s 686ms/step - loss: 0.0201 - acc: 1.0000 - val_loss: 0.8600 - val_acc: 0.7500\n",
            "Epoch 19/20\n",
            "8/8 [==============================] - 5s 683ms/step - loss: 0.0152 - acc: 0.9969 - val_loss: 0.8656 - val_acc: 0.7583\n",
            "Epoch 20/20\n",
            "8/8 [==============================] - 6s 686ms/step - loss: 0.0085 - acc: 0.9990 - val_loss: 0.8885 - val_acc: 0.7583\n"
          ]
        }
      ]
    },
    {
      "cell_type": "code",
      "execution_count": 38,
      "metadata": {
        "colab": {
          "base_uri": "https://localhost:8080/",
          "height": 545
        },
        "id": "OuAAlsPfEjEz",
        "outputId": "dd40ffed-f041-4d90-927d-e0c6607814e0"
      },
      "outputs": [
        {
          "output_type": "display_data",
          "data": {
            "text/plain": [
              "<Figure size 432x288 with 1 Axes>"
            ],
            "image/png": "[encoded data removed]"
          },
          "metadata": {
            "needs_background": "light"
          }
        },
        {
          "output_type": "display_data",
          "data": {
            "text/plain": [
              "<Figure size 432x288 with 1 Axes>"
            ],
            "image/png": "[encoded data removed]"
          },
          "metadata": {
            "needs_background": "light"
          }
        }
      ],
      "source": [
        "import matplotlib.pyplot as plt\n",
        "\n",
        "acc = history.history['acc']\n",
        "val_acc = history.history['val_acc']\n",
        "loss = history.history['loss']\n",
        "val_loss = history.history['val_loss']\n",
        "\n",
        "epochs = range(len(acc))\n",
        "\n",
        "plt.plot(epochs, acc, 'bo', label='Dokladnosc trenowania')\n",
        "plt.plot(epochs, val_acc, 'b', label='Dokladnosc walidacji')\n",
        "plt.title('Dokladnosc trenowania i walidacji')\n",
        "plt.legend()\n",
        "\n",
        "plt.figure()\n",
        "\n",
        "plt.plot(epochs, loss, 'bo', label='Strata trenowania')\n",
        "plt.plot(epochs, val_loss, 'b', label='Strata walidacji')\n",
        "plt.title('Strata trenowania i walidacji')\n",
        "plt.legend()\n",
        "\n",
        "plt.show()"
      ]
    },
    {
      "cell_type": "markdown",
      "metadata": {
        "id": "Rq3g3vOPEub6"
      },
      "source": [
        "# Tworzenie stosów warstw rekurencyjnych"
      ]
    },
    {
      "cell_type": "code",
      "execution_count": 42,
      "metadata": {
        "id": "hwJMNs8MEve2",
        "colab": {
          "base_uri": "https://localhost:8080/"
        },
        "outputId": "5ffd3b08-5d99-4b64-ffe8-11840769facb"
      },
      "outputs": [
        {
          "output_type": "stream",
          "name": "stdout",
          "text": [
            "Model: \"sequential_9\"\n",
            "_________________________________________________________________\n",
            " Layer (type)                Output Shape              Param #   \n",
            "=================================================================\n",
            " embedding_9 (Embedding)     (None, None, 50)          500000    \n",
            "                                                                 \n",
            " gru_5 (GRU)                 (None, None, 32)          8064      \n",
            "                                                                 \n",
            " gru_6 (GRU)                 (None, 32)                6336      \n",
            "                                                                 \n",
            " dense_8 (Dense)             (None, 1)                 33        \n",
            "                                                                 \n",
            "=================================================================\n",
            "Total params: 514,433\n",
            "Trainable params: 514,433\n",
            "Non-trainable params: 0\n",
            "_________________________________________________________________\n"
          ]
        }
      ],
      "source": [
        "model = Sequential()\n",
        "# proszę dodać następujące warstwy:\n",
        "# - warstwa Embedding z odpowiednią licznością wejścia (dla ilu słów musimy wyznaczyć reprezentację wektorową?)\n",
        "# i rnn_units jako wielkość wektora\n",
        "# - warstwa GRU z rnn_units jako liczbą neuronów, przekazywaniem w głąb sieci sekwencji\n",
        "# oraz dropoutem 0.1 i recurent dropout 0.5\n",
        "# - warstwa GRU z rnn_units jako liczbą neuronów oraz dropoutem 0.2 i recurent dropout 0.4\n",
        "# - gęstą warstwę z odpowiednią liczbą neuronów (patrz wyjście) oraz funkcją aktywacji sigmoid\n",
        "model.add(Embedding(max_features, 50))\n",
        "model.add(GRU(rnn_units, return_sequences=True, dropout = 0.1, recurrent_dropout=0.5))\n",
        "model.add(GRU(rnn_units, dropout = 0.1, recurrent_dropout=0.5))\n",
        "model.add(Dense(1, activation='sigmoid'))\n",
        "model.summary()\n"
      ]
    },
    {
      "cell_type": "code",
      "source": [
        ""
      ],
      "metadata": {
        "id": "5zD6tKFBGydP"
      },
      "execution_count": null,
      "outputs": []
    },
    {
      "cell_type": "code",
      "source": [
        "# proszę skompilować model z oprimizerem RMSprop, odpowiednią funkcją kosztu oraz dokładnością jako metrykę do monitorowania\n",
        "model.compile(optimizer='rmsprop', loss = 'binary_crossentropy', metrics=['acc'])\n",
        "# proszę wytrenować model, liczba epok 10, użyć zmiennej batch_size, ustawić validation_split na 0.2, można też spróbować \n",
        "# ustawić liczbę instacji do obliczania (workers)\n",
        "history = history = model.fit(input_train, y_train, epochs = 20,\n",
        "                    batch_size = batch_size, validation_split = 0.2)"
      ],
      "metadata": {
        "id": "kNGxvvYZU5UM",
        "colab": {
          "base_uri": "https://localhost:8080/"
        },
        "outputId": "df0f3337-7b9e-4f0b-891a-46620ca3b75c"
      },
      "execution_count": 43,
      "outputs": [
        {
          "output_type": "stream",
          "name": "stdout",
          "text": [
            "Epoch 1/20\n",
            "8/8 [==============================] - 17s 1s/step - loss: 0.6930 - acc: 0.5083 - val_loss: 0.6918 - val_acc: 0.5125\n",
            "Epoch 2/20\n",
            "8/8 [==============================] - 10s 1s/step - loss: 0.6800 - acc: 0.6656 - val_loss: 0.6856 - val_acc: 0.5750\n",
            "Epoch 3/20\n",
            "8/8 [==============================] - 10s 1s/step - loss: 0.6278 - acc: 0.7583 - val_loss: 0.6658 - val_acc: 0.6292\n",
            "Epoch 4/20\n",
            "8/8 [==============================] - 11s 1s/step - loss: 0.4796 - acc: 0.8125 - val_loss: 0.6925 - val_acc: 0.6042\n",
            "Epoch 5/20\n",
            "8/8 [==============================] - 10s 1s/step - loss: 0.3242 - acc: 0.8760 - val_loss: 0.7005 - val_acc: 0.6083\n",
            "Epoch 6/20\n",
            "8/8 [==============================] - 10s 1s/step - loss: 0.1863 - acc: 0.9281 - val_loss: 0.9996 - val_acc: 0.6333\n",
            "Epoch 7/20\n",
            "8/8 [==============================] - 11s 1s/step - loss: 0.1102 - acc: 0.9552 - val_loss: 1.0071 - val_acc: 0.6458\n",
            "Epoch 8/20\n",
            "8/8 [==============================] - 10s 1s/step - loss: 0.0830 - acc: 0.9708 - val_loss: 0.9484 - val_acc: 0.6333\n",
            "Epoch 9/20\n",
            "8/8 [==============================] - 10s 1s/step - loss: 0.0265 - acc: 0.9969 - val_loss: 1.1605 - val_acc: 0.6333\n",
            "Epoch 10/20\n",
            "8/8 [==============================] - 10s 1s/step - loss: 0.0225 - acc: 0.9948 - val_loss: 1.2401 - val_acc: 0.6292\n",
            "Epoch 11/20\n",
            "8/8 [==============================] - 10s 1s/step - loss: 0.0304 - acc: 0.9917 - val_loss: 1.2439 - val_acc: 0.6208\n",
            "Epoch 12/20\n",
            "8/8 [==============================] - 10s 1s/step - loss: 0.0103 - acc: 0.9969 - val_loss: 1.3631 - val_acc: 0.6250\n",
            "Epoch 13/20\n",
            "8/8 [==============================] - 10s 1s/step - loss: 0.0045 - acc: 1.0000 - val_loss: 1.4443 - val_acc: 0.6375\n",
            "Epoch 14/20\n",
            "8/8 [==============================] - 10s 1s/step - loss: 0.0033 - acc: 1.0000 - val_loss: 1.5242 - val_acc: 0.6250\n",
            "Epoch 15/20\n",
            "8/8 [==============================] - 10s 1s/step - loss: 0.0014 - acc: 1.0000 - val_loss: 1.6436 - val_acc: 0.6500\n",
            "Epoch 16/20\n",
            "8/8 [==============================] - 10s 1s/step - loss: 0.0074 - acc: 0.9958 - val_loss: 1.8116 - val_acc: 0.6333\n",
            "Epoch 17/20\n",
            "8/8 [==============================] - 11s 1s/step - loss: 0.0072 - acc: 0.9969 - val_loss: 1.6911 - val_acc: 0.6333\n",
            "Epoch 18/20\n",
            "8/8 [==============================] - 11s 1s/step - loss: 0.0017 - acc: 1.0000 - val_loss: 1.8414 - val_acc: 0.6000\n",
            "Epoch 19/20\n",
            "8/8 [==============================] - 10s 1s/step - loss: 0.0015 - acc: 1.0000 - val_loss: 1.8959 - val_acc: 0.6250\n",
            "Epoch 20/20\n",
            "8/8 [==============================] - 10s 1s/step - loss: 5.0527e-04 - acc: 1.0000 - val_loss: 1.9983 - val_acc: 0.6250\n"
          ]
        }
      ]
    },
    {
      "cell_type": "code",
      "execution_count": 44,
      "metadata": {
        "id": "hHKwP8GTFDHX",
        "colab": {
          "base_uri": "https://localhost:8080/",
          "height": 545
        },
        "outputId": "004fa3de-bd77-4fa3-ae60-164a722c420d"
      },
      "outputs": [
        {
          "output_type": "display_data",
          "data": {
            "text/plain": [
              "<Figure size 432x288 with 1 Axes>"
            ],
            "image/png": "[encoded data removed]"
          },
          "metadata": {
            "needs_background": "light"
          }
        },
        {
          "output_type": "display_data",
          "data": {
            "text/plain": [
              "<Figure size 432x288 with 1 Axes>"
            ],
            "image/png": "[encoded data removed]"
          },
          "metadata": {
            "needs_background": "light"
          }
        }
      ],
      "source": [
        "import matplotlib.pyplot as plt\n",
        "\n",
        "acc = history.history['acc']\n",
        "val_acc = history.history['val_acc']\n",
        "loss = history.history['loss']\n",
        "val_loss = history.history['val_loss']\n",
        "\n",
        "epochs = range(len(acc))\n",
        "\n",
        "plt.plot(epochs, acc, 'bo', label='Dokladnosc trenowania')\n",
        "plt.plot(epochs, val_acc, 'b', label='Dokladnosc walidacji')\n",
        "plt.title('Dokladnosc trenowania i walidacji')\n",
        "plt.legend()\n",
        "\n",
        "plt.figure()\n",
        "\n",
        "plt.plot(epochs, loss, 'bo', label='Strata trenowania')\n",
        "plt.plot(epochs, val_loss, 'b', label='Strata walidacji')\n",
        "plt.title('Strata trenowania i walidacji')\n",
        "plt.legend()\n",
        "\n",
        "plt.show()"
      ]
    },
    {
      "cell_type": "code",
      "execution_count": 48,
      "metadata": {
        "id": "1twaBXaaxL9h",
        "colab": {
          "base_uri": "https://localhost:8080/"
        },
        "outputId": "f000e584-c82e-4e59-fa60-5a8aec50caaf"
      },
      "outputs": [
        {
          "output_type": "stream",
          "name": "stdout",
          "text": [
            "Model: \"sequential_11\"\n",
            "_________________________________________________________________\n",
            " Layer (type)                Output Shape              Param #   \n",
            "=================================================================\n",
            " embedding_11 (Embedding)    (None, None, 50)          500000    \n",
            "                                                                 \n",
            " bidirectional_3 (Bidirectio  (None, None, 64)         16128     \n",
            " nal)                                                            \n",
            "                                                                 \n",
            " bidirectional_4 (Bidirectio  (None, 64)               18816     \n",
            " nal)                                                            \n",
            "                                                                 \n",
            " dense_10 (Dense)            (None, 1)                 65        \n",
            "                                                                 \n",
            "=================================================================\n",
            "Total params: 535,009\n",
            "Trainable params: 535,009\n",
            "Non-trainable params: 0\n",
            "_________________________________________________________________\n"
          ]
        }
      ],
      "source": [
        "model = Sequential()\n",
        "# proszę dodać następujące warstwy:\n",
        "# - warstwa Embedding z odpowiednią licznością wejścia (dla ilu słów musimy wyznaczyć reprezentację wektorową?)\n",
        "# i rnn_units jako wielkość wektora\n",
        "# - warstwa GRU z rnn_units jako liczbą neuronów, przekazywaniem w głąb sieci sekwencji\n",
        "# oraz dropoutem 0.1 i recurent dropout 0.5\n",
        "# - warstwa GRU z rnn_units jako liczbą neuronów oraz dropoutem 0.2 i recurent dropout 0.4\n",
        "# - gęstą warstwę z odpowiednią liczbą neuronów (patrz wyjście) oraz funkcją aktywacji sigmoid\n",
        "model.add(Embedding(max_features, 50))\n",
        "model.add(Bidirectional(GRU(rnn_units, return_sequences=True, dropout = 0.1, recurrent_dropout=0.5)))\n",
        "model.add(Bidirectional(GRU(rnn_units, dropout = 0.2, recurrent_dropout=0.4)))\n",
        "model.add(Dense(1, activation='sigmoid'))\n",
        "model.summary()"
      ]
    },
    {
      "cell_type": "code",
      "source": [
        "# proszę skompilować model z oprimizerem RMSprop, odpowiednią funkcją kosztu oraz dokładnością jako metrykę do monitorowania\n",
        "model.compile(optimizer='rmsprop', loss = 'binary_crossentropy', metrics=['acc'])\n",
        "# proszę wytrenować model, liczba epok 10, użyć zmiennej batch_size, ustawić validation_split na 0.2, można też spróbować \n",
        "# ustawić liczbę instacji do obliczania (workers)\n",
        "history = history = model.fit(input_train, y_train, epochs = 10,\n",
        "                    batch_size = batch_size, validation_split = 0.2)"
      ],
      "metadata": {
        "colab": {
          "base_uri": "https://localhost:8080/"
        },
        "id": "UrNPmTjqG4M8",
        "outputId": "65ac50bb-da07-4d4a-8767-36866c21f3a3"
      },
      "execution_count": 49,
      "outputs": [
        {
          "output_type": "stream",
          "name": "stdout",
          "text": [
            "Epoch 1/10\n",
            "8/8 [==============================] - 33s 3s/step - loss: 0.6921 - acc: 0.5302 - val_loss: 0.6960 - val_acc: 0.5000\n",
            "Epoch 2/10\n",
            "8/8 [==============================] - 22s 3s/step - loss: 0.6840 - acc: 0.5354 - val_loss: 0.6911 - val_acc: 0.5417\n",
            "Epoch 3/10\n",
            "8/8 [==============================] - 22s 3s/step - loss: 0.6379 - acc: 0.7781 - val_loss: 0.6873 - val_acc: 0.5375\n",
            "Epoch 4/10\n",
            "8/8 [==============================] - 22s 3s/step - loss: 0.5087 - acc: 0.8146 - val_loss: 0.7151 - val_acc: 0.5833\n",
            "Epoch 5/10\n",
            "8/8 [==============================] - 22s 3s/step - loss: 0.3306 - acc: 0.8844 - val_loss: 0.7636 - val_acc: 0.6000\n",
            "Epoch 6/10\n",
            "8/8 [==============================] - 22s 3s/step - loss: 0.2199 - acc: 0.9187 - val_loss: 0.8219 - val_acc: 0.6125\n",
            "Epoch 7/10\n",
            "8/8 [==============================] - 22s 3s/step - loss: 0.1211 - acc: 0.9604 - val_loss: 1.0120 - val_acc: 0.6125\n",
            "Epoch 8/10\n",
            "8/8 [==============================] - 21s 3s/step - loss: 0.0687 - acc: 0.9802 - val_loss: 1.2064 - val_acc: 0.6250\n",
            "Epoch 9/10\n",
            "8/8 [==============================] - 22s 3s/step - loss: 0.0309 - acc: 0.9917 - val_loss: 1.3092 - val_acc: 0.6000\n",
            "Epoch 10/10\n",
            "8/8 [==============================] - 22s 3s/step - loss: 0.0131 - acc: 0.9990 - val_loss: 1.4876 - val_acc: 0.6208\n"
          ]
        }
      ]
    },
    {
      "cell_type": "code",
      "source": [
        "import matplotlib.pyplot as plt\n",
        "\n",
        "acc = history.history['acc']\n",
        "val_acc = history.history['val_acc']\n",
        "loss = history.history['loss']\n",
        "val_loss = history.history['val_loss']\n",
        "\n",
        "epochs = range(len(acc))\n",
        "\n",
        "plt.plot(epochs, acc, 'bo', label='Dokladnosc trenowania')\n",
        "plt.plot(epochs, val_acc, 'b', label='Dokladnosc walidacji')\n",
        "plt.title('Dokladnosc trenowania i walidacji')\n",
        "plt.legend()\n",
        "\n",
        "plt.figure()\n",
        "\n",
        "plt.plot(epochs, loss, 'bo', label='Strata trenowania')\n",
        "plt.plot(epochs, val_loss, 'b', label='Strata walidacji')\n",
        "plt.title('Strata trenowania i walidacji')\n",
        "plt.legend()\n",
        "\n",
        "plt.show()"
      ],
      "metadata": {
        "colab": {
          "base_uri": "https://localhost:8080/",
          "height": 545
        },
        "id": "6eTnfnctG6G_",
        "outputId": "34fea4c9-415b-4965-c6df-dae8e5aa851b"
      },
      "execution_count": 50,
      "outputs": [
        {
          "output_type": "display_data",
          "data": {
            "text/plain": [
              "<Figure size 432x288 with 1 Axes>"
            ],
            "image/png": "[encoded data removed]"
          },
          "metadata": {
            "needs_background": "light"
          }
        },
        {
          "output_type": "display_data",
          "data": {
            "text/plain": [
              "<Figure size 432x288 with 1 Axes>"
            ],
            "image/png": "[encoded data removed]"
          },
          "metadata": {
            "needs_background": "light"
          }
        }
      ]
    }
  ],
  "metadata": {
    "colab": {
      "collapsed_sections": [],
      "name": "Kopia notatnika sieci_rekurencyjne-plain.ipynb",
      "provenance": [],
      "include_colab_link": true
    },
    "kernelspec": {
      "display_name": "nlp",
      "language": "python",
      "name": "nlp"
    },
    "language_info": {
      "codemirror_mode": {
        "name": "ipython",
        "version": 3
      },
      "file_extension": ".py",
      "mimetype": "text/x-python",
      "name": "python",
      "nbconvert_exporter": "python",
      "pygments_lexer": "ipython3",
      "version": "3.9.13"
    }
  },
  "nbformat": 4,
  "nbformat_minor": 0
}
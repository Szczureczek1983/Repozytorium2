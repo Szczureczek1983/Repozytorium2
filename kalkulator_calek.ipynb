{
  "nbformat": 4,
  "nbformat_minor": 0,
  "metadata": {
    "colab": {
      "name": "Kopia notatnika kalkulator_calek.ipynb",
      "provenance": [],
      "collapsed_sections": [],
      "authorship_tag": "ABX9TyO9ZESEIADCosw1KSkxOxBc",
      "include_colab_link": true
    },
    "kernelspec": {
      "name": "python3",
      "display_name": "Python 3"
    },
    "language_info": {
      "name": "python"
    }
  },
  "cells": [
    {
      "cell_type": "markdown",
      "metadata": {
        "id": "view-in-github",
        "colab_type": "text"
      },
      "source": [
        "<a href=\"https://colab.research.google.com/github/Szczureczek1983/Repozytorium2/blob/main/kalkulator_calek.ipynb\" target=\"_parent\"><img src=\"https://colab.research.google.com/assets/colab-badge.svg\" alt=\"Open In Colab\"/></a>"
      ]
    },
    {
      "cell_type": "code",
      "execution_count": 61,
      "metadata": {
        "colab": {
          "base_uri": "https://localhost:8080/",
          "height": 1000
        },
        "id": "FnZYzgzkKGtz",
        "outputId": "73984763-9c6d-4277-81b8-e806ccde9649"
      },
      "outputs": [
        {
          "output_type": "stream",
          "name": "stdout",
          "text": [
            "Podaj funkcję: x+4\n",
            "Określ poczętek przedziału: 1\n",
            "Określ koniec przedziału: 10\n",
            "[1, 2, 3, 4, 5, 6, 7, 8, 9]\n",
            "DX= [9.         4.5        3.         2.25       1.8        1.5\n",
            " 1.28571429 1.125      1.        ]\n",
            "[array([10.        ,  5.5       ,  4.        ,  3.25      ,  2.8       ,\n",
            "        2.5       ,  2.28571429,  2.125     ,  2.        ]), array([19.        , 10.        ,  7.        ,  5.5       ,  4.6       ,\n",
            "        4.        ,  3.57142857,  3.25      ,  3.        ]), array([28.        , 14.5       , 10.        ,  7.75      ,  6.4       ,\n",
            "        5.5       ,  4.85714286,  4.375     ,  4.        ]), array([37.        , 19.        , 13.        , 10.        ,  8.2       ,\n",
            "        7.        ,  6.14285714,  5.5       ,  5.        ]), array([46.        , 23.5       , 16.        , 12.25      , 10.        ,\n",
            "        8.5       ,  7.42857143,  6.625     ,  6.        ]), array([55.        , 28.        , 19.        , 14.5       , 11.8       ,\n",
            "       10.        ,  8.71428571,  7.75      ,  7.        ]), array([64.   , 32.5  , 22.   , 16.75 , 13.6  , 11.5  , 10.   ,  8.875,\n",
            "        8.   ]), array([73.        , 37.        , 25.        , 19.        , 15.4       ,\n",
            "       13.        , 11.28571429, 10.        ,  9.        ]), array([82.        , 41.5       , 28.        , 21.25      , 17.2       ,\n",
            "       14.5       , 12.57142857, 11.125     , 10.        ])]\n",
            "y =  [array([14.        ,  9.5       ,  8.        ,  7.25      ,  6.8       ,\n",
            "        6.5       ,  6.28571429,  6.125     ,  6.        ]), array([23.        , 14.        , 11.        ,  9.5       ,  8.6       ,\n",
            "        8.        ,  7.57142857,  7.25      ,  7.        ]), array([32.        , 18.5       , 14.        , 11.75      , 10.4       ,\n",
            "        9.5       ,  8.85714286,  8.375     ,  8.        ]), array([41.        , 23.        , 17.        , 14.        , 12.2       ,\n",
            "       11.        , 10.14285714,  9.5       ,  9.        ]), array([50.        , 27.5       , 20.        , 16.25      , 14.        ,\n",
            "       12.5       , 11.42857143, 10.625     , 10.        ]), array([59.        , 32.        , 23.        , 18.5       , 15.8       ,\n",
            "       14.        , 12.71428571, 11.75      , 11.        ]), array([68.   , 36.5  , 26.   , 20.75 , 17.6  , 15.5  , 14.   , 12.875,\n",
            "       12.   ]), array([77.        , 41.        , 29.        , 23.        , 19.4       ,\n",
            "       17.        , 15.28571429, 14.        , 13.        ]), array([86.        , 45.5       , 32.        , 25.25      , 21.2       ,\n",
            "       18.5       , 16.57142857, 15.125     , 14.        ])]\n",
            "Całka = [[126.          42.75        24.          16.3125      12.24\n",
            "    9.75         8.08163265   6.890625     6.        ]\n",
            " [207.          63.          33.          21.375       15.48\n",
            "   12.           9.73469388   8.15625      7.        ]\n",
            " [288.          83.25        42.          26.4375      18.72\n",
            "   14.25        11.3877551    9.421875     8.        ]\n",
            " [369.         103.5         51.          31.5         21.96\n",
            "   16.5         13.04081633  10.6875       9.        ]\n",
            " [450.         123.75        60.          36.5625      25.2\n",
            "   18.75        14.69387755  11.953125    10.        ]\n",
            " [531.         144.          69.          41.625       28.44\n",
            "   21.          16.34693878  13.21875     11.        ]\n",
            " [612.         164.25        78.          46.6875      31.68\n",
            "   23.25        18.          14.484375    12.        ]\n",
            " [693.         184.5         87.          51.75        34.92\n",
            "   25.5         19.65306122  15.75        13.        ]\n",
            " [774.         204.75        96.          56.8125      38.16\n",
            "   27.75        21.30612245  17.015625    14.        ]]\n",
            "DX= [9.         4.5        3.         2.25       1.8        1.5\n",
            " 1.28571429 1.125      1.        ]\n",
            "[array([10.        ,  5.5       ,  4.        ,  3.25      ,  2.8       ,\n",
            "        2.5       ,  2.28571429,  2.125     ,  2.        ]), array([19.        , 10.        ,  7.        ,  5.5       ,  4.6       ,\n",
            "        4.        ,  3.57142857,  3.25      ,  3.        ]), array([28.        , 14.5       , 10.        ,  7.75      ,  6.4       ,\n",
            "        5.5       ,  4.85714286,  4.375     ,  4.        ]), array([37.        , 19.        , 13.        , 10.        ,  8.2       ,\n",
            "        7.        ,  6.14285714,  5.5       ,  5.        ]), array([46.        , 23.5       , 16.        , 12.25      , 10.        ,\n",
            "        8.5       ,  7.42857143,  6.625     ,  6.        ]), array([55.        , 28.        , 19.        , 14.5       , 11.8       ,\n",
            "       10.        ,  8.71428571,  7.75      ,  7.        ]), array([64.   , 32.5  , 22.   , 16.75 , 13.6  , 11.5  , 10.   ,  8.875,\n",
            "        8.   ]), array([73.        , 37.        , 25.        , 19.        , 15.4       ,\n",
            "       13.        , 11.28571429, 10.        ,  9.        ]), array([82.        , 41.5       , 28.        , 21.25      , 17.2       ,\n",
            "       14.5       , 12.57142857, 11.125     , 10.        ])]\n",
            "y =  [array([14.        ,  9.5       ,  8.        ,  7.25      ,  6.8       ,\n",
            "        6.5       ,  6.28571429,  6.125     ,  6.        ]), array([23.        , 14.        , 11.        ,  9.5       ,  8.6       ,\n",
            "        8.        ,  7.57142857,  7.25      ,  7.        ]), array([32.        , 18.5       , 14.        , 11.75      , 10.4       ,\n",
            "        9.5       ,  8.85714286,  8.375     ,  8.        ]), array([41.        , 23.        , 17.        , 14.        , 12.2       ,\n",
            "       11.        , 10.14285714,  9.5       ,  9.        ]), array([50.        , 27.5       , 20.        , 16.25      , 14.        ,\n",
            "       12.5       , 11.42857143, 10.625     , 10.        ]), array([59.        , 32.        , 23.        , 18.5       , 15.8       ,\n",
            "       14.        , 12.71428571, 11.75      , 11.        ]), array([68.   , 36.5  , 26.   , 20.75 , 17.6  , 15.5  , 14.   , 12.875,\n",
            "       12.   ]), array([77.        , 41.        , 29.        , 23.        , 19.4       ,\n",
            "       17.        , 15.28571429, 14.        , 13.        ]), array([86.        , 45.5       , 32.        , 25.25      , 21.2       ,\n",
            "       18.5       , 16.57142857, 15.125     , 14.        ])]\n"
          ]
        },
        {
          "output_type": "display_data",
          "data": {
            "text/plain": [
              "<Figure size 432x288 with 1 Axes>"
            ],
            "image/png": "[encoded data removed]"
          },
          "metadata": {
            "needs_background": "light"
          }
        }
      ],
      "source": [
        "from IPython.core.pylabtools import figsize\n",
        "import numpy as np\n",
        "import pandas as pd\n",
        "import matplotlib.pyplot as plt\n",
        "import matplotlib as mpl\n",
        "%matplotlib inline\n",
        "#mpl.rcParams('figure.dpi') = 500\n",
        "funkcja = input(\"Podaj funkcję: \")\n",
        "a = float(input('Określ poczętek przedziału: '))\n",
        "b = float(input('Określ koniec przedziału: '))\n",
        "i = [i for i in range(1,10) if i%1==0]\n",
        "print(i)\n",
        "def calka(funkcja, a , b, i):\n",
        "  dx = [(b-a)/i for i in i]\n",
        "  DX = np.array(dx)\n",
        "  liczba = 0\n",
        "  print(\"DX=\", DX)\n",
        "# print(\"dx = \", dx)\n",
        "  x =[x*DX[0:]+a for x in i]\n",
        "  print(x)\n",
        " # X=np.array(x1)\n",
        "  # print(\"X=\", X)\n",
        "# print(\"x: \", x)\n",
        "  y = [eval(funkcja) for x in x]\n",
        "  print(\"y = \", y)\n",
        "  liczba += np.multiply(DX[0:],y)\n",
        "# print(\"liczba = \", liczba)\n",
        "  return liczba\n",
        "  \n",
        "\n",
        "print(f\"Całka = {calka(funkcja, a, b, i)}\")\n",
        "plt.plot(i, calka(funkcja, a, b, i), color = 'r')\n",
        "plt.show()\n"
      ]
    },
    {
      "cell_type": "code",
      "source": [
        ""
      ],
      "metadata": {
        "id": "V6udRi6ZhgwK"
      },
      "execution_count": null,
      "outputs": []
    }
  ]
}
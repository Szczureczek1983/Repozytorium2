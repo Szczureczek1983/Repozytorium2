{
  "nbformat": 4,
  "nbformat_minor": 0,
  "metadata": {
    "colab": {
      "name": "Kopia notatnika kalkulator_calek.ipynb",
      "provenance": [],
      "collapsed_sections": [],
      "authorship_tag": "ABX9TyNPGCxStodxuEgSTW2ZVOCx",
      "include_colab_link": true
    },
    "kernelspec": {
      "name": "python3",
      "display_name": "Python 3"
    },
    "language_info": {
      "name": "python"
    }
  },
  "cells": [
    {
      "cell_type": "markdown",
      "metadata": {
        "id": "view-in-github",
        "colab_type": "text"
      },
      "source": [
        "<a href=\"https://colab.research.google.com/github/Szczureczek1983/Repozytorium2/blob/main/kalkulator_calek.ipynb\" target=\"_parent\"><img src=\"https://colab.research.google.com/assets/colab-badge.svg\" alt=\"Open In Colab\"/></a>"
      ]
    },
    {
      "cell_type": "code",
      "execution_count": 42,
      "metadata": {
        "colab": {
          "base_uri": "https://localhost:8080/",
          "height": 658
        },
        "id": "FnZYzgzkKGtz",
        "outputId": "2ab626fc-3922-4364-f2d7-8ef199720279"
      },
      "outputs": [
        {
          "output_type": "stream",
          "name": "stdout",
          "text": [
            "Podaj funkcję: x+4\n",
            "Określ poczętek przedziału: 1\n",
            "Określ koniec przedziału: 10\n",
            "[100, 200, 300, 400]\n",
            "DX= [0.09   0.045  0.03   0.0225]\n",
            "[array([10.  ,  5.5 ,  4.  ,  3.25]), array([19. , 10. ,  7. ,  5.5]), array([28.  , 14.5 , 10.  ,  7.75]), array([37., 19., 13., 10.])]\n",
            "X= [[10.    5.5   4.    3.25]\n",
            " [19.   10.    7.    5.5 ]\n",
            " [28.   14.5  10.    7.75]\n",
            " [37.   19.   13.   10.  ]]\n",
            "y =  [array([14.  ,  9.5 ,  8.  ,  7.25]), array([23. , 14. , 11. ,  9.5]), array([32.  , 18.5 , 14.  , 11.75]), array([41., 23., 17., 14.])]\n",
            "Całka = [[1.26     0.4275   0.24     0.163125]\n",
            " [2.07     0.63     0.33     0.21375 ]\n",
            " [2.88     0.8325   0.42     0.264375]\n",
            " [3.69     1.035    0.51     0.315   ]]\n",
            "DX= [0.09   0.045  0.03   0.0225]\n",
            "[array([10.  ,  5.5 ,  4.  ,  3.25]), array([19. , 10. ,  7. ,  5.5]), array([28.  , 14.5 , 10.  ,  7.75]), array([37., 19., 13., 10.])]\n",
            "X= [[10.    5.5   4.    3.25]\n",
            " [19.   10.    7.    5.5 ]\n",
            " [28.   14.5  10.    7.75]\n",
            " [37.   19.   13.   10.  ]]\n",
            "y =  [array([14.  ,  9.5 ,  8.  ,  7.25]), array([23. , 14. , 11. ,  9.5]), array([32.  , 18.5 , 14.  , 11.75]), array([41., 23., 17., 14.])]\n"
          ]
        },
        {
          "output_type": "display_data",
          "data": {
            "text/plain": [
              "<Figure size 432x288 with 1 Axes>"
            ],
            "image/png": "[encoded data removed]"
          },
          "metadata": {
            "needs_background": "light"
          }
        }
      ],
      "source": [
        "from IPython.core.pylabtools import figsize\n",
        "import numpy as np\n",
        "import pandas as pd\n",
        "import matplotlib.pyplot as plt\n",
        "import matplotlib as mpl\n",
        "%matplotlib inline\n",
        "#mpl.rcParams('figure.dpi') = 500\n",
        "funkcja = input(\"Podaj funkcję: \")\n",
        "a = float(input('Określ poczętek przedziału: '))\n",
        "b = float(input('Określ koniec przedziału: '))\n",
        "i = [i for i in range(1,500) if i%100==0]\n",
        "print(i)\n",
        "def calka(funkcja, a , b, i):\n",
        "  liczba = 0\n",
        "\n",
        "  dx = [(b-a)/i for i in i]\n",
        "  DX = np.array(dx)\n",
        "  print(\"DX=\", DX)\n",
        "# print(\"dx = \", dx)\n",
        "  x =[x*DX[0:]+a for x in i]\n",
        "  print(x)\n",
        "\n",
        "  X=np.array(x)\n",
        "  print(\"X=\", X)\n",
        "# print(\"x: \", x)\n",
        "  y = [eval(funkcja) for x in x]\n",
        "  print(\"y = \", y)\n",
        "  liczba += np.multiply(dx,y)\n",
        "# print(\"liczba = \", liczba)\n",
        "  return liczba\n",
        "  \n",
        "\n",
        "print(f\"Całka = {calka(funkcja, a, b, i)}\")\n",
        "plt.plot(i, calka(funkcja, a, b, i), color = 'r')\n",
        "plt.show()\n"
      ]
    },
    {
      "cell_type": "code",
      "source": [
        ""
      ],
      "metadata": {
        "id": "V6udRi6ZhgwK"
      },
      "execution_count": null,
      "outputs": []
    }
  ]
}
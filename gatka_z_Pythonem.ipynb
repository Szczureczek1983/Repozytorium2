{
  "nbformat": 4,
  "nbformat_minor": 0,
  "metadata": {
    "colab": {
      "name": "Untitled36.ipynb",
      "provenance": [],
      "authorship_tag": "ABX9TyM5lp7v+D1f5WHiwY087S7U",
      "include_colab_link": true
    },
    "kernelspec": {
      "name": "python3",
      "display_name": "Python 3"
    },
    "language_info": {
      "name": "python"
    }
  },
  "cells": [
    {
      "cell_type": "markdown",
      "metadata": {
        "id": "view-in-github",
        "colab_type": "text"
      },
      "source": [
        "<a href=\"https://colab.research.google.com/github/Szczureczek1983/Repozytorium2/blob/main/gatka_z_Pythonem.ipynb\" target=\"_parent\"><img src=\"https://colab.research.google.com/assets/colab-badge.svg\" alt=\"Open In Colab\"/></a>"
      ]
    },
    {
      "cell_type": "code",
      "execution_count": 10,
      "metadata": {
        "colab": {
          "base_uri": "https://localhost:8080/"
        },
        "id": "bgEirbKXWI-y",
        "outputId": "2895f5ab-2b09-481d-a052-61d3df462cef"
      },
      "outputs": [
        {
          "output_type": "stream",
          "name": "stdout",
          "text": [
            "Cześć!\n",
            "\n",
            " Cześć\n",
            "\n",
            "Jestem Python, a Ty?\n",
            "\n",
            " Andrzej \n",
            "\n",
            "Ile masz lat?\n",
            "\n",
            " 33\n",
            "\n",
            "Który mamy teraz rok? 2022\n",
            "\n",
            "\n",
            "Ja mam 33 lat\n",
            "\n",
            "Jestesmy w tym samym wieku!!!\n"
          ]
        }
      ],
      "source": [
        "print(\"Cześć!\")\n",
        "print()\n",
        "fst = input(' ')\n",
        "print()\n",
        "print('Jestem Python, a Ty?')\n",
        "print()\n",
        "imie = input(\" \")\n",
        "print()\n",
        "print(\"Ile masz lat?\")\n",
        "print()\n",
        "wiek=int(input(' '))\n",
        "print()\n",
        "akt_rok = int(input(\"Który mamy teraz rok? \"))\n",
        "print()\n",
        "rok_pyt = 1989\n",
        "wiek_pyt = akt_rok - rok_pyt\n",
        "print()\n",
        "print(f\"Ja mam {wiek_pyt} lat\")\n",
        "print()\n",
        "if wiek > wiek_pyt:\n",
        "  print(\"Och! jesteś starszy ode mnie!\")\n",
        "elif wiek == wiek_pyt:\n",
        "  print(\"Jestesmy w tym samym wieku!!!\")\n",
        "else:\n",
        "  print('Jesteś młodszy ode mnie.')"
      ]
    },
    {
      "cell_type": "code",
      "source": [
        ""
      ],
      "metadata": {
        "id": "QGVkp3VpXv_k"
      },
      "execution_count": null,
      "outputs": []
    }
  ]
}
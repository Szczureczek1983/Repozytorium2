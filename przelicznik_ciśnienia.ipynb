{
  "nbformat": 4,
  "nbformat_minor": 0,
  "metadata": {
    "colab": {
      "name": "Untitled35.ipynb",
      "provenance": [],
      "authorship_tag": "ABX9TyPceuOSnzzixZKp7Ij2Xx7A",
      "include_colab_link": true
    },
    "kernelspec": {
      "name": "python3",
      "display_name": "Python 3"
    },
    "language_info": {
      "name": "python"
    }
  },
  "cells": [
    {
      "cell_type": "markdown",
      "metadata": {
        "id": "view-in-github",
        "colab_type": "text"
      },
      "source": [
        "<a href=\"https://colab.research.google.com/github/Szczureczek1983/Repozytorium2/blob/main/przelicznik_ci%C5%9Bnienia.ipynb\" target=\"_parent\"><img src=\"https://colab.research.google.com/assets/colab-badge.svg\" alt=\"Open In Colab\"/></a>"
      ]
    },
    {
      "cell_type": "code",
      "execution_count": 1,
      "metadata": {
        "colab": {
          "base_uri": "https://localhost:8080/"
        },
        "id": "18xrrSCodpqc",
        "outputId": "5423fd0d-4867-4e73-8fe6-05895933d7c0"
      },
      "outputs": [
        {
          "output_type": "stream",
          "name": "stdout",
          "text": [
            "Podaj warość ciśnienia (np. 100 kPa, 10PSI, etc): 12atm\n",
            "Przeliczona objętość wynosi 170.6801196852 PSI.\n",
            " Przeliczona objętość wynosi 1176.798 kPa.\n",
            " Przeliczona objętość wynosi 11.76798 atm.\n"
          ]
        }
      ],
      "source": [
        "pres = input(\"Podaj warość ciśnienia (np. 100 kPa, 10PSI, etc): \")\n",
        "deg = int(pres[:-3])\n",
        "i_jed = pres[-3:]\n",
        "if i_jed.upper() == \"PSI\":\n",
        "  bar = deg*0.0689475729\n",
        "  o_jed_1 = \"bar\"\n",
        "  kpa = deg*6.894\n",
        "  o_jed_2 = \"kPa\"\n",
        "  atm = deg*0.068\n",
        "  o_jed_3 = 'atm'\n",
        "  print(f\"Przeliczona objętość wynosi {bar} {o_jed_1}.\")\n",
        "  print(f\" Przeliczona objętość wynosi {kpa} {o_jed_2}.\")\n",
        "  print(f\" Przeliczona objętość wynosi {atm} {o_jed_3}.\")\n",
        "elif i_jed.upper() == \"KPA\":\n",
        "  PSI = deg*0.1450377377\n",
        "  o_jed_1 = \"PSI\"\n",
        "  bar = deg*0.01\n",
        "  o_jed_2 = \"bar\"\n",
        "  atm = deg*0.0101971621\n",
        "  o_jed_3 = 'atm'\n",
        "  print(f\"Przeliczona objętość wynosi {PSI} {o_jed_1}.\")\n",
        "  print(f\" Przeliczona objętość wynosi {bar} {o_jed_2}.\")\n",
        "  print(f\" Przeliczona objętość wynosi {atm} {o_jed_3}.\")\n",
        "elif i_jed.lower() == \"bar\":\n",
        "  PSI = deg*14.503773773\n",
        "  o_jed_1 = \"PSI\"\n",
        "  kPa = deg*100\n",
        "  o_jed_2 = \"kPa\"\n",
        "  atm = deg*1.019716213\n",
        "  o_jed_3 = 'atm'\n",
        "  print(f\"Przeliczona objętość wynosi {PSI} {o_jed_1}.\")\n",
        "  print(f\" Przeliczona objętość wynosi {kPa} {o_jed_2}.\")\n",
        "  print(f\" Przeliczona objętość wynosi {atm} {o_jed_3}.\")\n",
        "elif i_jed.lower() == \"atm\":\n",
        "  PSI = deg*14.2233433071\n",
        "  o_jed_1 = \"PSI\"\n",
        "  kPa = deg*98.0665\n",
        "  o_jed_2 = \"kPa\"\n",
        "  bar = deg*0.980665\n",
        "  o_jed_3 = 'atm'\n",
        "  print(f\"Przeliczona objętość wynosi {PSI} {o_jed_1}.\")\n",
        "  print(f\" Przeliczona objętość wynosi {kPa} {o_jed_2}.\")\n",
        "  print(f\" Przeliczona objętość wynosi {bar} {o_jed_3}.\")\n",
        "else:\n",
        "  print(\"Podaj właściwe ciśnienie!\")\n",
        "quit()\n",
        "\n"
      ]
    }
  ]
}
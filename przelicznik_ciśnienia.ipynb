{
  "nbformat": 4,
  "nbformat_minor": 0,
  "metadata": {
    "colab": {
      "name": "Untitled35.ipynb",
      "provenance": [],
      "authorship_tag": "ABX9TyNXrBuPFvzJJLTsV7BIm5YM",
      "include_colab_link": true
    },
    "kernelspec": {
      "name": "python3",
      "display_name": "Python 3"
    },
    "language_info": {
      "name": "python"
    }
  },
  "cells": [
    {
      "cell_type": "markdown",
      "metadata": {
        "id": "view-in-github",
        "colab_type": "text"
      },
      "source": [
        "<a href=\"https://colab.research.google.com/github/Szczureczek1983/Repozytorium2/blob/main/przelicznik_ci%C5%9Bnienia.ipynb\" target=\"_parent\"><img src=\"https://colab.research.google.com/assets/colab-badge.svg\" alt=\"Open In Colab\"/></a>"
      ]
    },
    {
      "cell_type": "code",
      "execution_count": 1,
      "metadata": {
        "colab": {
          "base_uri": "https://localhost:8080/"
        },
        "id": "18xrrSCodpqc",
        "outputId": "a0660d73-0798-4fa5-c718-8d1145403146"
      },
      "outputs": [
        {
          "output_type": "stream",
          "name": "stdout",
          "text": [
            "Podaj warość ciśnienia (np. 100 kPa, 10PSI, etc): 123kpa\n",
            "Przeliczona objętość wynosi 2.3369999999999997 PSI.\n",
            " Przeliczona objętość wynosi 847.962 kPa.\n",
            " Przeliczona objętość wynosi 8.364 atm.\n"
          ]
        }
      ],
      "source": [
        "pres = input(\"Podaj warość ciśnienia (np. 100 kPa, 10PSI, etc): \")\n",
        "deg = int(pres[:-3])\n",
        "i_jed = pres[-3:]\n",
        "if i_jed.upper() == \"PSI\":\n",
        "  mHg = deg*0.019\n",
        "  o_jed_1 = \"mHg\"\n",
        "  kpa = deg*6.894\n",
        "  o_jed_2 = \"kPa\"\n",
        "  atm = deg*0.068\n",
        "  o_jed_3 = 'atm'\n",
        "  print(f\"Przeliczona objętość wynosi {mHg} {o_jed_1}.\")\n",
        "  print(f\" Przeliczona objętość wynosi {kpa} {o_jed_2}.\")\n",
        "  print(f\" Przeliczona objętość wynosi {atm} {o_jed_3}.\")\n",
        "elif i_jed.upper() == \"KPA\":\n",
        "  PSI = deg*0.019\n",
        "  o_jed_1 = \"PSI\"\n",
        "  bar = deg*6.894\n",
        "  o_jed_2 = \"kPa\"\n",
        "  atm = deg*0.068\n",
        "  o_jed_3 = 'atm'\n",
        "  print(f\"Przeliczona objętość wynosi {PSI} {o_jed_1}.\")\n",
        "  print(f\" Przeliczona objętość wynosi {bar} {o_jed_2}.\")\n",
        "  print(f\" Przeliczona objętość wynosi {atm} {o_jed_3}.\")\n",
        "  # result = int(round((deg-32)*5/9))\n",
        "  # o_conv = \"Celcius\"\n",
        "# elif i_conv.upper() == \"K\":\n",
        "  # result = (int(round((deg-273.15))\n",
        "  # o_conv = \"Farenheit andCelcius\"\n",
        "else:\n",
        "  print(\"Podaj właściwe ciśnienie!\")\n",
        "  quit()\n",
        "\n"
      ]
    }
  ]
}
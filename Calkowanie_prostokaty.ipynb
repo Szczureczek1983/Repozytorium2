{
  "nbformat": 4,
  "nbformat_minor": 0,
  "metadata": {
    "colab": {
      "name": "Untitled41.ipynb",
      "provenance": [],
      "authorship_tag": "ABX9TyNCxG5JnU5fArLCxMci3n+D",
      "include_colab_link": true
    },
    "kernelspec": {
      "name": "python3",
      "display_name": "Python 3"
    },
    "language_info": {
      "name": "python"
    }
  },
  "cells": [
    {
      "cell_type": "markdown",
      "metadata": {
        "id": "view-in-github",
        "colab_type": "text"
      },
      "source": [
        "<a href=\"https://colab.research.google.com/github/Szczureczek1983/Repozytorium2/blob/main/Ca%C5%82kowanie_prostok%C4%85ty.ipynb\" target=\"_parent\"><img src=\"https://colab.research.google.com/assets/colab-badge.svg\" alt=\"Open In Colab\"/></a>"
      ]
    },
    {
      "cell_type": "code",
      "execution_count": 11,
      "metadata": {
        "colab": {
          "base_uri": "https://localhost:8080/"
        },
        "id": "lB3kLucDubRd",
        "outputId": "e77d8900-3d1a-442a-8ed8-02622948c431"
      },
      "outputs": [
        {
          "output_type": "stream",
          "name": "stdout",
          "text": [
            "Podaj funkcję: x+4\n",
            "Określ poczętek przedziału: 1\n",
            "Określ koniec przedziału: 10\n",
            "Określ liczbę podprzedziałow: 500\n",
            "Całka = 85.41900000000003\n"
          ]
        }
      ],
      "source": [
        "\n",
        "funkcja = input(\"Podaj funkcję: \")\n",
        "a = float(input('Określ poczętek przedziału: '))\n",
        "b = float(input('Określ koniec przedziału: '))\n",
        "i = int(input('Określ liczbę podprzedziałow: '))\n",
        "def integrate(funkcja, a , b, i):\n",
        "  dx = (b-a)/i\n",
        "  liczba = 0\n",
        "  for x in range(i):\n",
        "    x = x*dx+a\n",
        "    liczba += dx*eval(funkcja)\n",
        "  return liczba  \n",
        "print(f\"Całka = {integrate(funkcja, a, b, i)}\")\n",
        " \n",
        "\n"
      ]
    }
  ]
}

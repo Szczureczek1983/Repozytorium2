{
  "nbformat": 4,
  "nbformat_minor": 0,
  "metadata": {
    "colab": {
      "name": "Basic_Neural_Network_Example_365.ipynb",
      "provenance": [],
      "authorship_tag": "ABX9TyPt98eaRJPRq+KDH/+ggqCY",
      "include_colab_link": true
    },
    "kernelspec": {
      "name": "python3",
      "display_name": "Python 3"
    },
    "language_info": {
      "name": "python"
    }
  },
  "cells": [
    {
      "cell_type": "markdown",
      "metadata": {
        "id": "view-in-github",
        "colab_type": "text"
      },
      "source": [
        "<a href=\"https://colab.research.google.com/github/Szczureczek1983/Repozytorium2/blob/main/Basic_Neural_Network_Example_365.ipynb\" target=\"_parent\"><img src=\"https://colab.research.google.com/assets/colab-badge.svg\" alt=\"Open In Colab\"/></a>"
      ]
    },
    {
      "cell_type": "markdown",
      "source": [
        "Basic Neural Network Example"
      ],
      "metadata": {
        "id": "vWcJmLpskJtt"
      }
    },
    {
      "cell_type": "code",
      "execution_count": 43,
      "metadata": {
        "id": "14PmUf-lkGpw"
      },
      "outputs": [],
      "source": [
        "#Simple Linear Regression. Minimal Example\n",
        "import numpy as np\n",
        "import pandas as pd\n",
        "import matplotlib.pyplot as plt\n",
        "from mpl_toolkits.mplot3d import Axes3D # to create 3D graphs\n"
      ]
    },
    {
      "cell_type": "code",
      "source": [
        "# Generate random input data to train on\n",
        "# np.random.uniform(low,high,size) - draws random value from the interval (low, high)\n",
        "# where each number has an equal chance to be selected \n",
        "\n",
        "Obs = 10000\n",
        "Xs = np.random.uniform(low = -10, high = 10, size = (Obs, 1))\n",
        "Zs = np.random.uniform(-10,10, (Obs, 1))\n",
        "inputs = np.column_stack((Xs, Zs))\n",
        "print(inputs.shape) \n",
        "# np.column_stack(appropriate tuples) takes a sequence of 1D arrays\n",
        "# and stacks them into a single 2D array\n"
      ],
      "metadata": {
        "colab": {
          "base_uri": "https://localhost:8080/"
        },
        "id": "FYz69hISkdNv",
        "outputId": "b598a834-61a6-4e22-ce90-02cf236ba338"
      },
      "execution_count": 44,
      "outputs": [
        {
          "output_type": "stream",
          "name": "stdout",
          "text": [
            "(10000, 2)\n"
          ]
        }
      ]
    },
    {
      "cell_type": "code",
      "source": [
        "# Create the targets we will aim at\n",
        "# function: f(x,z) = 2*X + 3*Z + 5 + noise\n",
        "noise = np.random.uniform(-1,1,(Obs, 1))"
      ],
      "metadata": {
        "id": "QKqztwRinlgD"
      },
      "execution_count": 45,
      "outputs": []
    },
    {
      "cell_type": "code",
      "source": [
        "targets = 2*Xs - 3*Zs + 5 + noise\n",
        "targets.shape"
      ],
      "metadata": {
        "colab": {
          "base_uri": "https://localhost:8080/"
        },
        "id": "PYMsdNolnlcp",
        "outputId": "03d535f0-07a4-4ac6-eb87-922080945229"
      },
      "execution_count": 46,
      "outputs": [
        {
          "output_type": "execute_result",
          "data": {
            "text/plain": [
              "(10000, 1)"
            ]
          },
          "metadata": {},
          "execution_count": 46
        }
      ]
    },
    {
      "cell_type": "code",
      "source": [
        "from matplotlib import projections\n",
        "#plot the training data\n",
        "targets = targets.reshape(Obs,)\n",
        "fig = plt.figure()\n",
        "ax = fig.add_subplot(111, projection = '3d')\n",
        "ax.plot(Xs,Zs,targets)\n",
        "ax.set_xlabel('Xs')\n",
        "ax.set_ylabel('Zs')\n",
        "ax.set_zlabel('Targets')\n",
        "ax.view_init(azim = 100)\n",
        "plt.show()\n",
        "targets = targets.reshape(Obs, 1)"
      ],
      "metadata": {
        "colab": {
          "base_uri": "https://localhost:8080/",
          "height": 248
        },
        "id": "NXtenCmNnlZp",
        "outputId": "e32ae3f0-04a6-4cdc-86ca-4ece821425ef"
      },
      "execution_count": 47,
      "outputs": [
        {
          "output_type": "display_data",
          "data": {
            "text/plain": [
              "<Figure size 432x288 with 1 Axes>"
            ],
            "image/png": "[encoded data removed]"
          },
          "metadata": {
            "needs_background": "light"
          }
        }
      ]
    },
    {
      "cell_type": "code",
      "source": [
        "# Initialize variables\n",
        "init_range = 0.1\n",
        "weights = np.random.uniform(-init_range, init_range, size = (2,1))\n",
        "biases = np.random.uniform(-init_range, init_range, size = 1)\n",
        "\n",
        "print(weights)\n",
        "print(biases)\n"
      ],
      "metadata": {
        "colab": {
          "base_uri": "https://localhost:8080/"
        },
        "id": "F9M3xMhXnlQy",
        "outputId": "e088d697-739c-4fe9-a37b-f294c39f39fa"
      },
      "execution_count": 48,
      "outputs": [
        {
          "output_type": "stream",
          "name": "stdout",
          "text": [
            "[[0.00838487]\n",
            " [0.01343356]]\n",
            "[0.03452168]\n"
          ]
        }
      ]
    },
    {
      "cell_type": "code",
      "source": [
        "# set a learning rate\n",
        "lr = 0.02"
      ],
      "metadata": {
        "id": "lH1aGFyutbeT"
      },
      "execution_count": 49,
      "outputs": []
    },
    {
      "cell_type": "markdown",
      "source": [
        "Game plan for each iteration:\n",
        "- Calculate outputs\n",
        "- Compare outputs to target through the loss\n",
        "- Print the loss\n",
        "- Adjust weights and biases"
      ],
      "metadata": {
        "id": "-Rodzgy8uDdH"
      }
    },
    {
      "cell_type": "code",
      "source": [
        "#Train the model\n",
        "for i in range(100):\n",
        "  outputs = np.dot(inputs, weights) + biases\n",
        "  deltas = outputs - targets\n",
        "  loss = np.sum(deltas**2)/2/Obs\n",
        "  print(loss)\n",
        "  deltas_scaled = deltas/Obs\n",
        "  weights = weights - lr*np.dot(inputs.T, deltas_scaled)\n",
        "  biases = biases - lr*np.sum(deltas_scaled)"
      ],
      "metadata": {
        "colab": {
          "base_uri": "https://localhost:8080/"
        },
        "id": "5RE2XPkztyRX",
        "outputId": "211397d1-c6c2-4f17-b838-aef57f34514e"
      },
      "execution_count": 53,
      "outputs": [
        {
          "output_type": "stream",
          "name": "stdout",
          "text": [
            "0.3810470158363269\n",
            "0.3724508111157513\n",
            "0.3641949954619082\n",
            "0.3562660902850575\n",
            "0.34865115071525\n",
            "0.341337744468304\n",
            "0.334313931548641\n",
            "0.32756824475583723\n",
            "0.32108967096307467\n",
            "0.31486763313691113\n",
            "0.30889197306903343\n",
            "0.30315293479178756\n",
            "0.297641148650413\n",
            "0.2923476160059799\n",
            "0.28726369454405415\n",
            "0.2823810841651028\n",
            "0.2776918134336048\n",
            "0.2731882265637448\n",
            "0.2688629709204457\n",
            "0.26470898501532236\n",
            "0.26071948697797687\n",
            "0.25688796348379356\n",
            "0.2532081591201734\n",
            "0.24967406617383703\n",
            "0.24627991482252445\n",
            "0.24302016371508395\n",
            "0.23988949092456513\n",
            "0.23688278525954548\n",
            "0.23399513791951032\n",
            "0.2312218344806593\n",
            "0.22855834719905468\n",
            "0.2260003276185469\n",
            "0.22354359947141011\n",
            "0.2211841518600911\n",
            "0.2189181327089508\n",
            "0.21674184247529524\n",
            "0.2146517281094387\n",
            "0.2126443772539316\n",
            "0.21071651267248617\n",
            "0.20886498689950325\n",
            "0.2070867771014627\n",
            "0.20537898014179537\n",
            "0.20373880784116852\n",
            "0.20216358242545646\n",
            "0.2006507321539593\n",
            "0.19919778712073422\n",
            "0.19780237522218302\n",
            "0.19646221828431462\n",
            "0.1951751283433578\n",
            "0.19393900407365255\n",
            "0.19275182735699073\n",
            "0.19161165998779864\n",
            "0.19051664050878997\n",
            "0.18946498117191723\n",
            "0.18845496501966313\n",
            "0.18748494308190566\n",
            "0.1865533316837802\n",
            "0.1856586098601439\n",
            "0.18479931687242224\n",
            "0.1839740498237805\n",
            "0.18318146136873037\n",
            "0.18242025751342927\n",
            "0.1816891955030843\n",
            "0.18098708179300838\n",
            "0.18031277010001823\n",
            "0.1796651595309918\n",
            "0.17904319278553235\n",
            "0.17844585442979896\n",
            "0.17787216923869387\n",
            "0.17732120060369055\n",
            "0.17679204900371182\n",
            "0.17628385053655524\n",
            "0.1757957755084714\n",
            "0.17532702707959097\n",
            "0.17487683996299033\n",
            "0.17444447917527023\n",
            "0.17402923883660984\n",
            "0.1736304410183337\n",
            "0.17324743463611453\n",
            "0.17287959438700123\n",
            "0.17252631972853769\n",
            "0.17218703389830747\n",
            "0.171861182972301\n",
            "0.17154823496056928\n",
            "0.17124767893868775\n",
            "0.1709590242136129\n",
            "0.17068179952256693\n",
            "0.1704155522636469\n",
            "0.1701598477568983\n",
            "0.1699142685346492\n",
            "0.16967841365994502\n",
            "0.16945189807197195\n",
            "0.1692343519573999\n",
            "0.16902542014661853\n",
            "0.16882476153388148\n",
            "0.1686320485204108\n",
            "0.16844696647955376\n",
            "0.16826921324311706\n",
            "0.16809849860804302\n",
            "0.16793454386261794\n"
          ]
        }
      ]
    },
    {
      "cell_type": "markdown",
      "source": [
        "np.dot(A,B) - a method used for multiplying matrices. Alternatively we can use the A.dot(B) to perform the same operation.\n",
        "inputs.T - a method used for transposing matrices"
      ],
      "metadata": {
        "id": "z-cUw_SiuC1X"
      }
    },
    {
      "cell_type": "code",
      "source": [
        "print(weights, biases)"
      ],
      "metadata": {
        "colab": {
          "base_uri": "https://localhost:8080/"
        },
        "id": "_R-j-IXVtyN3",
        "outputId": "e7f9021a-3fd4-4f0f-b55a-42f137f9a61b"
      },
      "execution_count": 54,
      "outputs": [
        {
          "output_type": "stream",
          "name": "stdout",
          "text": [
            "[[ 1.99971787]\n",
            " [-3.00109021]] [4.91439503]\n"
          ]
        }
      ]
    },
    {
      "cell_type": "markdown",
      "source": [
        "zwiększając ilość iteracji zbliżamy się coraz bardziej do wartości z równania\n"
      ],
      "metadata": {
        "id": "DntwBX2RxkHj"
      }
    },
    {
      "cell_type": "code",
      "source": [
        "# plot last outputs vs targets\n",
        "plt.plot(outputs, targets)\n",
        "plt.xlabel('Outputs')\n",
        "plt.ylabel('Targets')\n",
        "plt.show()"
      ],
      "metadata": {
        "colab": {
          "base_uri": "https://localhost:8080/",
          "height": 279
        },
        "id": "LIMWjkLgtyLM",
        "outputId": "fed986b5-635c-4a3c-8b34-0ac32a8b193c"
      },
      "execution_count": 52,
      "outputs": [
        {
          "output_type": "display_data",
          "data": {
            "text/plain": [
              "<Figure size 432x288 with 1 Axes>"
            ],
            "image/png": "[encoded data removed]"
          },
          "metadata": {
            "needs_background": "light"
          }
        }
      ]
    },
    {
      "cell_type": "code",
      "source": [
        ""
      ],
      "metadata": {
        "id": "CUqlMUNRtyIZ"
      },
      "execution_count": 52,
      "outputs": []
    },
    {
      "cell_type": "code",
      "source": [
        ""
      ],
      "metadata": {
        "id": "STR9DIQityFt"
      },
      "execution_count": 52,
      "outputs": []
    },
    {
      "cell_type": "code",
      "source": [
        ""
      ],
      "metadata": {
        "id": "P2GS5kUttyCz"
      },
      "execution_count": 52,
      "outputs": []
    },
    {
      "cell_type": "code",
      "source": [
        ""
      ],
      "metadata": {
        "id": "5q9vM8YPtx_8"
      },
      "execution_count": 52,
      "outputs": []
    },
    {
      "cell_type": "code",
      "source": [
        ""
      ],
      "metadata": {
        "id": "8x1JcACCtx9e"
      },
      "execution_count": 52,
      "outputs": []
    }
  ]
}
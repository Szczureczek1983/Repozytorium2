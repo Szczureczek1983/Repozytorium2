{
  "cells": [
    {
      "cell_type": "markdown",
      "metadata": {
        "id": "view-in-github",
        "colab_type": "text"
      },
      "source": [
        "<a href=\"https://colab.research.google.com/github/Szczureczek1983/Repozytorium2/blob/main/Kopia_notatnika_Keras_rnn_syntax_plain.ipynb\" target=\"_parent\"><img src=\"https://colab.research.google.com/assets/colab-badge.svg\" alt=\"Open In Colab\"/></a>"
      ]
    },
    {
      "cell_type": "code",
      "execution_count": 1,
      "metadata": {
        "id": "RlIvQt0dse4l"
      },
      "outputs": [],
      "source": [
        "import numpy as np\n",
        "import tensorflow as tf\n",
        "from tensorflow import keras\n",
        "from tensorflow.keras import layers\n",
        "import matplotlib.pyplot as plt"
      ]
    },
    {
      "cell_type": "markdown",
      "metadata": {
        "id": "GfVnhMsFtsag"
      },
      "source": [
        "# Generowanie danych\n",
        "\n",
        "Na początek wygenerujmy przykładowe dane. Niech będzie to pomiar pewnej wartości. Dane powinny mieć format 1xTx1 gdzie T to ilośc próbek"
      ]
    },
    {
      "cell_type": "code",
      "execution_count": 2,
      "metadata": {
        "id": "ox4ljZWbtpX8",
        "colab": {
          "base_uri": "https://localhost:8080/",
          "height": 301
        },
        "outputId": "a780519a-6a60-43f5-a8fa-a759f42ff153"
      },
      "outputs": [
        {
          "output_type": "stream",
          "name": "stdout",
          "text": [
            "(1, 300, 1)\n"
          ]
        },
        {
          "output_type": "execute_result",
          "data": {
            "text/plain": [
              "[<matplotlib.lines.Line2D at 0x7f4c01f4ad90>]"
            ]
          },
          "metadata": {},
          "execution_count": 2
        },
        {
          "output_type": "display_data",
          "data": {
            "text/plain": [
              "<Figure size 432x288 with 1 Axes>"
            ],
            "image/png": "[encoded data removed]"
          },
          "metadata": {
            "needs_background": "light"
          }
        }
      ],
      "source": [
        "T = 300\n",
        "time = np.linspace(0,10,T)\n",
        "X = 0.2 * time + np.random.randn(T)*0.1  + 0.5 * np.sin(time*1.5)\n",
        "X = np.expand_dims(X, 0)\n",
        "X = np.expand_dims(X, -1)\n",
        "print(X.shape)\n",
        "plt.plot(X[0, :, 0])"
      ]
    },
    {
      "cell_type": "markdown",
      "metadata": {
        "id": "TV8YJ0Eiu4lO"
      },
      "source": [
        "## Tworzenie prostej sieci RNN (N:1)"
      ]
    },
    {
      "cell_type": "code",
      "execution_count": 3,
      "metadata": {
        "id": "sWxKLpo0ubBE",
        "colab": {
          "base_uri": "https://localhost:8080/"
        },
        "outputId": "e1ca6a77-3c40-4e3e-db59-adaaddc6fd3f"
      },
      "outputs": [
        {
          "output_type": "stream",
          "name": "stdout",
          "text": [
            "(1, 64)\n"
          ]
        }
      ],
      "source": [
        "rnn = layers.SimpleRNN(units=64)\n",
        "output = rnn(X)\n",
        "print(output.shape)"
      ]
    },
    {
      "cell_type": "markdown",
      "metadata": {
        "id": "DYj1DiOC6VPF"
      },
      "source": [
        "## Zadanie: sprawdź wartośc min i max zwróconych wyników. Czy pasują do nieliniowości tanh?"
      ]
    },
    {
      "cell_type": "code",
      "execution_count": 4,
      "metadata": {
        "id": "5ojYIyX4uv9X",
        "colab": {
          "base_uri": "https://localhost:8080/"
        },
        "outputId": "12528060-b1f9-4bd7-fb78-91667074d3ce"
      },
      "outputs": [
        {
          "output_type": "execute_result",
          "data": {
            "text/plain": [
              "-0.8641523"
            ]
          },
          "metadata": {},
          "execution_count": 4
        }
      ],
      "source": [
        "np.min(output)"
      ]
    },
    {
      "cell_type": "code",
      "source": [
        "np.max(output)"
      ],
      "metadata": {
        "colab": {
          "base_uri": "https://localhost:8080/"
        },
        "id": "lwtaRw6dET06",
        "outputId": "1d399b07-7d3f-4a13-aef7-f9c5bf5e4a88"
      },
      "execution_count": 5,
      "outputs": [
        {
          "output_type": "execute_result",
          "data": {
            "text/plain": [
              "0.89851713"
            ]
          },
          "metadata": {},
          "execution_count": 5
        }
      ]
    },
    {
      "cell_type": "markdown",
      "metadata": {
        "id": "EOUQO92j-Sbd"
      },
      "source": [
        "## Klasyfikacja całej sekwencji do jednej z 10 klas"
      ]
    },
    {
      "cell_type": "code",
      "execution_count": 6,
      "metadata": {
        "id": "QbqQtpB7-bab",
        "colab": {
          "base_uri": "https://localhost:8080/"
        },
        "outputId": "4a1f833e-f60f-4e4f-e6e5-f83ba3b4ab5b"
      },
      "outputs": [
        {
          "output_type": "stream",
          "name": "stdout",
          "text": [
            "Model: \"sequential\"\n",
            "_________________________________________________________________\n",
            " Layer (type)                Output Shape              Param #   \n",
            "=================================================================\n",
            " simple_rnn_1 (SimpleRNN)    (None, 64)                4224      \n",
            "                                                                 \n",
            " dense (Dense)               (None, 10)                650       \n",
            "                                                                 \n",
            "=================================================================\n",
            "Total params: 4,874\n",
            "Trainable params: 4,874\n",
            "Non-trainable params: 0\n",
            "_________________________________________________________________\n",
            "(1, 10)\n",
            "tf.Tensor(\n",
            "[[0.06486892 0.02660451 0.03285592 0.01533211 0.13346297 0.02735698\n",
            "  0.03390076 0.1829968  0.36438537 0.11823568]], shape=(1, 10), dtype=float32)\n"
          ]
        }
      ],
      "source": [
        "model = keras.Sequential()\n",
        "#proszę dodać warstwy:\n",
        "# - warstwa SimpleRNN z liczbą neuronów 64 i odpowiednim kształtem wejścia\n",
        "# - warstwa gęsta z 10 neuronami i najczęstszą funkcją aktywacji na ostatniej warstwie dla klasyfikacji\n",
        "model.add(layers.SimpleRNN(64, input_shape=(None, 1)))\n",
        "model.add(layers.Dense(10, activation='softmax'))\n",
        "\n",
        "model.summary()\n",
        "output = model(X)\n",
        "print(output.shape)\n",
        "print(output)"
      ]
    },
    {
      "cell_type": "markdown",
      "metadata": {
        "id": "bG1kF97H6v0C"
      },
      "source": [
        "# Tworzenie warstwy RNN (N:N)\n",
        "\n",
        "\n"
      ]
    },
    {
      "cell_type": "code",
      "execution_count": 23,
      "metadata": {
        "id": "y7Ecvk4Lvk42",
        "colab": {
          "base_uri": "https://localhost:8080/"
        },
        "outputId": "9871d702-fc86-4f89-dd03-878ed22876ca"
      },
      "outputs": [
        {
          "output_type": "execute_result",
          "data": {
            "text/plain": [
              "TensorShape([1, 300, 64])"
            ]
          },
          "metadata": {},
          "execution_count": 23
        }
      ],
      "source": [
        "rnn = layers.SimpleRNN(units=64, return_sequences=True)\n",
        "output = rnn(X)\n",
        "output.shape"
      ]
    },
    {
      "cell_type": "markdown",
      "metadata": {
        "id": "vC536ruF7tRs"
      },
      "source": [
        "## Wielowarstwowa sieć RNN"
      ]
    },
    {
      "cell_type": "code",
      "execution_count": 9,
      "metadata": {
        "id": "MZNgvHo9_QCB",
        "colab": {
          "base_uri": "https://localhost:8080/"
        },
        "outputId": "ca9787a7-e9b0-4189-84d6-f361c2b6bf8d"
      },
      "outputs": [
        {
          "output_type": "stream",
          "name": "stdout",
          "text": [
            "Model: \"sequential_3\"\n",
            "_________________________________________________________________\n",
            " Layer (type)                Output Shape              Param #   \n",
            "=================================================================\n",
            " simple_rnn_4 (SimpleRNN)    (None, None, 64)          4224      \n",
            "                                                                 \n",
            " simple_rnn_5 (SimpleRNN)    (None, 64)                8256      \n",
            "                                                                 \n",
            "=================================================================\n",
            "Total params: 12,480\n",
            "Trainable params: 12,480\n",
            "Non-trainable params: 0\n",
            "_________________________________________________________________\n"
          ]
        },
        {
          "output_type": "execute_result",
          "data": {
            "text/plain": [
              "TensorShape([1, 64])"
            ]
          },
          "metadata": {},
          "execution_count": 9
        }
      ],
      "source": [
        "model = keras.Sequential()\n",
        "#proszę dodać warstwy:\n",
        "# - warstwa SimpleRNN z liczbą neuronów 64 i odpowiednim kształtem wejścia i informacją \n",
        "# aby przekazać w głąb sieci sekwencję\n",
        "# - warstwa SimpleRNN z liczbą neuronów 64\n",
        "model.add(layers.SimpleRNN(64, return_sequences=True, input_shape = (None, 1)))\n",
        "model.add(layers.SimpleRNN(64))\n",
        "\n",
        "model.summary()\n",
        "\n",
        "output = model(X)\n",
        "output.shape"
      ]
    },
    {
      "cell_type": "markdown",
      "metadata": {
        "id": "ix8zWUAe7iTm"
      },
      "source": [
        "## Zadanie: Skąd wynikają liczby parametrów?"
      ]
    },
    {
      "cell_type": "markdown",
      "metadata": {
        "id": "cnH69mFW_y_0"
      },
      "source": [
        "## Klasyfikacja wszystkich elementów sekwencji"
      ]
    },
    {
      "cell_type": "code",
      "execution_count": 10,
      "metadata": {
        "id": "QhxKkph_5c8-",
        "colab": {
          "base_uri": "https://localhost:8080/"
        },
        "outputId": "bcd32e6c-5f46-4071-c89c-6f4d83177e46"
      },
      "outputs": [
        {
          "output_type": "stream",
          "name": "stdout",
          "text": [
            "Model: \"sequential_4\"\n",
            "_________________________________________________________________\n",
            " Layer (type)                Output Shape              Param #   \n",
            "=================================================================\n",
            " simple_rnn_6 (SimpleRNN)    (None, None, 64)          4224      \n",
            "                                                                 \n",
            " simple_rnn_7 (SimpleRNN)    (None, None, 64)          8256      \n",
            "                                                                 \n",
            " time_distributed (TimeDistr  (None, None, 10)         650       \n",
            " ibuted)                                                         \n",
            "                                                                 \n",
            "=================================================================\n",
            "Total params: 13,130\n",
            "Trainable params: 13,130\n",
            "Non-trainable params: 0\n",
            "_________________________________________________________________\n"
          ]
        },
        {
          "output_type": "execute_result",
          "data": {
            "text/plain": [
              "TensorShape([1, 300, 10])"
            ]
          },
          "metadata": {},
          "execution_count": 10
        }
      ],
      "source": [
        "model = keras.Sequential()\n",
        "\n",
        "# zadeklarować warstwę SimpleRNN z liczbą neuronów 64 i odpowiednim kształtem wejścia i informacją \n",
        "# aby przekazać w głąb sieci sekwencję i odpowiednim kształtem wejścia\n",
        "rnn1 = layers.SimpleRNN(64, return_sequences=True)\n",
        "\n",
        "# zadeklarować warstwę SimpleRNN z liczbą neuronów 64 i odpowiednim kształtem wejścia i informacją \n",
        "# aby przekazać w głąb sieci sekwencję\n",
        "rnn2 = layers.SimpleRNN(64, return_sequences=True)\n",
        "\n",
        "#zadeklarować warstwę łączącą/agregującą sekwencję w sieć pełnych połączeń (coś jak flatten przy zdjęciach)\n",
        "# i przekazać do warstwy gęstej z 10 neuronami i najczęstszą funkcją aktywacji \n",
        "# na ostatniej warstwie dla klasyfikacji (hint: TimeDistributed i Dense)\n",
        "fc = layers.TimeDistributed(layers.Dense(10, activation='softmax'))\n",
        "\n",
        "model.add(rnn1)\n",
        "model.add(rnn2)\n",
        "model.add(fc)\n",
        "model.build(input_shape=(None, None, 1))\n",
        "model.summary()\n",
        "\n",
        "output = model(X)\n",
        "output.shape"
      ]
    },
    {
      "cell_type": "code",
      "execution_count": null,
      "metadata": {
        "id": "bQAvB0wv6KXh"
      },
      "outputs": [],
      "source": [
        ""
      ]
    }
  ],
  "metadata": {
    "colab": {
      "collapsed_sections": [],
      "name": "Kopia notatnika Keras_rnn_syntax-plain.ipynb",
      "provenance": [],
      "include_colab_link": true
    },
    "kernelspec": {
      "display_name": "mlp",
      "language": "python",
      "name": "mlp"
    },
    "language_info": {
      "codemirror_mode": {
        "name": "ipython",
        "version": 3
      },
      "file_extension": ".py",
      "mimetype": "text/x-python",
      "name": "python",
      "nbconvert_exporter": "python",
      "pygments_lexer": "ipython3",
      "version": "3.8.12"
    }
  },
  "nbformat": 4,
  "nbformat_minor": 0
}
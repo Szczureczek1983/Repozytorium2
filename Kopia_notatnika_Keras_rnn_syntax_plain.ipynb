{
  "cells": [
    {
      "cell_type": "markdown",
      "metadata": {
        "id": "view-in-github",
        "colab_type": "text"
      },
      "source": [
        "<a href=\"https://colab.research.google.com/github/Szczureczek1983/Repozytorium2/blob/main/Kopia_notatnika_Keras_rnn_syntax_plain.ipynb\" target=\"_parent\"><img src=\"https://colab.research.google.com/assets/colab-badge.svg\" alt=\"Open In Colab\"/></a>"
      ]
    },
    {
      "cell_type": "code",
      "execution_count": 1,
      "metadata": {
        "id": "RlIvQt0dse4l"
      },
      "outputs": [],
      "source": [
        "import numpy as np\n",
        "import tensorflow as tf\n",
        "from tensorflow import keras\n",
        "from tensorflow.keras import layers\n",
        "import matplotlib.pyplot as plt"
      ]
    },
    {
      "cell_type": "markdown",
      "metadata": {
        "id": "GfVnhMsFtsag"
      },
      "source": [
        "# Generowanie danych\n",
        "\n",
        "Na początek wygenerujmy przykładowe dane. Niech będzie to pomiar pewnej wartości. Dane powinny mieć format 1xTx1 gdzie T to ilośc próbek"
      ]
    },
    {
      "cell_type": "code",
      "execution_count": 17,
      "metadata": {
        "id": "ox4ljZWbtpX8",
        "colab": {
          "base_uri": "https://localhost:8080/",
          "height": 301
        },
        "outputId": "ae7e3ba7-0ed9-49e9-d3db-debd71bb47c6"
      },
      "outputs": [
        {
          "output_type": "stream",
          "name": "stdout",
          "text": [
            "(1, 300, 1)\n"
          ]
        },
        {
          "output_type": "execute_result",
          "data": {
            "text/plain": [
              "[<matplotlib.lines.Line2D at 0x7fafbe2a78d0>]"
            ]
          },
          "metadata": {},
          "execution_count": 17
        },
        {
          "output_type": "display_data",
          "data": {
            "text/plain": [
              "<Figure size 432x288 with 1 Axes>"
            ],
            "image/png": "[encoded data removed]"
          },
          "metadata": {
            "needs_background": "light"
          }
        }
      ],
      "source": [
        "T = 300\n",
        "time = np.linspace(0,10,T)\n",
        "X = 0.2 * time + np.random.randn(T)*0.1  + 0.5 * np.sin(time*1.5)\n",
        "X = np.expand_dims(X, 0)\n",
        "X = np.expand_dims(X, -1)\n",
        "print(X.shape)\n",
        "plt.plot(X[0, :, 0])"
      ]
    },
    {
      "cell_type": "markdown",
      "metadata": {
        "id": "TV8YJ0Eiu4lO"
      },
      "source": [
        "## Tworzenie prostej sieci RNN (N:1)"
      ]
    },
    {
      "cell_type": "code",
      "execution_count": 18,
      "metadata": {
        "id": "sWxKLpo0ubBE",
        "colab": {
          "base_uri": "https://localhost:8080/"
        },
        "outputId": "688969de-c336-4f6b-8825-d05455dfdcf7"
      },
      "outputs": [
        {
          "output_type": "stream",
          "name": "stdout",
          "text": [
            "(1, 64)\n"
          ]
        }
      ],
      "source": [
        "rnn = layers.SimpleRNN(units=64)\n",
        "output = rnn(X)\n",
        "print(output.shape)"
      ]
    },
    {
      "cell_type": "markdown",
      "metadata": {
        "id": "DYj1DiOC6VPF"
      },
      "source": [
        "## Zadanie: sprawdź wartośc min i max zwróconych wyników. Czy pasują do nieliniowości tanh?"
      ]
    },
    {
      "cell_type": "code",
      "execution_count": 19,
      "metadata": {
        "id": "5ojYIyX4uv9X",
        "colab": {
          "base_uri": "https://localhost:8080/"
        },
        "outputId": "d1a714b8-ba7b-4246-cd9e-fee9f66174b5"
      },
      "outputs": [
        {
          "output_type": "execute_result",
          "data": {
            "text/plain": [
              "-0.9130578"
            ]
          },
          "metadata": {},
          "execution_count": 19
        }
      ],
      "source": [
        "np.min(output)"
      ]
    },
    {
      "cell_type": "code",
      "source": [
        "np.max(output)"
      ],
      "metadata": {
        "colab": {
          "base_uri": "https://localhost:8080/"
        },
        "id": "lwtaRw6dET06",
        "outputId": "1f651849-4c15-4cd5-b974-22be17d45318"
      },
      "execution_count": 20,
      "outputs": [
        {
          "output_type": "execute_result",
          "data": {
            "text/plain": [
              "0.90753984"
            ]
          },
          "metadata": {},
          "execution_count": 20
        }
      ]
    },
    {
      "cell_type": "markdown",
      "metadata": {
        "id": "EOUQO92j-Sbd"
      },
      "source": [
        "## Klasyfikacja całej sekwencji do jednej z 10 klas"
      ]
    },
    {
      "cell_type": "code",
      "execution_count": 22,
      "metadata": {
        "id": "QbqQtpB7-bab",
        "colab": {
          "base_uri": "https://localhost:8080/"
        },
        "outputId": "27ee4e0a-ca4a-4313-c230-4e84d278a82c"
      },
      "outputs": [
        {
          "output_type": "stream",
          "name": "stdout",
          "text": [
            "Model: \"sequential_6\"\n",
            "_________________________________________________________________\n",
            " Layer (type)                Output Shape              Param #   \n",
            "=================================================================\n",
            " simple_rnn_11 (SimpleRNN)   (None, 64)                4224      \n",
            "                                                                 \n",
            " dense_6 (Dense)             (None, 10)                650       \n",
            "                                                                 \n",
            "=================================================================\n",
            "Total params: 4,874\n",
            "Trainable params: 4,874\n",
            "Non-trainable params: 0\n",
            "_________________________________________________________________\n",
            "(1, 10)\n",
            "tf.Tensor(\n",
            "[[0.07730747 0.08935059 0.05487949 0.11216625 0.06851994 0.10222571\n",
            "  0.04047951 0.16538781 0.07023218 0.21945113]], shape=(1, 10), dtype=float32)\n"
          ]
        }
      ],
      "source": [
        "model = keras.Sequential()\n",
        "#proszę dodać warstwy:\n",
        "# - warstwa SimpleRNN z liczbą neuronów 64 i odpowiednim kształtem wejścia\n",
        "# - warstwa gęsta z 10 neuronami i najczęstszą funkcją aktywacji na ostatniej warstwie dla klasyfikacji\n",
        "model.add(layers.SimpleRNN(64, input_shape=(None, 1)))\n",
        "model.add(layers.Dense(10, activation='softmax'))\n",
        "\n",
        "model.summary()\n",
        "output = model(X)\n",
        "print(output.shape)\n",
        "print(output)"
      ]
    },
    {
      "cell_type": "markdown",
      "metadata": {
        "id": "bG1kF97H6v0C"
      },
      "source": [
        "# Tworzenie warstwy RNN (N:N)\n",
        "\n",
        "\n"
      ]
    },
    {
      "cell_type": "code",
      "execution_count": 23,
      "metadata": {
        "id": "y7Ecvk4Lvk42",
        "colab": {
          "base_uri": "https://localhost:8080/"
        },
        "outputId": "9871d702-fc86-4f89-dd03-878ed22876ca"
      },
      "outputs": [
        {
          "output_type": "execute_result",
          "data": {
            "text/plain": [
              "TensorShape([1, 300, 64])"
            ]
          },
          "metadata": {},
          "execution_count": 23
        }
      ],
      "source": [
        "rnn = layers.SimpleRNN(units=64, return_sequences=True)\n",
        "output = rnn(X)\n",
        "output.shape"
      ]
    },
    {
      "cell_type": "markdown",
      "metadata": {
        "id": "vC536ruF7tRs"
      },
      "source": [
        "## Wielowarstwowa sieć RNN"
      ]
    },
    {
      "cell_type": "code",
      "execution_count": null,
      "metadata": {
        "id": "MZNgvHo9_QCB"
      },
      "outputs": [],
      "source": [
        "model = keras.Sequential()\n",
        "#proszę dodać warstwy:\n",
        "# - warstwa SimpleRNN z liczbą neuronów 64 i odpowiednim kształtem wejścia i informacją \n",
        "# aby przekazać w głąb sieci sekwencję\n",
        "# - warstwa SimpleRNN z liczbą neuronów 64\n",
        "\n",
        "\n",
        "model.summary()\n",
        "\n",
        "output = model(X)\n",
        "output.shape"
      ]
    },
    {
      "cell_type": "markdown",
      "metadata": {
        "id": "ix8zWUAe7iTm"
      },
      "source": [
        "## Zadanie: Skąd wynikają liczby parametrów?"
      ]
    },
    {
      "cell_type": "markdown",
      "metadata": {
        "id": "cnH69mFW_y_0"
      },
      "source": [
        "## Klasyfikacja wszystkich elementów sekwencji"
      ]
    },
    {
      "cell_type": "code",
      "execution_count": null,
      "metadata": {
        "id": "QhxKkph_5c8-"
      },
      "outputs": [],
      "source": [
        "model = keras.Sequential()\n",
        "\n",
        "# zadeklarować warstwę SimpleRNN z liczbą neuronów 64 i odpowiednim kształtem wejścia i informacją \n",
        "# aby przekazać w głąb sieci sekwencję i odpowiednim kształtem wejścia\n",
        "rnn1 = None\n",
        "\n",
        "# zadeklarować warstwę SimpleRNN z liczbą neuronów 64 i odpowiednim kształtem wejścia i informacją \n",
        "# aby przekazać w głąb sieci sekwencję\n",
        "rnn2 = None\n",
        "\n",
        "#zadeklarować warstwę łączącą/agregującą sekwencję w sieć pełnych połączeń (coś jak flatten przy zdjęciach)\n",
        "# i przekazać do warstwy gęstej z 10 neuronami i najczęstszą funkcją aktywacji \n",
        "# na ostatniej warstwie dla klasyfikacji (hint: TimeDistributed i Dense)\n",
        "fc = None\n",
        "\n",
        "model.add(rnn1)\n",
        "model.add(rnn2)\n",
        "model.add(fc)\n",
        "model.build(input_shape=(None, None, 1))\n",
        "model.summary()\n",
        "\n",
        "output = model(X)\n",
        "output.shape"
      ]
    },
    {
      "cell_type": "code",
      "execution_count": null,
      "metadata": {
        "id": "bQAvB0wv6KXh"
      },
      "outputs": [],
      "source": [
        ""
      ]
    }
  ],
  "metadata": {
    "colab": {
      "collapsed_sections": [],
      "name": "Kopia notatnika Keras_rnn_syntax-plain.ipynb",
      "provenance": [],
      "include_colab_link": true
    },
    "kernelspec": {
      "display_name": "mlp",
      "language": "python",
      "name": "mlp"
    },
    "language_info": {
      "codemirror_mode": {
        "name": "ipython",
        "version": 3
      },
      "file_extension": ".py",
      "mimetype": "text/x-python",
      "name": "python",
      "nbconvert_exporter": "python",
      "pygments_lexer": "ipython3",
      "version": "3.8.12"
    }
  },
  "nbformat": 4,
  "nbformat_minor": 0
}